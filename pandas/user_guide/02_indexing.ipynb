{
 "cells": [
  {
   "cell_type": "markdown",
   "metadata": {
    "collapsed": true,
    "pycharm": {
     "name": "#%% md\n"
    }
   },
   "source": [
    "https://pandas.pydata.org/docs/user_guide/indexing.html\n",
    "\n",
    "\n"
   ]
  },
  {
   "cell_type": "code",
   "execution_count": null,
   "outputs": [],
   "source": [
    "import pandas as pd\n",
    "import numpy as np\n",
    "dates = pd.date_range('1/1/2000', periods=8)\n",
    "\n",
    "df = pd.DataFrame(np.random.randn(8, 4),\n",
    "                 index=dates, columns=['A', 'B', 'C', 'D'])\n",
    "df"
   ],
   "metadata": {
    "collapsed": false,
    "pycharm": {
     "name": "#%%\n",
     "is_executing": true
    }
   }
  },
  {
   "cell_type": "code",
   "execution_count": 3,
   "outputs": [
    {
     "data": {
      "text/plain": "(2000-01-01    0.491117\n 2000-01-02   -1.016930\n 2000-01-03    1.511459\n 2000-01-04    0.187020\n 2000-01-05   -0.258027\n 2000-01-06    0.712889\n 2000-01-07   -0.254592\n 2000-01-08    0.751960\n Freq: D, Name: A, dtype: float64,\n Timestamp('2000-01-06 00:00:00', freq='D'),\n 0.7128889441298684)"
     },
     "execution_count": 3,
     "metadata": {},
     "output_type": "execute_result"
    }
   ],
   "source": [
    "s = df['A']\n",
    "\n",
    "s,dates[5],s[dates[5]]"
   ],
   "metadata": {
    "collapsed": false,
    "pycharm": {
     "name": "#%%\n"
    }
   }
  },
  {
   "cell_type": "code",
   "execution_count": 4,
   "outputs": [
    {
     "data": {
      "text/plain": "                   A         B         C         D\n2000-01-01 -0.353555  0.491117 -1.111036  0.608831\n2000-01-02 -0.608954 -1.016930  0.079493 -0.928728\n2000-01-03 -0.211587  1.511459 -1.647703  0.472781\n2000-01-04  0.113305  0.187020  0.319407  0.108973\n2000-01-05 -0.439127 -0.258027 -0.685852  0.507151\n2000-01-06 -0.425566  0.712889  0.894625  0.216391\n2000-01-07 -0.066574 -0.254592 -1.614199 -1.627364\n2000-01-08 -0.949286  0.751960 -2.531739  0.720655",
      "text/html": "<div>\n<style scoped>\n    .dataframe tbody tr th:only-of-type {\n        vertical-align: middle;\n    }\n\n    .dataframe tbody tr th {\n        vertical-align: top;\n    }\n\n    .dataframe thead th {\n        text-align: right;\n    }\n</style>\n<table border=\"1\" class=\"dataframe\">\n  <thead>\n    <tr style=\"text-align: right;\">\n      <th></th>\n      <th>A</th>\n      <th>B</th>\n      <th>C</th>\n      <th>D</th>\n    </tr>\n  </thead>\n  <tbody>\n    <tr>\n      <th>2000-01-01</th>\n      <td>-0.353555</td>\n      <td>0.491117</td>\n      <td>-1.111036</td>\n      <td>0.608831</td>\n    </tr>\n    <tr>\n      <th>2000-01-02</th>\n      <td>-0.608954</td>\n      <td>-1.016930</td>\n      <td>0.079493</td>\n      <td>-0.928728</td>\n    </tr>\n    <tr>\n      <th>2000-01-03</th>\n      <td>-0.211587</td>\n      <td>1.511459</td>\n      <td>-1.647703</td>\n      <td>0.472781</td>\n    </tr>\n    <tr>\n      <th>2000-01-04</th>\n      <td>0.113305</td>\n      <td>0.187020</td>\n      <td>0.319407</td>\n      <td>0.108973</td>\n    </tr>\n    <tr>\n      <th>2000-01-05</th>\n      <td>-0.439127</td>\n      <td>-0.258027</td>\n      <td>-0.685852</td>\n      <td>0.507151</td>\n    </tr>\n    <tr>\n      <th>2000-01-06</th>\n      <td>-0.425566</td>\n      <td>0.712889</td>\n      <td>0.894625</td>\n      <td>0.216391</td>\n    </tr>\n    <tr>\n      <th>2000-01-07</th>\n      <td>-0.066574</td>\n      <td>-0.254592</td>\n      <td>-1.614199</td>\n      <td>-1.627364</td>\n    </tr>\n    <tr>\n      <th>2000-01-08</th>\n      <td>-0.949286</td>\n      <td>0.751960</td>\n      <td>-2.531739</td>\n      <td>0.720655</td>\n    </tr>\n  </tbody>\n</table>\n</div>"
     },
     "execution_count": 4,
     "metadata": {},
     "output_type": "execute_result"
    }
   ],
   "source": [
    "# 交换ab两列\n",
    "df[['B', 'A']] = df[['A', 'B']]\n",
    "#or df.loc[:, ['B', 'A']] = df[['A', 'B']].to_numpy()\n",
    "df"
   ],
   "metadata": {
    "collapsed": false,
    "pycharm": {
     "name": "#%%\n"
    }
   }
  },
  {
   "cell_type": "markdown",
   "source": [
    "- iloc按行号、列号来索引（推荐）\n",
    "\n",
    "1)取一行 ：data.iloc[0]  、data.iloc[0,:]\n",
    "\n",
    "2)取多行 ：data.iloc[[0,2]] 、data.iloc[[0,2],:]\n",
    "\n",
    "3)取连续多行 ：data.iloc[0:2] 、data.iloc[0:2,:]\n",
    "\n",
    "4)取一列 ： data.iloc[:,0]\n",
    "\n",
    "5)取多列 ：data.iloc[:,[0,2]]、data.iloc[:,[0,2]]\n",
    "\n",
    "6)取连续多列 ：data.iloc[:,0:2]\n",
    "\n",
    "- loc按行名、列名来索引（推荐）\n",
    "\n",
    "1)取一行：data.loc['row1']   、data.loc['row1',:]\n",
    "\n",
    "2)取多行：data.loc[['row1','row2']]  、data.loc[['row1','row2'],:]\n",
    "\n",
    "3)取连续多行：data.loc['row1':'row2']   、data.loc['row1':'row2',:]\n",
    "\n",
    "4)取一列：data.loc[:,'col1']\n",
    "\n",
    "5)取多列：data.loc[:,['row1','row2']]\n",
    "\n",
    "6)取连续多列：data.loc[:,'row1':'row2']"
   ],
   "metadata": {
    "collapsed": false,
    "pycharm": {
     "name": "#%% md\n"
    }
   }
  },
  {
   "cell_type": "code",
   "execution_count": 8,
   "outputs": [
    {
     "data": {
      "text/plain": "(                   A         B\n 2000-01-01 -0.353555  0.491117\n 2000-01-02 -0.608954 -1.016930\n 2000-01-03 -0.211587  1.511459\n 2000-01-04  0.113305  0.187020\n 2000-01-05 -0.439127 -0.258027\n 2000-01-06 -0.425566  0.712889\n 2000-01-07 -0.066574 -0.254592\n 2000-01-08 -0.949286  0.751960,\n                    B         A\n 2000-01-01  0.491117 -0.353555\n 2000-01-02 -1.016930 -0.608954\n 2000-01-03  1.511459 -0.211587\n 2000-01-04  0.187020  0.113305\n 2000-01-05 -0.258027 -0.439127\n 2000-01-06  0.712889 -0.425566\n 2000-01-07 -0.254592 -0.066574\n 2000-01-08  0.751960 -0.949286)"
     },
     "execution_count": 8,
     "metadata": {},
     "output_type": "execute_result"
    }
   ],
   "source": [
    "# loc 是用字符串索引\n",
    "# iloc是用下标索引\n",
    "\"\"\"\n",
    "print(df.loc['20130102'])\n",
    "print(df.loc[:,['A','B']])\n",
    "print(df.loc['20130102',['A','B']])\n",
    "\n",
    "print(df.iloc[3,1])\n",
    "print(df.iloc[3:5,1:3])\n",
    "print(df.iloc[[1,3,5],1:3])\n",
    "print(df.iloc[[1,3,5],[1,3]])\n",
    "\"\"\"\n",
    "df[['A', 'B']],df.loc[:, ['B', 'A']]\n"
   ],
   "metadata": {
    "collapsed": false,
    "pycharm": {
     "name": "#%%\n"
    }
   }
  },
  {
   "cell_type": "code",
   "execution_count": 13,
   "outputs": [
    {
     "data": {
      "text/plain": "(2,\n 2000-01-01   -0.353555\n 2000-01-02   -0.608954\n 2000-01-03   -0.211587\n 2000-01-04    0.113305\n 2000-01-05   -0.439127\n 2000-01-06   -0.425566\n 2000-01-07   -0.066574\n 2000-01-08   -0.949286\n Freq: D, Name: A, dtype: float64)"
     },
     "execution_count": 13,
     "metadata": {},
     "output_type": "execute_result"
    }
   ],
   "source": [
    "sa = pd.Series([1, 2, 3], index=list('abc'))\n",
    "dfa = df.copy()\n",
    "sa.b,dfa.A"
   ],
   "metadata": {
    "collapsed": false,
    "pycharm": {
     "name": "#%%\n"
    }
   }
  },
  {
   "cell_type": "code",
   "execution_count": 15,
   "outputs": [
    {
     "data": {
      "text/plain": "(a    5\n b    2\n c    3\n dtype: int64,\n             A         B         C         D\n 2000-01-01  0  0.491117 -1.111036  0.608831\n 2000-01-02  1 -1.016930  0.079493 -0.928728\n 2000-01-03  2  1.511459 -1.647703  0.472781\n 2000-01-04  3  0.187020  0.319407  0.108973\n 2000-01-05  4 -0.258027 -0.685852  0.507151\n 2000-01-06  5  0.712889  0.894625  0.216391\n 2000-01-07  6 -0.254592 -1.614199 -1.627364\n 2000-01-08  7  0.751960 -2.531739  0.720655)"
     },
     "execution_count": 15,
     "metadata": {},
     "output_type": "execute_result"
    }
   ],
   "source": [
    "# 直接赋值\n",
    "sa.a = 5\n",
    "dfa.A = list(range(len(dfa.index)))\n",
    "sa,dfa"
   ],
   "metadata": {
    "collapsed": false,
    "pycharm": {
     "name": "#%%\n"
    }
   }
  },
  {
   "cell_type": "code",
   "execution_count": 16,
   "outputs": [
    {
     "data": {
      "text/plain": "   x   y\n0  1   3\n1  9  99\n2  3   5",
      "text/html": "<div>\n<style scoped>\n    .dataframe tbody tr th:only-of-type {\n        vertical-align: middle;\n    }\n\n    .dataframe tbody tr th {\n        vertical-align: top;\n    }\n\n    .dataframe thead th {\n        text-align: right;\n    }\n</style>\n<table border=\"1\" class=\"dataframe\">\n  <thead>\n    <tr style=\"text-align: right;\">\n      <th></th>\n      <th>x</th>\n      <th>y</th>\n    </tr>\n  </thead>\n  <tbody>\n    <tr>\n      <th>0</th>\n      <td>1</td>\n      <td>3</td>\n    </tr>\n    <tr>\n      <th>1</th>\n      <td>9</td>\n      <td>99</td>\n    </tr>\n    <tr>\n      <th>2</th>\n      <td>3</td>\n      <td>5</td>\n    </tr>\n  </tbody>\n</table>\n</div>"
     },
     "execution_count": 16,
     "metadata": {},
     "output_type": "execute_result"
    }
   ],
   "source": [
    "x = pd.DataFrame({'x': [1, 2, 3], 'y': [3, 4, 5]})\n",
    "\n",
    "x.iloc[1] = {'x': 9, 'y': 99}\n",
    "x"
   ],
   "metadata": {
    "collapsed": false,
    "pycharm": {
     "name": "#%%\n"
    }
   }
  },
  {
   "cell_type": "code",
   "execution_count": 19,
   "outputs": [
    {
     "name": "stderr",
     "output_type": "stream",
     "text": [
      "d:\\programdata\\miniconda3\\lib\\site-packages\\ipykernel_launcher.py:2: UserWarning: Pandas doesn't allow columns to be created via a new attribute name - see https://pandas.pydata.org/pandas-docs/stable/indexing.html#attribute-access\n",
      "  \n"
     ]
    },
    {
     "data": {
      "text/plain": "   one  three\n0  1.0      7\n1  2.0      8\n2  3.0      9",
      "text/html": "<div>\n<style scoped>\n    .dataframe tbody tr th:only-of-type {\n        vertical-align: middle;\n    }\n\n    .dataframe tbody tr th {\n        vertical-align: top;\n    }\n\n    .dataframe thead th {\n        text-align: right;\n    }\n</style>\n<table border=\"1\" class=\"dataframe\">\n  <thead>\n    <tr style=\"text-align: right;\">\n      <th></th>\n      <th>one</th>\n      <th>three</th>\n    </tr>\n  </thead>\n  <tbody>\n    <tr>\n      <th>0</th>\n      <td>1.0</td>\n      <td>7</td>\n    </tr>\n    <tr>\n      <th>1</th>\n      <td>2.0</td>\n      <td>8</td>\n    </tr>\n    <tr>\n      <th>2</th>\n      <td>3.0</td>\n      <td>9</td>\n    </tr>\n  </tbody>\n</table>\n</div>"
     },
     "execution_count": 19,
     "metadata": {},
     "output_type": "execute_result"
    }
   ],
   "source": [
    "df = pd.DataFrame({'one': [1., 2., 3.]})\n",
    "df.two = [4, 5, 6] # 这个是不行的\n",
    "df[\"three\"] = [7, 8, 9]\n",
    "df"
   ],
   "metadata": {
    "collapsed": false,
    "pycharm": {
     "name": "#%%\n"
    }
   }
  },
  {
   "cell_type": "code",
   "execution_count": 20,
   "outputs": [
    {
     "data": {
      "text/plain": "(2000-01-01   -0.353555\n 2000-01-02   -0.608954\n 2000-01-03   -0.211587\n 2000-01-04    0.113305\n 2000-01-05   -0.439127\n 2000-01-06   -0.425566\n 2000-01-07   -0.066574\n 2000-01-08   -0.949286\n Freq: D, Name: A, dtype: float64,\n 2000-01-01   -0.353555\n 2000-01-02   -0.608954\n 2000-01-03   -0.211587\n 2000-01-04    0.113305\n 2000-01-05   -0.439127\n Freq: D, Name: A, dtype: float64,\n 2000-01-01   -0.353555\n 2000-01-03   -0.211587\n 2000-01-05   -0.439127\n 2000-01-07   -0.066574\n Freq: 2D, Name: A, dtype: float64,\n 2000-01-08   -0.949286\n 2000-01-07   -0.066574\n 2000-01-06   -0.425566\n 2000-01-05   -0.439127\n 2000-01-04    0.113305\n 2000-01-03   -0.211587\n 2000-01-02   -0.608954\n 2000-01-01   -0.353555\n Freq: -1D, Name: A, dtype: float64)"
     },
     "execution_count": 20,
     "metadata": {},
     "output_type": "execute_result"
    }
   ],
   "source": [
    "s1 = s.copy() # s = df['A'] 也就是一列数据\n",
    "s1,s1[:5],s1[::2],s1[::-1]\n"
   ],
   "metadata": {
    "collapsed": false,
    "pycharm": {
     "name": "#%%\n"
    }
   }
  },
  {
   "cell_type": "code",
   "execution_count": 21,
   "outputs": [
    {
     "data": {
      "text/plain": "(   one  three\n 0  1.0      7\n 1  2.0      8\n 2  3.0      9,\n    one  three\n 2  3.0      9\n 1  2.0      8\n 0  1.0      7)"
     },
     "execution_count": 21,
     "metadata": {},
     "output_type": "execute_result"
    }
   ],
   "source": [
    "df[:3],df[::-1]"
   ],
   "metadata": {
    "collapsed": false,
    "pycharm": {
     "name": "#%%\n"
    }
   }
  },
  {
   "cell_type": "code",
   "execution_count": 22,
   "outputs": [
    {
     "data": {
      "text/plain": "(                   A         B         C         D\n 2013-01-01  0.662333  0.253148 -2.216670  1.400305\n 2013-01-02 -0.628700  0.142157  0.991191 -1.482666\n 2013-01-03  1.016779  2.387325  0.326055 -0.170477\n 2013-01-04 -0.396337 -1.153187 -1.648128  0.720834\n 2013-01-05  0.353549 -0.094649  0.436289  0.187920,\n                    A         B         C         D\n 2013-01-02 -0.628700  0.142157  0.991191 -1.482666\n 2013-01-03  1.016779  2.387325  0.326055 -0.170477\n 2013-01-04 -0.396337 -1.153187 -1.648128  0.720834,\n                    A         B         C         D\n 2013-01-02 -0.628700  0.142157  0.991191 -1.482666\n 2013-01-03  1.016779  2.387325  0.326055 -0.170477\n 2013-01-04 -0.396337 -1.153187 -1.648128  0.720834)"
     },
     "execution_count": 22,
     "metadata": {},
     "output_type": "execute_result"
    }
   ],
   "source": [
    "dfl = pd.DataFrame(np.random.randn(5, 4),\n",
    "                    columns=list('ABCD'),\n",
    "                    index=pd.date_range('20130101', periods=5))\n",
    "\n",
    "dfl,dfl.loc['20130102':'20130104'],dfl.loc['2013-01-02':'2013-01-04']"
   ],
   "metadata": {
    "collapsed": false,
    "pycharm": {
     "name": "#%%\n"
    }
   }
  },
  {
   "cell_type": "code",
   "execution_count": 23,
   "outputs": [
    {
     "data": {
      "text/plain": "(a    0.316972\n b   -1.716573\n c   -0.984207\n d   -1.635443\n e   -0.273821\n f   -0.925078\n dtype: float64,\n c   -0.984207\n d   -1.635443\n e   -0.273821\n f   -0.925078\n dtype: float64,\n -1.7165732272346057)"
     },
     "execution_count": 23,
     "metadata": {},
     "output_type": "execute_result"
    }
   ],
   "source": [
    "s1 = pd.Series(np.random.randn(6), index=list('abcdef'))\n",
    "s1,s1.loc['c':],s1.loc['b']"
   ],
   "metadata": {
    "collapsed": false,
    "pycharm": {
     "name": "#%%\n"
    }
   }
  },
  {
   "cell_type": "code",
   "execution_count": 24,
   "outputs": [
    {
     "data": {
      "text/plain": "(          A         B         C         D\n a  0.132414 -0.965640  0.174398  0.324024\n b -1.657072 -0.302328  1.422292  0.544960\n c  0.028774  0.145441  0.019327  2.351714\n d  0.318677 -0.986461 -1.131346  1.990694\n e  0.469695 -0.074203  1.331789  0.450016\n f -0.360557  0.996148 -0.933206  2.160353,\n           A         B         C         D\n a  0.132414 -0.965640  0.174398  0.324024\n b -1.657072 -0.302328  1.422292  0.544960\n d  0.318677 -0.986461 -1.131346  1.990694,\n           A         B         C\n d  0.318677 -0.986461 -1.131346\n e  0.469695 -0.074203  1.331789\n f -0.360557  0.996148 -0.933206,\n A    0.132414\n B   -0.965640\n C    0.174398\n D    0.324024\n Name: a, dtype: float64,\n A    0.132414\n B   -0.965640\n C    0.174398\n D    0.324024\n Name: a, dtype: float64,\n A     True\n B    False\n C     True\n D     True\n Name: a, dtype: bool,\n           A         C         D\n a  0.132414  0.174398  0.324024\n b -1.657072  1.422292  0.544960\n c  0.028774  0.019327  2.351714\n d  0.318677 -1.131346  1.990694\n e  0.469695  1.331789  0.450016\n f -0.360557 -0.933206  2.160353,\n 0.1324140842136266)"
     },
     "execution_count": 24,
     "metadata": {},
     "output_type": "execute_result"
    }
   ],
   "source": [
    "df1 = pd.DataFrame(np.random.randn(6, 4),\n",
    "                    index=list('abcdef'),\n",
    "                    columns=list('ABCD'))\n",
    "df1,\\\n",
    "df1.loc[['a', 'b', 'd'], :],\\\n",
    "df1.loc['d':, 'A':'C'],\\\n",
    "df1.loc['a'],\\\n",
    "df1.xs('a'),\\\n",
    "df1.loc['a'] > 0,\\\n",
    "df1.loc[:, df1.loc['a'] > 0],\\\n",
    "df1.loc['a', 'A']\n"
   ],
   "metadata": {
    "collapsed": false,
    "pycharm": {
     "name": "#%%\n"
    }
   }
  },
  {
   "cell_type": "code",
   "execution_count": 27,
   "outputs": [
    {
     "data": {
      "text/plain": "(0    a\n 3    b\n 2    c\n 5    d\n 4    e\n dtype: object,\n 3    b\n 2    c\n 5    d\n dtype: object,\n 0    a\n 2    c\n 3    b\n 4    e\n 5    d\n dtype: object,\n 2    c\n 3    b\n 4    e\n 5    d\n dtype: object)"
     },
     "execution_count": 27,
     "metadata": {},
     "output_type": "execute_result"
    }
   ],
   "source": [
    "s = pd.Series(list('abcde'), index=[0, 3, 2, 5, 4])\n",
    "s,s.loc[3:5],s.sort_index(),s.sort_index().loc[1:6]\n",
    "# 但是，如果不存在两者中的至少一个并且未对索引进行排序，则将引发错误\n",
    "# （因为这样做会导致计算量大，并且可能对混合类型索引造成歧义）。\n",
    "# 例如，在上面的示例中，s.loc [1：6]将引发KeyError。"
   ],
   "metadata": {
    "collapsed": false,
    "pycharm": {
     "name": "#%%\n"
    }
   }
  },
  {
   "cell_type": "code",
   "execution_count": 28,
   "outputs": [
    {
     "data": {
      "text/plain": "(0    0.589071\n 2   -0.454884\n 4    0.565108\n 6    1.006749\n 8    0.005198\n dtype: float64,\n 0    0.589071\n 2   -0.454884\n 4    0.565108\n dtype: float64,\n 1.0067494560671275)"
     },
     "execution_count": 28,
     "metadata": {},
     "output_type": "execute_result"
    }
   ],
   "source": [
    "s1 = pd.Series(np.random.randn(5), index=list(range(0, 10, 2)))\n",
    "s1,s1.iloc[:3],s1.iloc[3]\n"
   ],
   "metadata": {
    "collapsed": false,
    "pycharm": {
     "name": "#%%\n"
    }
   }
  },
  {
   "cell_type": "code",
   "execution_count": 29,
   "outputs": [
    {
     "data": {
      "text/plain": "(           0         2         4         6\n 0   2.483343 -0.478666  0.272780 -0.269149\n 2   0.158815  1.222221 -1.373862  0.385147\n 4  -0.615608 -2.522395  0.518361 -0.031963\n 6  -0.809985 -0.840673 -1.359982  1.052503\n 8   0.057754  0.412761  1.357052 -1.676883\n 10  1.120070 -0.075628  1.002978  0.675243,\n           0         2         4         6\n 0  2.483343 -0.478666  0.272780 -0.269149\n 2  0.158815  1.222221 -1.373862  0.385147\n 4 -0.615608 -2.522395  0.518361 -0.031963,\n           4         6\n 2 -1.373862  0.385147\n 4  0.518361 -0.031963\n 6 -1.359982  1.052503\n 8  1.357052 -1.676883,\n            2         6\n 2   1.222221  0.385147\n 6  -0.840673  1.052503\n 10 -0.075628  0.675243,\n           0         2         4         6\n 2  0.158815  1.222221 -1.373862  0.385147\n 4 -0.615608 -2.522395  0.518361 -0.031963,\n            2         4\n 0  -0.478666  0.272780\n 2   1.222221 -1.373862\n 4  -2.522395  0.518361\n 6  -0.840673 -1.359982\n 8   0.412761  1.357052\n 10 -0.075628  1.002978,\n 1.2222214983162867,\n 0    0.158815\n 2    1.222221\n 4   -1.373862\n 6    0.385147\n Name: 2, dtype: float64)"
     },
     "execution_count": 29,
     "metadata": {},
     "output_type": "execute_result"
    }
   ],
   "source": [
    "df1 = pd.DataFrame(np.random.randn(6, 4),\n",
    "                    index=list(range(0, 12, 2)),\n",
    "                    columns=list(range(0, 8, 2)))\n",
    "df1,\\\n",
    "df1.iloc[:3],\\\n",
    "df1.iloc[1:5, 2:4],\\\n",
    "df1.iloc[[1, 3, 5], [1, 3]],\\\n",
    "df1.iloc[1:3, :],\\\n",
    "df1.iloc[:, 1:3],\\\n",
    "df1.iloc[1, 1],\\\n",
    "df1.iloc[1]\n"
   ],
   "metadata": {
    "collapsed": false,
    "pycharm": {
     "name": "#%%\n"
    }
   }
  },
  {
   "cell_type": "code",
   "execution_count": 30,
   "outputs": [
    {
     "data": {
      "text/plain": "(['e', 'f'],\n [],\n 4    e\n 5    f\n dtype: object,\n Series([], dtype: object))"
     },
     "execution_count": 30,
     "metadata": {},
     "output_type": "execute_result"
    }
   ],
   "source": [
    "# 超出范围切片索引的处理方式与Python / Numpy中一样。\n",
    "x = list('abcdef')\n",
    "s = pd.Series(x)\n",
    "x[4:10],x[8:10],\\\n",
    "s.iloc[4:10],s.iloc[8:10]"
   ],
   "metadata": {
    "collapsed": false,
    "pycharm": {
     "name": "#%%\n"
    }
   }
  },
  {
   "cell_type": "code",
   "execution_count": 31,
   "outputs": [
    {
     "data": {
      "text/plain": "(          A         B\n 0  0.198865 -2.253942\n 1 -0.244468 -0.117211\n 2 -2.320227 -1.336805\n 3  0.770591  0.794624\n 4  0.234669  2.273181,\n Empty DataFrame\n Columns: []\n Index: [0, 1, 2, 3, 4],\n           B\n 0 -2.253942\n 1 -0.117211\n 2 -1.336805\n 3  0.794624\n 4  2.273181,\n           A         B\n 4  0.234669  2.273181)"
     },
     "execution_count": 31,
     "metadata": {},
     "output_type": "execute_result"
    }
   ],
   "source": [
    "#注意，使用越界的片可能会导致一个空轴(例如返回一个空的数据格式)。\n",
    "\"\"\"\n",
    "超出范围的单个索引器将引发IndexError。 任何元素超出范围的索引器列表都会引发IndexError。\n",
    ">>> dfl.iloc[[4, 5, 6]]\n",
    "IndexError: positional indexers are out-of-bounds\n",
    "\n",
    ">>> dfl.iloc[:, 4]\n",
    "IndexError: single positional indexer is out-of-bounds\n",
    "\n",
    "\"\"\"\n",
    "dfl = pd.DataFrame(np.random.randn(5, 2), columns=list('AB'))\n",
    "dfl,\\\n",
    "dfl.iloc[:, 2:3],\\\n",
    "dfl.iloc[:, 1:3],\\\n",
    "dfl.iloc[4:6]"
   ],
   "metadata": {
    "collapsed": false,
    "pycharm": {
     "name": "#%%\n"
    }
   }
  },
  {
   "cell_type": "code",
   "execution_count": 32,
   "outputs": [
    {
     "data": {
      "text/plain": "(          A         B         C         D\n a  0.511324  0.360382  0.093968  1.318524\n b  0.028647 -1.094936  0.378292  0.007930\n c -0.053183  0.374719 -0.480544  0.137062\n d  1.824988 -0.633818  0.741894 -0.266018\n e -0.804121 -1.210853 -1.914884  0.593198\n f -0.535252  1.896321 -0.382054  0.515411,\n           A         B         C         D\n a  0.511324  0.360382  0.093968  1.318524\n b  0.028647 -1.094936  0.378292  0.007930\n d  1.824988 -0.633818  0.741894 -0.266018,\n           A         B\n a  0.511324  0.360382\n b  0.028647 -1.094936\n c -0.053183  0.374719\n d  1.824988 -0.633818\n e -0.804121 -1.210853\n f -0.535252  1.896321,\n           A         B\n a  0.511324  0.360382\n b  0.028647 -1.094936\n c -0.053183  0.374719\n d  1.824988 -0.633818\n e -0.804121 -1.210853\n f -0.535252  1.896321,\n a    0.511324\n b    0.028647\n c   -0.053183\n d    1.824988\n e   -0.804121\n f   -0.535252\n Name: A, dtype: float64,\n a    0.511324\n b    0.028647\n d    1.824988\n Name: A, dtype: float64)"
     },
     "execution_count": 32,
     "metadata": {},
     "output_type": "execute_result"
    }
   ],
   "source": [
    "df1 = pd.DataFrame(np.random.randn(6, 4),\n",
    "                    index=list('abcdef'),\n",
    "                    columns=list('ABCD'))\n",
    "df1,\\\n",
    "df1.loc[lambda df: df['A'] > 0, :],\\\n",
    "df1.loc[:, lambda df: ['A', 'B']],\\\n",
    "df1.iloc[:, lambda df: [0, 1]],\\\n",
    "df1[lambda df: df.columns[0]],\\\n",
    "df1['A'].loc[lambda s: s > 0]\n"
   ],
   "metadata": {
    "collapsed": false,
    "pycharm": {
     "name": "#%%\n"
    }
   }
  },
  {
   "cell_type": "code",
   "execution_count": 36,
   "outputs": [
    {
     "data": {
      "text/plain": "(   A  B\n a  1  4\n b  2  5\n c  3  6,\n a    1\n c    3\n Name: A, dtype: int64,\n a    1\n c    3\n Name: A, dtype: int64,\n    A\n a  1\n c  3)"
     },
     "execution_count": 36,
     "metadata": {},
     "output_type": "execute_result"
    }
   ],
   "source": [
    "dfd = pd.DataFrame({'A': [1, 2, 3],\n",
    "                    'B': [4, 5, 6]},\n",
    "                   index=list('abc'))\n",
    "# dfd.ix[[0, 2], 'A'] 可以用以下方法替代\n",
    "# 要获取多个索引器，请使用.get_indexer：\n",
    "dfd,\\\n",
    "dfd.loc[dfd.index[[0, 2]], 'A'],\\\n",
    "dfd.iloc[[0, 2], dfd.columns.get_loc('A')],\\\n",
    "dfd.iloc[[0, 2], dfd.columns.get_indexer(['A'])]"
   ],
   "metadata": {
    "collapsed": false,
    "pycharm": {
     "name": "#%%\n"
    }
   }
  },
  {
   "cell_type": "code",
   "execution_count": 41,
   "outputs": [
    {
     "data": {
      "text/plain": "(0    1\n 1    2\n 2    3\n dtype: int64,\n 1    2.0\n 2    3.0\n 3    NaN\n dtype: float64,\n 1    2\n 2    3\n dtype: int64)"
     },
     "execution_count": 41,
     "metadata": {},
     "output_type": "execute_result"
    }
   ],
   "source": [
    "# 从0.21.0开始，在缺少一个或多个标签的列表中使用.loc或[]是不赞成的，而赞成使用.reindex。\n",
    "s = pd.Series([1, 2, 3])\n",
    "s,\\\n",
    "s.reindex([1, 2, 3]),\\\n",
    "s.loc[s.index.intersection([1, 2, 3])]\n",
    "\n"
   ],
   "metadata": {
    "collapsed": false,
    "pycharm": {
     "name": "#%%\n"
    }
   }
  },
  {
   "cell_type": "code",
   "execution_count": 45,
   "outputs": [
    {
     "data": {
      "text/plain": "(c    3.0\n d    NaN\n dtype: float64,\n a    0\n a    1\n b    2\n c    3\n dtype: int32)"
     },
     "execution_count": 45,
     "metadata": {},
     "output_type": "execute_result"
    }
   ],
   "source": [
    "s = pd.Series(np.arange(4), index=['a', 'a', 'b', 'c'])\n",
    "labels = ['c', 'd'] # ['a', 'd'] 就不行，因为a索引重复了\n",
    "s.loc[s.index.intersection(labels)].reindex(labels),s.loc['a':'c']"
   ],
   "metadata": {
    "collapsed": false,
    "pycharm": {
     "name": "#%%\n"
    }
   }
  },
  {
   "cell_type": "code",
   "execution_count": 51,
   "outputs": [
    {
     "data": {
      "text/plain": "(2    2\n dtype: int64,\n 2    2\n dtype: int64,\n 1    1\n dtype: int64,\n 5    5\n 3    3\n 0    0\n dtype: int64,\n 3    3\n 0    0\n 5    5\n dtype: int64,\n 1    1\n 2    2\n 4    4\n 5    5\n 0    0\n 3    3\n dtype: int64,\n 1    1\n 5    5\n 0    0\n 5    5\n 0    0\n 4    4\n dtype: int64)"
     },
     "execution_count": 51,
     "metadata": {},
     "output_type": "execute_result"
    }
   ],
   "source": [
    "# n=3 取三个，frac=0.5取百分之五十\n",
    "# 默认情况下，sample最多返回一行一次，但是也可以使用replace选项对替换进行sample:\n",
    "s = pd.Series([0, 1, 2, 3, 4, 5])\n",
    "s.sample(),s.sample(),s.sample(),\\\n",
    "s.sample(n=3),s.sample(frac=0.5),\\\n",
    "    s.sample(n=6, replace=False),\\\n",
    "    s.sample(n=6, replace=True)"
   ],
   "metadata": {
    "collapsed": false,
    "pycharm": {
     "name": "#%%\n"
    }
   }
  },
  {
   "cell_type": "code",
   "execution_count": 52,
   "outputs": [
    {
     "data": {
      "text/plain": "(2    2\n 5    5\n 4    4\n dtype: int64,\n 0    0\n dtype: int64)"
     },
     "execution_count": 52,
     "metadata": {},
     "output_type": "execute_result"
    }
   ],
   "source": [
    "s = pd.Series([0, 1, 2, 3, 4, 5])\n",
    "example_weights = [0, 0, 0.2, 0.2, 0.2, 0.4]\n",
    "example_weights2 = [0.5, 0, 0, 0, 0, 0]\n",
    "s.sample(n=3, weights=example_weights),\\\n",
    "s.sample(n=1, weights=example_weights2)"
   ],
   "metadata": {
    "collapsed": false,
    "pycharm": {
     "name": "#%%\n"
    }
   }
  },
  {
   "cell_type": "code",
   "execution_count": 55,
   "outputs": [
    {
     "data": {
      "text/plain": "(   col1  weight_column\n 0     9            0.5\n 1     8            0.4\n 2     7            0.1,\n    col2\n 0     2\n 1     3\n 2     4,\n    col1  col2\n 2     3     4\n 1     2     3,\n    col1  col2\n 2     3     4\n 1     2     3)"
     },
     "execution_count": 55,
     "metadata": {},
     "output_type": "execute_result"
    }
   ],
   "source": [
    "df2 = pd.DataFrame({'col1': [9, 8, 7, 6],\n",
    "                   'weight_column': [0.5, 0.4, 0.1, 0]})\n",
    "df3 = pd.DataFrame({'col1': [1, 2, 3], 'col2': [2, 3, 4]})\n",
    "df4 = pd.DataFrame({'col1': [1, 2, 3], 'col2': [2, 3, 4]})\n",
    "# sample还允许用户使用axis参数对列而不是行进行样例。\n",
    "# 最后，还可以使用random state参数为sample s随机数生成器设置种子，该参数将接受整数(作为种子)或NumPy RandomState对象。\n",
    "df2.sample(n=3, weights='weight_column'),\\\n",
    "df3.sample(n=1, axis=1),\\\n",
    "df4.sample(n=2, random_state=2),\\\n",
    "df4.sample(n=2, random_state=2)"
   ],
   "metadata": {
    "collapsed": false,
    "pycharm": {
     "name": "#%%\n"
    }
   }
  },
  {
   "cell_type": "code",
   "execution_count": 56,
   "outputs": [
    {
     "name": "stdout",
     "output_type": "stream",
     "text": [
      "0    1\n",
      "1    2\n",
      "2    3\n",
      "dtype: int64\n"
     ]
    },
    {
     "data": {
      "text/plain": "0    1.0\n1    2.0\n2    3.0\n5    5.0\ndtype: float64"
     },
     "execution_count": 56,
     "metadata": {},
     "output_type": "execute_result"
    }
   ],
   "source": [
    "# 设置与扩大\n",
    "se = pd.Series([1, 2, 3])\n",
    "print(se)\n",
    "se[5] = 5.\n",
    "se"
   ],
   "metadata": {
    "collapsed": false,
    "pycharm": {
     "name": "#%%\n"
    }
   }
  },
  {
   "cell_type": "code",
   "execution_count": 57,
   "outputs": [
    {
     "name": "stdout",
     "output_type": "stream",
     "text": [
      "   A  B\n",
      "0  0  1\n",
      "1  2  3\n",
      "2  4  5\n"
     ]
    },
    {
     "data": {
      "text/plain": "   A  B  C\n0  0  1  0\n1  2  3  2\n2  4  5  4",
      "text/html": "<div>\n<style scoped>\n    .dataframe tbody tr th:only-of-type {\n        vertical-align: middle;\n    }\n\n    .dataframe tbody tr th {\n        vertical-align: top;\n    }\n\n    .dataframe thead th {\n        text-align: right;\n    }\n</style>\n<table border=\"1\" class=\"dataframe\">\n  <thead>\n    <tr style=\"text-align: right;\">\n      <th></th>\n      <th>A</th>\n      <th>B</th>\n      <th>C</th>\n    </tr>\n  </thead>\n  <tbody>\n    <tr>\n      <th>0</th>\n      <td>0</td>\n      <td>1</td>\n      <td>0</td>\n    </tr>\n    <tr>\n      <th>1</th>\n      <td>2</td>\n      <td>3</td>\n      <td>2</td>\n    </tr>\n    <tr>\n      <th>2</th>\n      <td>4</td>\n      <td>5</td>\n      <td>4</td>\n    </tr>\n  </tbody>\n</table>\n</div>"
     },
     "execution_count": 57,
     "metadata": {},
     "output_type": "execute_result"
    }
   ],
   "source": [
    "dfi = pd.DataFrame(np.arange(6).reshape(3, 2),\n",
    "                   columns=['A', 'B'])\n",
    "print(dfi)\n",
    "\n",
    "dfi.loc[:, 'C'] = dfi.loc[:, 'A']\n",
    "\n",
    "dfi"
   ],
   "metadata": {
    "collapsed": false,
    "pycharm": {
     "name": "#%%\n"
    }
   }
  },
  {
   "cell_type": "code",
   "execution_count": 62,
   "outputs": [
    {
     "data": {
      "text/plain": "(0    0\n 1    1\n 2    2\n 3    3\n 4    4\n 5    5\n dtype: int64,\n 5,\n                    A         B         C         D\n 2000-01-01 -0.384697 -0.434669 -1.653491  1.034334\n 2000-01-02  0.211230 -0.529058 -0.927382 -1.307638\n 2000-01-03 -0.570957 -0.485431 -1.435779  0.155242\n 2000-01-04 -0.222726 -1.317617  0.184514 -1.812967\n 2000-01-05 -0.232898  1.557685  1.159462 -0.010002\n 2000-01-06  0.412822 -0.295252 -0.923283 -1.161460\n 2000-01-07  0.333986 -0.307453 -0.451364 -1.875065\n 2000-01-08  0.108193  0.184682  0.709551 -0.172734,\n DatetimeIndex(['2000-01-01', '2000-01-02', '2000-01-03', '2000-01-04',\n                '2000-01-05', '2000-01-06', '2000-01-07', '2000-01-08'],\n               dtype='datetime64[ns]', freq='D'),\n Timestamp('2000-01-06 00:00:00', freq='D'),\n 0.4128219137502586,\n -0.22272592390106608)"
     },
     "execution_count": 62,
     "metadata": {},
     "output_type": "execute_result"
    }
   ],
   "source": [
    "# 快速获取和设置标量值\n",
    "dates = pd.date_range('1/1/2000', periods=8)\n",
    "\n",
    "df = pd.DataFrame(np.random.randn(8, 4),\n",
    "                 index=dates, columns=['A', 'B', 'C', 'D'])\n",
    "s,s.iat[5],\\\n",
    "df,dates,dates[5],\\\n",
    "df.at[dates[5], 'A'],df.iat[3, 0]"
   ],
   "metadata": {
    "collapsed": false,
    "pycharm": {
     "name": "#%%\n"
    }
   }
  },
  {
   "cell_type": "code",
   "execution_count": 63,
   "outputs": [
    {
     "data": {
      "text/plain": "                   A         B         C         D    E    0\n2000-01-01 -0.384697 -0.434669 -1.653491  1.034334  NaN  NaN\n2000-01-02  0.211230 -0.529058 -0.927382 -1.307638  NaN  NaN\n2000-01-03 -0.570957 -0.485431 -1.435779  0.155242  NaN  NaN\n2000-01-04  7.000000 -1.317617  0.184514 -1.812967  NaN  NaN\n2000-01-05 -0.232898  1.557685  1.159462 -0.010002  NaN  NaN\n2000-01-06  0.412822 -0.295252 -0.923283 -1.161460  7.0  NaN\n2000-01-07  0.333986 -0.307453 -0.451364 -1.875065  NaN  NaN\n2000-01-08  0.108193  0.184682  0.709551 -0.172734  NaN  NaN\n2000-01-09       NaN       NaN       NaN       NaN  NaN  7.0",
      "text/html": "<div>\n<style scoped>\n    .dataframe tbody tr th:only-of-type {\n        vertical-align: middle;\n    }\n\n    .dataframe tbody tr th {\n        vertical-align: top;\n    }\n\n    .dataframe thead th {\n        text-align: right;\n    }\n</style>\n<table border=\"1\" class=\"dataframe\">\n  <thead>\n    <tr style=\"text-align: right;\">\n      <th></th>\n      <th>A</th>\n      <th>B</th>\n      <th>C</th>\n      <th>D</th>\n      <th>E</th>\n      <th>0</th>\n    </tr>\n  </thead>\n  <tbody>\n    <tr>\n      <th>2000-01-01</th>\n      <td>-0.384697</td>\n      <td>-0.434669</td>\n      <td>-1.653491</td>\n      <td>1.034334</td>\n      <td>NaN</td>\n      <td>NaN</td>\n    </tr>\n    <tr>\n      <th>2000-01-02</th>\n      <td>0.211230</td>\n      <td>-0.529058</td>\n      <td>-0.927382</td>\n      <td>-1.307638</td>\n      <td>NaN</td>\n      <td>NaN</td>\n    </tr>\n    <tr>\n      <th>2000-01-03</th>\n      <td>-0.570957</td>\n      <td>-0.485431</td>\n      <td>-1.435779</td>\n      <td>0.155242</td>\n      <td>NaN</td>\n      <td>NaN</td>\n    </tr>\n    <tr>\n      <th>2000-01-04</th>\n      <td>7.000000</td>\n      <td>-1.317617</td>\n      <td>0.184514</td>\n      <td>-1.812967</td>\n      <td>NaN</td>\n      <td>NaN</td>\n    </tr>\n    <tr>\n      <th>2000-01-05</th>\n      <td>-0.232898</td>\n      <td>1.557685</td>\n      <td>1.159462</td>\n      <td>-0.010002</td>\n      <td>NaN</td>\n      <td>NaN</td>\n    </tr>\n    <tr>\n      <th>2000-01-06</th>\n      <td>0.412822</td>\n      <td>-0.295252</td>\n      <td>-0.923283</td>\n      <td>-1.161460</td>\n      <td>7.0</td>\n      <td>NaN</td>\n    </tr>\n    <tr>\n      <th>2000-01-07</th>\n      <td>0.333986</td>\n      <td>-0.307453</td>\n      <td>-0.451364</td>\n      <td>-1.875065</td>\n      <td>NaN</td>\n      <td>NaN</td>\n    </tr>\n    <tr>\n      <th>2000-01-08</th>\n      <td>0.108193</td>\n      <td>0.184682</td>\n      <td>0.709551</td>\n      <td>-0.172734</td>\n      <td>NaN</td>\n      <td>NaN</td>\n    </tr>\n    <tr>\n      <th>2000-01-09</th>\n      <td>NaN</td>\n      <td>NaN</td>\n      <td>NaN</td>\n      <td>NaN</td>\n      <td>NaN</td>\n      <td>7.0</td>\n    </tr>\n  </tbody>\n</table>\n</div>"
     },
     "execution_count": 63,
     "metadata": {},
     "output_type": "execute_result"
    }
   ],
   "source": [
    "df.at[dates[5], 'E'] = 7\n",
    "df.iat[3, 0] = 7\n",
    "df.at[dates[-1] + pd.Timedelta('1 day'), 0] = 7\n",
    "df"
   ],
   "metadata": {
    "collapsed": false,
    "pycharm": {
     "name": "#%%\n"
    }
   }
  },
  {
   "cell_type": "code",
   "execution_count": null,
   "outputs": [],
   "source": [
    "# Boolean indexing\n",
    "# Another common operation is the use of boolean vectors to filter the data.\n",
    "# The operators are: | for or, & for and, and ~ for not. These must be grouped by using parentheses,\n",
    "# since by default Python will evaluate an expression such as df['A'] > 2 & df['B'] < 3 as df['A'] > (2 & df['B']) < 3,\n",
    "#  while the desired evaluation order is (df['A > 2) & (df['B'] < 3).\n",
    "\n",
    "s = pd.Series(range(-3, 4))\n",
    "\n",
    "s,s[s > 0],s[(s < -1) | (s > 0.5)],s[~(s < 0)]"
   ],
   "metadata": {
    "collapsed": false,
    "pycharm": {
     "name": "#%%\n",
     "is_executing": true
    }
   }
  },
  {
   "cell_type": "code",
   "execution_count": null,
   "outputs": [],
   "source": [
    "df2 = pd.DataFrame({'a': ['one', 'one', 'two', 'three', 'two', 'one', 'six'],\n",
    "                     'b': ['x', 'y', 'y', 'x', 'y', 'x', 'x'],\n",
    "                     'c': np.random.randn(7)})\n",
    "\n",
    "criterion = df2['a'].map(lambda x: x.startswith('t'))\n",
    "df[df['A'] > 0],\\\n",
    "df2[criterion],\\\n",
    "df2[[x.startswith('t') for x in df2['a']]],\\\n",
    "     df2[criterion & (df2['b'] == 'x')],\\\n",
    "    df2.loc[criterion & (df2['b'] == 'x'), 'b':'c']\n"
   ],
   "metadata": {
    "collapsed": false,
    "pycharm": {
     "name": "#%%\n",
     "is_executing": true
    }
   }
  }
 ],
 "metadata": {
  "kernelspec": {
   "display_name": "Python 3",
   "language": "python",
   "name": "python3"
  },
  "language_info": {
   "codemirror_mode": {
    "name": "ipython",
    "version": 2
   },
   "file_extension": ".py",
   "mimetype": "text/x-python",
   "name": "python",
   "nbconvert_exporter": "python",
   "pygments_lexer": "ipython2",
   "version": "2.7.6"
  }
 },
 "nbformat": 4,
 "nbformat_minor": 0
}