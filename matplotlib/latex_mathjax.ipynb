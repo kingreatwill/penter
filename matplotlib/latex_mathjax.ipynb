{
 "cells": [
  {
   "cell_type": "code",
   "execution_count": 1,
   "metadata": {
    "collapsed": true
   },
   "outputs": [
    {
     "data": {
      "text/plain": "<IPython.core.display.Latex object>",
      "text/latex": "$\\frac{\\partial 1}{\\partial 2}$"
     },
     "execution_count": 1,
     "metadata": {},
     "output_type": "execute_result"
    }
   ],
   "source": [
    "from IPython.display import Latex\n",
    "s1 = r\"$\\frac{{\\partial {}}}{{\\partial {}}}$\".format(1, 2)\n",
    "Latex(s1)"
   ]
  },
  {
   "cell_type": "code",
   "execution_count": 2,
   "outputs": [
    {
     "data": {
      "text/plain": "<IPython.core.display.Math object>",
      "text/latex": "$\\displaystyle \\frac{\\partial 1}{\\partial 2}$"
     },
     "metadata": {},
     "output_type": "display_data"
    }
   ],
   "source": [
    "from IPython.display import display, Math\n",
    "s1 = r\"$\\frac{{\\partial {}}}{{\\partial {}}}$\".format(1, 2)\n",
    "display(Math(s1))\n"
   ],
   "metadata": {
    "collapsed": false,
    "pycharm": {
     "name": "#%%\n"
    }
   }
  },
  {
   "cell_type": "code",
   "execution_count": 3,
   "outputs": [
    {
     "data": {
      "text/plain": "'2^{x + y} + 1'"
     },
     "execution_count": 3,
     "metadata": {},
     "output_type": "execute_result"
    }
   ],
   "source": [
    "from sympy import MatrixSymbol, Inverse, symbols, Determinant, Trace, Derivative\n",
    "import sympy\n",
    "x = symbols(\"x\")\n",
    "y = symbols(\"y\")\n",
    "s = \"1+2**(x+y)\"\n",
    "sympy.latex(eval(s))   # prints '$1 + {2}^{x + y}$'"
   ],
   "metadata": {
    "collapsed": false,
    "pycharm": {
     "name": "#%%\n"
    }
   }
  },
  {
   "cell_type": "code",
   "execution_count": 4,
   "outputs": [
    {
     "name": "stdout",
     "output_type": "stream",
     "text": [
      "\\mathrm{f_1}(x)\\triangleq \\left\\{ \\begin{array}{ll} 1, & \\mathrm{if} \\ x=1 \\\\ 2, & \\mathrm{if} \\ x=2 \\\\ \\mathrm{f_1}\\left(x - 1\\right) + \\mathrm{f_1}\\left(x - 2\\right), & \\mathrm{otherwise} \\end{array} \\right.\n"
     ]
    }
   ],
   "source": [
    "import math\n",
    "import latexify\n",
    "\n",
    "# 写pi而不是math.pi，就可以了\n",
    "\n",
    "@latexify.with_latex\n",
    "def f_1(x):\n",
    "    if x==1:\n",
    "        return 1\n",
    "    elif x==2:\n",
    "        return 2\n",
    "    else:\n",
    "        return f_1(x-1) + f_1(x-2)\n",
    "\n",
    "print(f_1)\n"
   ],
   "metadata": {
    "collapsed": false,
    "pycharm": {
     "name": "#%%\n"
    }
   }
  }
 ],
 "metadata": {
  "kernelspec": {
   "display_name": "Python 3",
   "language": "python",
   "name": "python3"
  },
  "language_info": {
   "codemirror_mode": {
    "name": "ipython",
    "version": 2
   },
   "file_extension": ".py",
   "mimetype": "text/x-python",
   "name": "python",
   "nbconvert_exporter": "python",
   "pygments_lexer": "ipython2",
   "version": "2.7.6"
  }
 },
 "nbformat": 4,
 "nbformat_minor": 0
}