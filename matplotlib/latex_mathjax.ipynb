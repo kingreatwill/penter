{
 "cells": [
  {
   "cell_type": "markdown",
   "source": [
    "$\\frac{{\\partial {1}}}{{\\partial {2}}}$"
   ],
   "metadata": {
    "collapsed": false,
    "pycharm": {
     "name": "#%% md\n"
    }
   }
  },
  {
   "cell_type": "code",
   "execution_count": 39,
   "metadata": {
    "scrolled": true
   },
   "outputs": [],
   "source": [
    "# 如果对带有一个变量或是未赋值语句的cell执行操作，Jupyter将会自动打印该变量而无需一个输出语句。\n",
    "from IPython.core.interactiveshell import InteractiveShell\n",
    "InteractiveShell.ast_node_interactivity = \"all\" #默认为'last'\n",
    "\n",
    "# display(Math(latex_s))和display(Latex(latex_s))输出的是latex类型，\n",
    "# display(Markdown(latex_s))输出的是markdown\n",
    "# 推荐markdown和Latex；而Math只支持纯latex\n",
    "from IPython.display import display,Latex, SVG, Math, Markdown"
   ]
  },
  {
   "cell_type": "code",
   "execution_count": 40,
   "outputs": [
    {
     "data": {
      "text/plain": "1"
     },
     "execution_count": 40,
     "metadata": {},
     "output_type": "execute_result"
    },
    {
     "data": {
      "text/plain": "2"
     },
     "execution_count": 40,
     "metadata": {},
     "output_type": "execute_result"
    },
    {
     "data": {
      "text/plain": "3"
     },
     "execution_count": 40,
     "metadata": {},
     "output_type": "execute_result"
    }
   ],
   "source": [
    "1\n",
    "2\n",
    "x = 3\n",
    "x\n"
   ],
   "metadata": {
    "collapsed": false,
    "pycharm": {
     "name": "#%%\n"
    }
   }
  },
  {
   "cell_type": "code",
   "execution_count": 36,
   "outputs": [],
   "source": [
    "s_1 = r\"$\\frac{{\\partial {}}}{{\\partial {}}}$\".format(1, 2)\n",
    "a = 13.49\n",
    "b = 2.2544223\n",
    "P = 302.99\n",
    "V = 90.02\n",
    "s_2 =  rf\"\"\"\\\n",
    "# xx\n",
    "\n",
    "Dims: ${a}m \\times{b:5.2}m$\n",
    "\n",
    "Area: ${P}m^2$\n",
    "\n",
    "Volume: ${V}m^3$\n",
    "\"\"\""
   ],
   "metadata": {
    "collapsed": false,
    "pycharm": {
     "name": "#%%\n"
    }
   }
  },
  {
   "cell_type": "code",
   "execution_count": 31,
   "outputs": [
    {
     "data": {
      "text/plain": "<IPython.core.display.Latex object>",
      "text/latex": "$\\frac{\\partial 1}{\\partial 2}$"
     },
     "execution_count": 31,
     "metadata": {},
     "output_type": "execute_result"
    }
   ],
   "source": [
    "# 只能作为最后一个输出，才能显示\n",
    "Latex(s_1)"
   ],
   "metadata": {
    "collapsed": false,
    "pycharm": {
     "name": "#%%\n"
    }
   }
  },
  {
   "cell_type": "code",
   "execution_count": 32,
   "metadata": {
    "pycharm": {
     "name": "#%%\n"
    }
   },
   "outputs": [
    {
     "data": {
      "text/plain": "<IPython.core.display.Markdown object>",
      "text/markdown": "$\\frac{\\partial 1}{\\partial 2}$"
     },
     "metadata": {},
     "output_type": "display_data"
    },
    {
     "data": {
      "text/plain": "<IPython.core.display.Math object>",
      "text/latex": "$\\displaystyle \\frac{\\partial 1}{\\partial 2}$"
     },
     "metadata": {},
     "output_type": "display_data"
    },
    {
     "data": {
      "text/plain": "<IPython.core.display.Latex object>",
      "text/latex": "$\\frac{\\partial 1}{\\partial 2}$"
     },
     "metadata": {},
     "output_type": "display_data"
    }
   ],
   "source": [
    "tobj1_1= Markdown(s_1)\n",
    "tobj1_2= Math(s_1)\n",
    "tobj1_3= Latex(s_1)\n",
    "display(tobj1_1)\n",
    "display(tobj1_2)\n",
    "display(tobj1_3)"
   ]
  },
  {
   "cell_type": "code",
   "execution_count": 37,
   "outputs": [
    {
     "data": {
      "text/plain": "<IPython.core.display.Markdown object>",
      "text/markdown": "\\\n# xx\n\nDims: $13.49m \\times  2.3m$\n\nArea: $302.99m^2$\n\nVolume: $90.02m^3$\n"
     },
     "metadata": {},
     "output_type": "display_data"
    },
    {
     "data": {
      "text/plain": "<IPython.core.display.Math object>",
      "text/latex": "$\\displaystyle \\\n# xx\n\nDims: $13.49m \\times  2.3m$\n\nArea: $302.99m^2$\n\nVolume: $90.02m^3$\n$"
     },
     "metadata": {},
     "output_type": "display_data"
    },
    {
     "data": {
      "text/plain": "<IPython.core.display.Latex object>",
      "text/latex": "\\\n# xx\n\nDims: $13.49m \\times  2.3m$\n\nArea: $302.99m^2$\n\nVolume: $90.02m^3$\n"
     },
     "metadata": {},
     "output_type": "display_data"
    }
   ],
   "source": [
    "tobj2_1=Markdown(s_2)\n",
    "tobj2_2=Math(s_2)\n",
    "tobj2_3= Latex(s_2)\n",
    "display(tobj2_1)\n",
    "display(tobj2_2)\n",
    "display(tobj2_3)"
   ],
   "metadata": {
    "collapsed": false,
    "pycharm": {
     "name": "#%%\n"
    }
   }
  },
  {
   "cell_type": "code",
   "execution_count": null,
   "metadata": {
    "pycharm": {
     "name": "#%%\n",
     "is_executing": true
    }
   },
   "outputs": [],
   "source": [
    "# https://docs.sympy.org/dev/tutorial/printing.html\n",
    "from sympy import MatrixSymbol, Inverse, symbols, Determinant, Trace, Derivative\n",
    "from sympy import sqrt,latex,Integral,pprint,init_printing\n",
    "\n",
    "x = symbols(\"x\")\n",
    "y = symbols(\"y\")\n",
    "s = \"1+2**(x+y)\"\n",
    "latex(eval(s))  # prints '$1 + {2}^{x + y}$'\n",
    "\n",
    "# Integral是积分的意思\n",
    "print(latex(Integral(sqrt(1/x), x)))\n",
    "\n",
    "pprint(Integral(sqrt(1/x), x), use_unicode=True)"
   ]
  },
  {
   "cell_type": "code",
   "execution_count": 4,
   "metadata": {
    "pycharm": {
     "name": "#%%\n"
    }
   },
   "outputs": [
    {
     "name": "stdout",
     "output_type": "stream",
     "text": [
      "\\mathrm{f_1}(x)\\triangleq \\left\\{ \\begin{array}{ll} 1, & \\mathrm{if} \\ x=1 \\\\ 2, & \\mathrm{if} \\ x=2 \\\\ \\mathrm{f_1}\\left(x - 1\\right) + \\mathrm{f_1}\\left(x - 2\\right), & \\mathrm{otherwise} \\end{array} \\right.\n"
     ]
    }
   ],
   "source": [
    "import math\n",
    "import latexify\n",
    "\n",
    "# 写pi而不是math.pi，就可以了\n",
    "\n",
    "@latexify.with_latex\n",
    "def f_1(x):\n",
    "    if x==1:\n",
    "        return 1\n",
    "    elif x==2:\n",
    "        return 2\n",
    "    else:\n",
    "        return f_1(x-1) + f_1(x-2)\n",
    "\n",
    "print(f_1)\n"
   ]
  },
  {
   "cell_type": "code",
   "execution_count": 38,
   "outputs": [
    {
     "data": {
      "text/plain": "<Figure size 1440x50.4 with 1 Axes>",
      "image/png": "[encoded data removed]"
     },
     "metadata": {},
     "output_type": "display_data"
    },
    {
     "data": {
      "text/plain": "<Figure size 1440x50.4 with 1 Axes>",
      "image/png": "[encoded data removed]"
     },
     "metadata": {},
     "output_type": "display_data"
    }
   ],
   "source": [
    "%matplotlib inline\n",
    "import matplotlib.pyplot as plt\n",
    "plt.rcParams['text.usetex'] = True\n",
    "plt.rcParams['text.latex.preamble'] = r'\\usepackage{amsmath} \\usepackage{amsfonts}'\n",
    "# plt.rcParams.update({\n",
    "#     #'font.size': 8,\n",
    "#     #'text.usetex': True,\n",
    "#     'text.latex.preamble':  [r'\\usepackage{amsmath}', #for \\text command\n",
    "#                             r'\\usepackage{amsfonts}', # \\mathbb is provided by the LaTeX package amsfonts\n",
    "#                             ]\n",
    "# })\n",
    "# 参数'text.latex.preamble' or 'pgf.preamble'（这两个不是同一个参数） 以前是用数组，现在用字符串\n",
    "# 罗马体 operatorname -> mbox or mathrm\n",
    "\n",
    "# https://matplotlib.org/stable/tutorials/text/mathtext.html\n",
    "\n",
    "# matplotlib.rcParams['text.latex.unicode'] = True\n",
    "# matplotlib.rcParams['text.latex.preamble'] = [\n",
    "#        '\\\\usepackage{CJK}',\n",
    "#        r'\\AtBeginDocument{\\begin{CJK}{UTF8}{gbsn}}',\n",
    "#        r'\\AtEndDocument{\\end{CJK}}',\n",
    "# ]\n",
    "\n",
    "# Matplotlib中文显示和Latex\n",
    "#import matplotlib.font_manager as mf # 导入字体管理器\n",
    "#my_font= mf.FontProperties(fname='C://Windows//Fonts/simsun.ttc') # 加载字体\n",
    "def show_latex(eqn:int, latex_s:str , validated:bool):\n",
    "    fig, ax = plt.subplots(figsize=(20, 0.7))\n",
    "    #latex_s = r\"$\\alpha _ { 1 } ^ { r } \\gamma _ { 1 } + \\dots + \\alpha _ { N } ^ { r } \\gamma _ { N } = 0 \\quad ( r = 1 , . . . , R ) ,$\"\n",
    "    plt.text(0.01, 0.5, \"({})\".format(eqn), ha='left', va='center', fontsize=20)\n",
    "    #水平和垂直方向居中对齐\n",
    "    plt.text(0.5, 0.5, latex_s, ha='center', va='center', fontsize=20)\n",
    "    if validated:\n",
    "        plt.text(0.97, 0.5, r\"ok\", ha='right', va='center', fontsize=20, color = \"g\")\n",
    "    else:\n",
    "        plt.text(0.97, 0.5, r\"error\", ha='right', va='center', fontsize=20, color = \"r\")\n",
    "    # 隐藏框线\n",
    "    ax.spines['top'].set_visible(False)\n",
    "    ax.spines['right'].set_visible(False)\n",
    "    ax.spines['bottom'].set_visible(False)\n",
    "    ax.spines['left'].set_visible(False)\n",
    "    # 隐藏坐标轴的刻度信息\n",
    "    plt.xticks([])\n",
    "    plt.yticks([])\n",
    "show_latex(1,s_1,True)\n",
    "show_latex(1,s_1,False)\n",
    "\n"
   ],
   "metadata": {
    "collapsed": false,
    "pycharm": {
     "name": "#%%\n"
    }
   }
  }
 ],
 "metadata": {
  "kernelspec": {
   "display_name": "Python 3",
   "language": "python",
   "name": "python3"
  },
  "language_info": {
   "codemirror_mode": {
    "name": "ipython",
    "version": 3
   },
   "file_extension": ".py",
   "mimetype": "text/x-python",
   "name": "python",
   "nbconvert_exporter": "python",
   "pygments_lexer": "ipython3",
   "version": "3.8.2"
  }
 },
 "nbformat": 4,
 "nbformat_minor": 1
}