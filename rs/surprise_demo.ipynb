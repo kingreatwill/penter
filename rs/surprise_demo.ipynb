{
 "cells": [
  {
   "cell_type": "code",
   "execution_count": 36,
   "metadata": {
    "collapsed": true
   },
   "outputs": [],
   "source": [
    "import pandas as pd\n",
    "from surprise import SVD, Reader,CoClustering\n",
    "from surprise import Dataset\n",
    "from surprise.model_selection import cross_validate,train_test_split\n",
    "from surprise import accuracy"
   ]
  },
  {
   "cell_type": "code",
   "execution_count": 2,
   "outputs": [
    {
     "name": "stdout",
     "output_type": "stream",
     "text": [
      "Evaluating RMSE, MAE of algorithm SVD on 5 split(s).\n",
      "\n",
      "                  Fold 1  Fold 2  Fold 3  Fold 4  Fold 5  Mean    Std     \n",
      "RMSE (testset)    0.9354  0.9426  0.9241  0.9318  0.9427  0.9353  0.0070  \n",
      "MAE (testset)     0.7373  0.7407  0.7295  0.7339  0.7435  0.7370  0.0049  \n",
      "Fit time          3.32    3.25    3.33    3.37    3.43    3.34    0.06    \n",
      "Test time         0.12    0.09    0.12    0.12    0.12    0.12    0.01    \n"
     ]
    },
    {
     "data": {
      "text/plain": "{'test_rmse': array([0.93536221, 0.9425841 , 0.92407192, 0.93178868, 0.94272667]),\n 'test_mae': array([0.73733179, 0.74070304, 0.72945648, 0.73394679, 0.74347871]),\n 'fit_time': (3.3151588439941406,\n  3.247586250305176,\n  3.332268476486206,\n  3.3656444549560547,\n  3.426689386367798),\n 'test_time': (0.12299036979675293,\n  0.09203171730041504,\n  0.12202954292297363,\n  0.12096714973449707,\n  0.11902928352355957)}"
     },
     "execution_count": 2,
     "metadata": {},
     "output_type": "execute_result"
    }
   ],
   "source": [
    "# Load the movielens-100k dataset (download it if needed),\n",
    "# 数据格式user item rating timestamp\n",
    "data = Dataset.load_builtin('ml-100k')\n",
    "\n",
    "# We'll use the famous SVD algorithm.\n",
    "algo = SVD()\n",
    "\n",
    "\n",
    "# Run 5-fold cross-validation and print results\n",
    "cross_validate(algo, data, measures=['RMSE', 'MAE'], cv=5, verbose=True)\n",
    "\n",
    "# algo.fit(data)\n"
   ],
   "metadata": {
    "collapsed": false,
    "pycharm": {
     "name": "#%%\n"
    }
   }
  },
  {
   "cell_type": "code",
   "execution_count": 30,
   "outputs": [
    {
     "data": {
      "text/plain": "   userID itemID  rating\n0       A     I1     5.0\n1       A     I2     4.0\n2       A     I3     4.5\n3       A     I5     3.0\n4       B     I2     4.0\n5       B     I4     4.0\n6       C     I1     4.0\n7       C     I3     3.5\n8       C     I4     4.0\n9       C     I5     3.0\n10      D     I2     5.0\n11      D     I5     3.0\n12      E     I1     4.0\n13      E     I3     4.5\n14      E     I4     5.0",
      "text/html": "<div>\n<style scoped>\n    .dataframe tbody tr th:only-of-type {\n        vertical-align: middle;\n    }\n\n    .dataframe tbody tr th {\n        vertical-align: top;\n    }\n\n    .dataframe thead th {\n        text-align: right;\n    }\n</style>\n<table border=\"1\" class=\"dataframe\">\n  <thead>\n    <tr style=\"text-align: right;\">\n      <th></th>\n      <th>userID</th>\n      <th>itemID</th>\n      <th>rating</th>\n    </tr>\n  </thead>\n  <tbody>\n    <tr>\n      <th>0</th>\n      <td>A</td>\n      <td>I1</td>\n      <td>5.0</td>\n    </tr>\n    <tr>\n      <th>1</th>\n      <td>A</td>\n      <td>I2</td>\n      <td>4.0</td>\n    </tr>\n    <tr>\n      <th>2</th>\n      <td>A</td>\n      <td>I3</td>\n      <td>4.5</td>\n    </tr>\n    <tr>\n      <th>3</th>\n      <td>A</td>\n      <td>I5</td>\n      <td>3.0</td>\n    </tr>\n    <tr>\n      <th>4</th>\n      <td>B</td>\n      <td>I2</td>\n      <td>4.0</td>\n    </tr>\n    <tr>\n      <th>5</th>\n      <td>B</td>\n      <td>I4</td>\n      <td>4.0</td>\n    </tr>\n    <tr>\n      <th>6</th>\n      <td>C</td>\n      <td>I1</td>\n      <td>4.0</td>\n    </tr>\n    <tr>\n      <th>7</th>\n      <td>C</td>\n      <td>I3</td>\n      <td>3.5</td>\n    </tr>\n    <tr>\n      <th>8</th>\n      <td>C</td>\n      <td>I4</td>\n      <td>4.0</td>\n    </tr>\n    <tr>\n      <th>9</th>\n      <td>C</td>\n      <td>I5</td>\n      <td>3.0</td>\n    </tr>\n    <tr>\n      <th>10</th>\n      <td>D</td>\n      <td>I2</td>\n      <td>5.0</td>\n    </tr>\n    <tr>\n      <th>11</th>\n      <td>D</td>\n      <td>I5</td>\n      <td>3.0</td>\n    </tr>\n    <tr>\n      <th>12</th>\n      <td>E</td>\n      <td>I1</td>\n      <td>4.0</td>\n    </tr>\n    <tr>\n      <th>13</th>\n      <td>E</td>\n      <td>I3</td>\n      <td>4.5</td>\n    </tr>\n    <tr>\n      <th>14</th>\n      <td>E</td>\n      <td>I4</td>\n      <td>5.0</td>\n    </tr>\n  </tbody>\n</table>\n</div>"
     },
     "execution_count": 30,
     "metadata": {},
     "output_type": "execute_result"
    }
   ],
   "source": [
    "df = pd.DataFrame([\n",
    "    ['A','I1',5],['A','I2',4],['A','I3',4.5],['A','I5',3],\n",
    "    ['B','I2',4],['B','I4',4],\n",
    "    ['C','I1',4],['C','I3',3.5],['C','I4',4],['C','I5',3],\n",
    "    ['D','I2',5],['D','I5',3],\n",
    "    ['E','I1',4],['E','I3',4.5],['E','I4',5],\n",
    "])\n",
    "df.columns =[\"userID\",\"itemID\",\"rating\"]\n",
    "\n",
    "df[['userID', 'itemID', 'rating']]"
   ],
   "metadata": {
    "collapsed": false,
    "pycharm": {
     "name": "#%%\n"
    }
   }
  },
  {
   "cell_type": "code",
   "execution_count": 31,
   "outputs": [
    {
     "data": {
      "text/plain": "<surprise.prediction_algorithms.matrix_factorization.SVD at 0x20ca6937220>"
     },
     "execution_count": 31,
     "metadata": {},
     "output_type": "execute_result"
    }
   ],
   "source": [
    "# 评分1-5\n",
    "reader = Reader(rating_scale=(1, 5))\n",
    "# 加载数据集\n",
    "data = Dataset.load_from_df(df[['userID', 'itemID', 'rating']], reader)\n",
    "trainset = data.build_full_trainset()\n",
    "\n",
    "algo = SVD()\n",
    "algo.fit(trainset)"
   ],
   "metadata": {
    "collapsed": false,
    "pycharm": {
     "name": "#%%\n"
    }
   }
  },
  {
   "cell_type": "code",
   "execution_count": 34,
   "outputs": [
    {
     "name": "stdout",
     "output_type": "stream",
     "text": [
      "RMSE: 0.4363\n"
     ]
    },
    {
     "data": {
      "text/plain": "0.4363245209343807"
     },
     "execution_count": 34,
     "metadata": {},
     "output_type": "execute_result"
    }
   ],
   "source": [
    "predictions = algo.test(trainset.build_testset())\n",
    "accuracy.rmse(predictions, verbose=True)"
   ],
   "metadata": {
    "collapsed": false,
    "pycharm": {
     "name": "#%%\n"
    }
   }
  },
  {
   "cell_type": "code",
   "execution_count": 35,
   "outputs": [
    {
     "data": {
      "text/plain": "(Prediction(uid='A', iid='I4', r_ui=None, est=4.381566189278511, details={'was_impossible': False}),\n Prediction(uid='A', iid='I2', r_ui=None, est=4.116943275395926, details={'was_impossible': False}),\n Prediction(uid='B', iid='I1', r_ui=None, est=4.125767915828263, details={'was_impossible': False}))"
     },
     "execution_count": 35,
     "metadata": {},
     "output_type": "execute_result"
    }
   ],
   "source": [
    "algo.predict(uid=\"A\",iid=\"I4\"),\\\n",
    "algo.predict(uid=\"A\",iid=\"I2\"),\\\n",
    "algo.predict(uid=\"B\",iid=\"I1\")\n"
   ],
   "metadata": {
    "collapsed": false,
    "pycharm": {
     "name": "#%%\n"
    }
   }
  },
  {
   "cell_type": "code",
   "execution_count": 38,
   "outputs": [
    {
     "data": {
      "text/plain": "<surprise.prediction_algorithms.co_clustering.CoClustering at 0x20ca6b723d0>"
     },
     "execution_count": 38,
     "metadata": {},
     "output_type": "execute_result"
    }
   ],
   "source": [
    "cc = CoClustering(n_cltr_u=3,n_cltr_i =2)\n",
    "cc.fit(trainset)"
   ],
   "metadata": {
    "collapsed": false,
    "pycharm": {
     "name": "#%%\n"
    }
   }
  }
 ],
 "metadata": {
  "kernelspec": {
   "display_name": "Python 3",
   "language": "python",
   "name": "python3"
  },
  "language_info": {
   "codemirror_mode": {
    "name": "ipython",
    "version": 2
   },
   "file_extension": ".py",
   "mimetype": "text/x-python",
   "name": "python",
   "nbconvert_exporter": "python",
   "pygments_lexer": "ipython2",
   "version": "2.7.6"
  }
 },
 "nbformat": 4,
 "nbformat_minor": 0
}