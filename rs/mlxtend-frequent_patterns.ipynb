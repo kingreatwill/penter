{
 "cells": [
  {
   "cell_type": "code",
   "execution_count": 1,
   "metadata": {
    "collapsed": true
   },
   "outputs": [],
   "source": [
    "import pandas as pd\n",
    "from mlxtend.preprocessing import TransactionEncoder\n",
    "from mlxtend.frequent_patterns import apriori, fpmax, fpgrowth\n"
   ]
  },
  {
   "cell_type": "code",
   "execution_count": 4,
   "outputs": [
    {
     "data": {
      "text/plain": "   support  itemsets\n0      0.8      (豆奶)\n1      0.8      (莴笋)\n2      0.8      (尿布)\n3      0.6      (啤酒)\n4      0.6  (豆奶, 莴笋)\n5      0.6  (莴笋, 尿布)\n6      0.6  (豆奶, 尿布)\n7      0.6  (尿布, 啤酒)",
      "text/html": "<div>\n<style scoped>\n    .dataframe tbody tr th:only-of-type {\n        vertical-align: middle;\n    }\n\n    .dataframe tbody tr th {\n        vertical-align: top;\n    }\n\n    .dataframe thead th {\n        text-align: right;\n    }\n</style>\n<table border=\"1\" class=\"dataframe\">\n  <thead>\n    <tr style=\"text-align: right;\">\n      <th></th>\n      <th>support</th>\n      <th>itemsets</th>\n    </tr>\n  </thead>\n  <tbody>\n    <tr>\n      <th>0</th>\n      <td>0.8</td>\n      <td>(豆奶)</td>\n    </tr>\n    <tr>\n      <th>1</th>\n      <td>0.8</td>\n      <td>(莴笋)</td>\n    </tr>\n    <tr>\n      <th>2</th>\n      <td>0.8</td>\n      <td>(尿布)</td>\n    </tr>\n    <tr>\n      <th>3</th>\n      <td>0.6</td>\n      <td>(啤酒)</td>\n    </tr>\n    <tr>\n      <th>4</th>\n      <td>0.6</td>\n      <td>(豆奶, 莴笋)</td>\n    </tr>\n    <tr>\n      <th>5</th>\n      <td>0.6</td>\n      <td>(莴笋, 尿布)</td>\n    </tr>\n    <tr>\n      <th>6</th>\n      <td>0.6</td>\n      <td>(豆奶, 尿布)</td>\n    </tr>\n    <tr>\n      <th>7</th>\n      <td>0.6</td>\n      <td>(尿布, 啤酒)</td>\n    </tr>\n  </tbody>\n</table>\n</div>"
     },
     "execution_count": 4,
     "metadata": {},
     "output_type": "execute_result"
    }
   ],
   "source": [
    "dataset = [['豆奶', '莴笋'],\n",
    "           ['莴笋', '尿布', '啤酒', '酸菜'],\n",
    "           ['豆奶', '尿布', '啤酒', '橙汁'],\n",
    "           ['豆奶', '尿布', '莴笋', '啤酒'],\n",
    "           ['豆奶', '莴笋', '尿布', '橙汁']]\n",
    "\n",
    "te = TransactionEncoder()\n",
    "te_ary = te.fit(dataset).transform(dataset)\n",
    "df = pd.DataFrame(te_ary, columns=te.columns_)\n",
    "\n",
    "frequent_itemsets = fpgrowth(df, min_support=0.5, use_colnames=True)\n",
    "### alternatively:\n",
    "#frequent_itemsets = apriori(df, min_support=0.6, use_colnames=True)\n",
    "#frequent_itemsets = fpmax(df, min_support=0.6, use_colnames=True)\n",
    "\n",
    "frequent_itemsets"
   ],
   "metadata": {
    "collapsed": false,
    "pycharm": {
     "name": "#%%\n"
    }
   }
  },
  {
   "cell_type": "code",
   "execution_count": 5,
   "outputs": [
    {
     "data": {
      "text/plain": "  antecedents consequents  antecedent support  consequent support  support  \\\n0        (豆奶)        (莴笋)                 0.8                 0.8      0.6   \n1        (莴笋)        (豆奶)                 0.8                 0.8      0.6   \n2        (莴笋)        (尿布)                 0.8                 0.8      0.6   \n3        (尿布)        (莴笋)                 0.8                 0.8      0.6   \n4        (豆奶)        (尿布)                 0.8                 0.8      0.6   \n5        (尿布)        (豆奶)                 0.8                 0.8      0.6   \n6        (尿布)        (啤酒)                 0.8                 0.6      0.6   \n7        (啤酒)        (尿布)                 0.6                 0.8      0.6   \n\n   confidence    lift  leverage  conviction  \n0        0.75  0.9375     -0.04         0.8  \n1        0.75  0.9375     -0.04         0.8  \n2        0.75  0.9375     -0.04         0.8  \n3        0.75  0.9375     -0.04         0.8  \n4        0.75  0.9375     -0.04         0.8  \n5        0.75  0.9375     -0.04         0.8  \n6        0.75  1.2500      0.12         1.6  \n7        1.00  1.2500      0.12         inf  ",
      "text/html": "<div>\n<style scoped>\n    .dataframe tbody tr th:only-of-type {\n        vertical-align: middle;\n    }\n\n    .dataframe tbody tr th {\n        vertical-align: top;\n    }\n\n    .dataframe thead th {\n        text-align: right;\n    }\n</style>\n<table border=\"1\" class=\"dataframe\">\n  <thead>\n    <tr style=\"text-align: right;\">\n      <th></th>\n      <th>antecedents</th>\n      <th>consequents</th>\n      <th>antecedent support</th>\n      <th>consequent support</th>\n      <th>support</th>\n      <th>confidence</th>\n      <th>lift</th>\n      <th>leverage</th>\n      <th>conviction</th>\n    </tr>\n  </thead>\n  <tbody>\n    <tr>\n      <th>0</th>\n      <td>(豆奶)</td>\n      <td>(莴笋)</td>\n      <td>0.8</td>\n      <td>0.8</td>\n      <td>0.6</td>\n      <td>0.75</td>\n      <td>0.9375</td>\n      <td>-0.04</td>\n      <td>0.8</td>\n    </tr>\n    <tr>\n      <th>1</th>\n      <td>(莴笋)</td>\n      <td>(豆奶)</td>\n      <td>0.8</td>\n      <td>0.8</td>\n      <td>0.6</td>\n      <td>0.75</td>\n      <td>0.9375</td>\n      <td>-0.04</td>\n      <td>0.8</td>\n    </tr>\n    <tr>\n      <th>2</th>\n      <td>(莴笋)</td>\n      <td>(尿布)</td>\n      <td>0.8</td>\n      <td>0.8</td>\n      <td>0.6</td>\n      <td>0.75</td>\n      <td>0.9375</td>\n      <td>-0.04</td>\n      <td>0.8</td>\n    </tr>\n    <tr>\n      <th>3</th>\n      <td>(尿布)</td>\n      <td>(莴笋)</td>\n      <td>0.8</td>\n      <td>0.8</td>\n      <td>0.6</td>\n      <td>0.75</td>\n      <td>0.9375</td>\n      <td>-0.04</td>\n      <td>0.8</td>\n    </tr>\n    <tr>\n      <th>4</th>\n      <td>(豆奶)</td>\n      <td>(尿布)</td>\n      <td>0.8</td>\n      <td>0.8</td>\n      <td>0.6</td>\n      <td>0.75</td>\n      <td>0.9375</td>\n      <td>-0.04</td>\n      <td>0.8</td>\n    </tr>\n    <tr>\n      <th>5</th>\n      <td>(尿布)</td>\n      <td>(豆奶)</td>\n      <td>0.8</td>\n      <td>0.8</td>\n      <td>0.6</td>\n      <td>0.75</td>\n      <td>0.9375</td>\n      <td>-0.04</td>\n      <td>0.8</td>\n    </tr>\n    <tr>\n      <th>6</th>\n      <td>(尿布)</td>\n      <td>(啤酒)</td>\n      <td>0.8</td>\n      <td>0.6</td>\n      <td>0.6</td>\n      <td>0.75</td>\n      <td>1.2500</td>\n      <td>0.12</td>\n      <td>1.6</td>\n    </tr>\n    <tr>\n      <th>7</th>\n      <td>(啤酒)</td>\n      <td>(尿布)</td>\n      <td>0.6</td>\n      <td>0.8</td>\n      <td>0.6</td>\n      <td>1.00</td>\n      <td>1.2500</td>\n      <td>0.12</td>\n      <td>inf</td>\n    </tr>\n  </tbody>\n</table>\n</div>"
     },
     "execution_count": 5,
     "metadata": {},
     "output_type": "execute_result"
    }
   ],
   "source": [
    "from mlxtend.frequent_patterns import association_rules\n",
    "\n",
    "association_rules(frequent_itemsets, metric=\"confidence\", min_threshold=0.5)\n"
   ],
   "metadata": {
    "collapsed": false,
    "pycharm": {
     "name": "#%%\n"
    }
   }
  }
 ],
 "metadata": {
  "kernelspec": {
   "display_name": "Python 3",
   "language": "python",
   "name": "python3"
  },
  "language_info": {
   "codemirror_mode": {
    "name": "ipython",
    "version": 2
   },
   "file_extension": ".py",
   "mimetype": "text/x-python",
   "name": "python",
   "nbconvert_exporter": "python",
   "pygments_lexer": "ipython2",
   "version": "2.7.6"
  }
 },
 "nbformat": 4,
 "nbformat_minor": 0
}