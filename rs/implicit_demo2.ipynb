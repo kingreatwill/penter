{
 "cells": [
  {
   "cell_type": "code",
   "execution_count": null,
   "metadata": {
    "collapsed": true
   },
   "outputs": [],
   "source": [
    "from implicit.als import AlternatingLeastSquares\n",
    "from implicit.bpr import BayesianPersonalizedRanking\n",
    "from implicit.lmf import LogisticMatrixFactorization\n",
    "from implicit.approximate_als import NMSLibAlternatingLeastSquares,AnnoyAlternatingLeastSquares,FaissAlternatingLeastSquares\n",
    "from implicit.nearest_neighbours import ItemItemRecommender,CosineRecommender,TFIDFRecommender,BM25Recommender\n",
    "\n",
    "from scipy.sparse import csr_matrix\n",
    "import pandas as pd\n",
    "import numpy as np"
   ]
  },
  {
   "cell_type": "code",
   "execution_count": null,
   "outputs": [],
   "source": [
    "# 定义样本集;\n",
    "df = pd.DataFrame([['uid_001', 'iid_001', 0.2],\n",
    "                   ['uid_002', 'iid_002', 0.5],\n",
    "                   ['uid_003', 'iid_003', 0.7],\n",
    "                   ['uid_004', 'iid_004', 0.8],\n",
    "                   ['uid_005', 'iid_004', 0.5],\n",
    "                   ['uid_006', 'iid_001', 0.6],\n",
    "                   ['uid_007', 'iid_002', 0.7],\n",
    "                   ['uid_008', 'iid_003', 0.9],\n",
    "                   ['uid_009', 'iid_004', 0.1]], columns=['user_raw_id', 'item_raw_id', 'weight'])\n",
    "# 对象编码(原始序号转内部序号);\n",
    "df['user_id'], user_id_uniques = pd.factorize(values=df['user_raw_id'], sort=False, na_sentinel=-1, size_hint=None)\n",
    "df['item_id'], item_id_uniques = pd.factorize(values=df['item_raw_id'], sort=False, na_sentinel=-1, size_hint=None)\n",
    "# 调整顺序(演示专用);\n",
    "df = df[['user_raw_id', 'item_raw_id', 'user_id', 'item_id', 'weight']]\n",
    "df"
   ],
   "metadata": {
    "collapsed": false,
    "pycharm": {
     "name": "#%%\n"
    }
   }
  },
  {
   "cell_type": "code",
   "execution_count": null,
   "outputs": [],
   "source": [
    "# 压缩稀疏行矩阵: 行为用户(user_id), 列为物品(item_id);\n",
    "user_item_sparse_matrix = csr_matrix((df['weight'], (df['user_id'], df['item_id'])))\n",
    "# 压缩稀疏列矩阵: 行为物品(item_id), 列为用户(user_id);\n",
    "item_user_sparse_matrix = csr_matrix((df['weight'], (df['item_id'], df['user_id'])))\n",
    "# 交替最小二乘法;\n",
    "als = AlternatingLeastSquares(\n",
    "    factors=100,\n",
    "    regularization=0.01,\n",
    "    dtype=np.float32,\n",
    "    use_native=True,\n",
    "    use_cg=True,\n",
    "    use_gpu=False,\n",
    "    iterations=15,\n",
    "    calculate_training_loss=False,\n",
    "    num_threads=0,\n",
    "    random_state=42\n",
    ")\n",
    "als.fit(item_users=item_user_sparse_matrix, show_progress=False)\n",
    "# 相关属性;\n",
    "als.item_factors"
   ],
   "metadata": {
    "collapsed": false,
    "pycharm": {
     "name": "#%%\n"
    }
   }
  },
  {
   "cell_type": "code",
   "execution_count": null,
   "outputs": [],
   "source": [
    "als.user_factors\n"
   ],
   "metadata": {
    "collapsed": false,
    "pycharm": {
     "name": "#%%\n"
    }
   }
  }
 ],
 "metadata": {
  "kernelspec": {
   "display_name": "Python 3",
   "language": "python",
   "name": "python3"
  },
  "language_info": {
   "codemirror_mode": {
    "name": "ipython",
    "version": 2
   },
   "file_extension": ".py",
   "mimetype": "text/x-python",
   "name": "python",
   "nbconvert_exporter": "python",
   "pygments_lexer": "ipython2",
   "version": "2.7.6"
  }
 },
 "nbformat": 4,
 "nbformat_minor": 0
}