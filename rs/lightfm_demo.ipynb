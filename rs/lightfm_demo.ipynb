{
 "cells": [
  {
   "cell_type": "code",
   "execution_count": null,
   "metadata": {
    "collapsed": true
   },
   "outputs": [],
   "source": [
    "import numpy as np\n",
    "from lightfm.datasets import fetch_movielens\n",
    "from lightfm import LightFM\n",
    "from lightfm.evaluation import precision_at_k\n",
    "# https://grouplens.org/datasets/movielens/100k/\n",
    "data = fetch_movielens(data_home='./data', min_rating=5.0)  #  获取数据集\n",
    "\n",
    "print(repr(data['train']))  # 数据集中包含训练集和测试集 # coo_matrix 943\n",
    "print(repr(data['test']))  # coo_matrix 943\n",
    "\n",
    "'''\n",
    "使用WARP（加权近似秩对）模型。\n",
    "WARP是一个隐式反馈模型：训练矩阵中的所有交互都被视为正向，用户未与之隐式交互的产品则不喜欢。\n",
    "该模型的目标是对这些隐含的正向评分较高，同时将较低的分数与隐含的负向评分相关联。\n",
    "'''\n",
    "model = LightFM(loss='warp')\n",
    "%time model.fit(data['train'], epochs=30, num_threads=2)  # 时间\n",
    "\n",
    "# 评估模型效果\n",
    "# Precision @ k表示用户实际与之交互的排名中前k个项目的百分比\n",
    "print(\"Train precision: %.2f\" % precision_at_k(model, data['train'], k=5).mean())\n",
    "print(\"Test precision: %.2f\" % precision_at_k(model, data['test'], k=5).mean())\n",
    "\n",
    "\n",
    "def sample_recommendation(model, data, user_ids):\n",
    "    '''\n",
    "    预测并推荐用户最感兴趣的产品\n",
    "    '''\n",
    "    n_users, n_items = data['train'].shape\n",
    "    for user_id in user_ids:\n",
    "        known_positives = data['item_labels'][data['train'].tocsr()[user_id].indices]\n",
    "        scores = model.predict(user_id, np.arange(n_items))\n",
    "        top_items = data['item_labels'][np.argsort(-scores)]\n",
    "        print(\"User %s\" % user_id)\n",
    "        print(\"     Known positives:\")\n",
    "        for x in known_positives[:3]:\n",
    "            print(\"        %s\" % x)\n",
    "        print(\"     Recommended:\")\n",
    "        for x in top_items[:3]:\n",
    "            print(\"        %s\" % x)\n",
    "\n",
    "sample_recommendation(model, data, [3, 25, 450])"
   ]
  }
 ],
 "metadata": {
  "kernelspec": {
   "display_name": "Python 3",
   "language": "python",
   "name": "python3"
  },
  "language_info": {
   "codemirror_mode": {
    "name": "ipython",
    "version": 2
   },
   "file_extension": ".py",
   "mimetype": "text/x-python",
   "name": "python",
   "nbconvert_exporter": "python",
   "pygments_lexer": "ipython2",
   "version": "2.7.6"
  }
 },
 "nbformat": 4,
 "nbformat_minor": 0
}