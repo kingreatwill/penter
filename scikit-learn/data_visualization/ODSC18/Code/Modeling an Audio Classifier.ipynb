{
 "cells": [
  {
   "cell_type": "code",
   "execution_count": 1,
   "metadata": {},
   "outputs": [
    {
     "name": "stderr",
     "output_type": "stream",
     "text": [
      "Using TensorFlow backend.\n"
     ]
    }
   ],
   "source": [
    "from sklearn.externals import joblib\n",
    "import keras\n",
    "from keras import models\n",
    "from keras import layers\n",
    "import model_evaluation_utils as meu\n",
    "import matplotlib.pyplot as plt\n",
    "\n",
    "%matplotlib inline"
   ]
  },
  {
   "cell_type": "code",
   "execution_count": 2,
   "metadata": {},
   "outputs": [
    {
     "data": {
      "text/plain": [
       "((18300, 2048), (6100, 2048), (6100, 2048))"
      ]
     },
     "execution_count": 2,
     "metadata": {},
     "output_type": "execute_result"
    }
   ],
   "source": [
    "train_features = joblib.load('train_tl_features.pkl')\n",
    "train_labels = joblib.load('train_labels.pkl')\n",
    "validation_features = joblib.load('validate_tl_features.pkl')\n",
    "validation_labels = joblib.load('validate_labels.pkl')\n",
    "test_features = joblib.load('test_tl_features.pkl')\n",
    "test_labels = joblib.load('test_labels.pkl')\n",
    "\n",
    "train_features.shape, validation_features.shape, test_features.shape"
   ]
  },
  {
   "cell_type": "code",
   "execution_count": 3,
   "metadata": {},
   "outputs": [
    {
     "data": {
      "text/plain": [
       "((18300,), (6100,), (6100,))"
      ]
     },
     "execution_count": 3,
     "metadata": {},
     "output_type": "execute_result"
    }
   ],
   "source": [
    "train_labels.shape, validation_labels.shape, test_labels.shape"
   ]
  },
  {
   "cell_type": "code",
   "execution_count": 4,
   "metadata": {
    "collapsed": true
   },
   "outputs": [],
   "source": [
    "from keras.utils import to_categorical\n",
    "\n",
    "train_labels_ohe = to_categorical(train_labels)\n",
    "validation_labels_ohe = to_categorical(validation_labels)\n",
    "test_labels_ohe = to_categorical(test_labels)"
   ]
  },
  {
   "cell_type": "code",
   "execution_count": 5,
   "metadata": {},
   "outputs": [
    {
     "data": {
      "text/plain": [
       "((18300, 10), (6100, 10), (6100, 10))"
      ]
     },
     "execution_count": 5,
     "metadata": {},
     "output_type": "execute_result"
    }
   ],
   "source": [
    "train_labels_ohe.shape, validation_labels_ohe.shape, test_labels_ohe.shape"
   ]
  },
  {
   "cell_type": "code",
   "execution_count": 6,
   "metadata": {},
   "outputs": [
    {
     "name": "stdout",
     "output_type": "stream",
     "text": [
      "_________________________________________________________________\n",
      "Layer (type)                 Output Shape              Param #   \n",
      "=================================================================\n",
      "dense_1 (Dense)              (None, 1024)              2098176   \n",
      "_________________________________________________________________\n",
      "dropout_1 (Dropout)          (None, 1024)              0         \n",
      "_________________________________________________________________\n",
      "dense_2 (Dense)              (None, 1024)              1049600   \n",
      "_________________________________________________________________\n",
      "dropout_2 (Dropout)          (None, 1024)              0         \n",
      "_________________________________________________________________\n",
      "dense_3 (Dense)              (None, 512)               524800    \n",
      "_________________________________________________________________\n",
      "dropout_3 (Dropout)          (None, 512)               0         \n",
      "_________________________________________________________________\n",
      "dense_4 (Dense)              (None, 512)               262656    \n",
      "_________________________________________________________________\n",
      "dropout_4 (Dropout)          (None, 512)               0         \n",
      "_________________________________________________________________\n",
      "dense_5 (Dense)              (None, 10)                5130      \n",
      "=================================================================\n",
      "Total params: 3,940,362\n",
      "Trainable params: 3,940,362\n",
      "Non-trainable params: 0\n",
      "_________________________________________________________________\n"
     ]
    }
   ],
   "source": [
    "model = models.Sequential()\n",
    "model.add(layers.Dense(1024, activation='relu', input_shape=(train_features.shape[1],)))\n",
    "model.add(layers.Dropout(0.4))\n",
    "model.add(layers.Dense(1024, activation='relu'))\n",
    "model.add(layers.Dropout(0.4))\n",
    "model.add(layers.Dense(512, activation='relu'))\n",
    "model.add(layers.Dropout(0.5))\n",
    "model.add(layers.Dense(512, activation='relu'))\n",
    "model.add(layers.Dropout(0.5))\n",
    "model.add(layers.Dense(train_labels_ohe.shape[1], activation='softmax'))\n",
    "model.compile(loss='categorical_crossentropy', optimizer='adam',                 \n",
    "                      metrics=['accuracy'])\n",
    "\n",
    "model.summary()"
   ]
  },
  {
   "cell_type": "code",
   "execution_count": 7,
   "metadata": {},
   "outputs": [
    {
     "name": "stdout",
     "output_type": "stream",
     "text": [
      "Train on 18300 samples, validate on 6100 samples\n",
      "Epoch 1/50\n",
      "18300/18300 [==============================] - 2s - loss: 2.7953 - acc: 0.3959 - val_loss: 1.0665 - val_acc: 0.6675\n",
      "Epoch 2/50\n",
      "18300/18300 [==============================] - 1s - loss: 1.1606 - acc: 0.6211 - val_loss: 0.8179 - val_acc: 0.7444\n",
      "Epoch 3/50\n",
      "18300/18300 [==============================] - 1s - loss: 0.9639 - acc: 0.6894 - val_loss: 0.6886 - val_acc: 0.7915\n",
      "Epoch 4/50\n",
      "18300/18300 [==============================] - 1s - loss: 0.8433 - acc: 0.7295 - val_loss: 0.6637 - val_acc: 0.7908\n",
      "Epoch 5/50\n",
      "18300/18300 [==============================] - 1s - loss: 0.7705 - acc: 0.7569 - val_loss: 0.5964 - val_acc: 0.8198\n",
      "Epoch 6/50\n",
      "18300/18300 [==============================] - 1s - loss: 0.7160 - acc: 0.7691 - val_loss: 0.5718 - val_acc: 0.8308\n",
      "Epoch 7/50\n",
      "18300/18300 [==============================] - 1s - loss: 0.6636 - acc: 0.7867 - val_loss: 0.5309 - val_acc: 0.8321\n",
      "Epoch 8/50\n",
      "18300/18300 [==============================] - 1s - loss: 0.6083 - acc: 0.8038 - val_loss: 0.5368 - val_acc: 0.8408\n",
      "Epoch 9/50\n",
      "18300/18300 [==============================] - 1s - loss: 0.5908 - acc: 0.8095 - val_loss: 0.4775 - val_acc: 0.8502\n",
      "Epoch 10/50\n",
      "18300/18300 [==============================] - 1s - loss: 0.5552 - acc: 0.8256 - val_loss: 0.4782 - val_acc: 0.8502\n",
      "Epoch 11/50\n",
      "18300/18300 [==============================] - 1s - loss: 0.5261 - acc: 0.8336 - val_loss: 0.4812 - val_acc: 0.8530\n",
      "Epoch 12/50\n",
      "18300/18300 [==============================] - 1s - loss: 0.5231 - acc: 0.8342 - val_loss: 0.4697 - val_acc: 0.8548\n",
      "Epoch 13/50\n",
      "18300/18300 [==============================] - 1s - loss: 0.4881 - acc: 0.8431 - val_loss: 0.4418 - val_acc: 0.8574\n",
      "Epoch 14/50\n",
      "18300/18300 [==============================] - 1s - loss: 0.4752 - acc: 0.8503 - val_loss: 0.4410 - val_acc: 0.8674\n",
      "Epoch 15/50\n",
      "18300/18300 [==============================] - 1s - loss: 0.4645 - acc: 0.8523 - val_loss: 0.4526 - val_acc: 0.8621\n",
      "Epoch 16/50\n",
      "18300/18300 [==============================] - 1s - loss: 0.4348 - acc: 0.8620 - val_loss: 0.4561 - val_acc: 0.8536\n",
      "Epoch 17/50\n",
      "18300/18300 [==============================] - 1s - loss: 0.4372 - acc: 0.8638 - val_loss: 0.4364 - val_acc: 0.8623\n",
      "Epoch 18/50\n",
      "18300/18300 [==============================] - 1s - loss: 0.4240 - acc: 0.8644 - val_loss: 0.4223 - val_acc: 0.8720\n",
      "Epoch 19/50\n",
      "18300/18300 [==============================] - 1s - loss: 0.4074 - acc: 0.8705 - val_loss: 0.4211 - val_acc: 0.8693\n",
      "Epoch 20/50\n",
      "18300/18300 [==============================] - 1s - loss: 0.3951 - acc: 0.8738 - val_loss: 0.4125 - val_acc: 0.8687\n",
      "Epoch 21/50\n",
      "18300/18300 [==============================] - 1s - loss: 0.3808 - acc: 0.8809 - val_loss: 0.4104 - val_acc: 0.8730\n",
      "Epoch 22/50\n",
      "18300/18300 [==============================] - 1s - loss: 0.3878 - acc: 0.8785 - val_loss: 0.4062 - val_acc: 0.8713\n",
      "Epoch 23/50\n",
      "18300/18300 [==============================] - 1s - loss: 0.3747 - acc: 0.8797 - val_loss: 0.4260 - val_acc: 0.8675\n",
      "Epoch 24/50\n",
      "18300/18300 [==============================] - 1s - loss: 0.3719 - acc: 0.8809 - val_loss: 0.4276 - val_acc: 0.8702\n",
      "Epoch 25/50\n",
      "18300/18300 [==============================] - 1s - loss: 0.3615 - acc: 0.8850 - val_loss: 0.4148 - val_acc: 0.8754\n",
      "Epoch 26/50\n",
      "18300/18300 [==============================] - 1s - loss: 0.3671 - acc: 0.8833 - val_loss: 0.4015 - val_acc: 0.8777\n",
      "Epoch 27/50\n",
      "18300/18300 [==============================] - 1s - loss: 0.3603 - acc: 0.8871 - val_loss: 0.4043 - val_acc: 0.8741\n",
      "Epoch 28/50\n",
      "18300/18300 [==============================] - 1s - loss: 0.3455 - acc: 0.8873 - val_loss: 0.4158 - val_acc: 0.8720\n",
      "Epoch 29/50\n",
      "18300/18300 [==============================] - 1s - loss: 0.3474 - acc: 0.8902 - val_loss: 0.4345 - val_acc: 0.8703\n",
      "Epoch 30/50\n",
      "18300/18300 [==============================] - 1s - loss: 0.3319 - acc: 0.8967 - val_loss: 0.4515 - val_acc: 0.8692\n",
      "Epoch 31/50\n",
      "18300/18300 [==============================] - 1s - loss: 0.3277 - acc: 0.8958 - val_loss: 0.4073 - val_acc: 0.8739\n",
      "Epoch 32/50\n",
      "18300/18300 [==============================] - 1s - loss: 0.3365 - acc: 0.8940 - val_loss: 0.4153 - val_acc: 0.8775\n",
      "Epoch 33/50\n",
      "18300/18300 [==============================] - 1s - loss: 0.3152 - acc: 0.9013 - val_loss: 0.4107 - val_acc: 0.8818\n",
      "Epoch 34/50\n",
      "18300/18300 [==============================] - 1s - loss: 0.3137 - acc: 0.9021 - val_loss: 0.4184 - val_acc: 0.8797\n",
      "Epoch 35/50\n",
      "18300/18300 [==============================] - 1s - loss: 0.3020 - acc: 0.9049 - val_loss: 0.4202 - val_acc: 0.8762\n",
      "Epoch 36/50\n",
      "18300/18300 [==============================] - 1s - loss: 0.3161 - acc: 0.9035 - val_loss: 0.4112 - val_acc: 0.8756\n",
      "Epoch 37/50\n",
      "18300/18300 [==============================] - 1s - loss: 0.3211 - acc: 0.8990 - val_loss: 0.4247 - val_acc: 0.8787\n",
      "Epoch 38/50\n",
      "18300/18300 [==============================] - 1s - loss: 0.3188 - acc: 0.9005 - val_loss: 0.4392 - val_acc: 0.8684\n",
      "Epoch 39/50\n",
      "18300/18300 [==============================] - 1s - loss: 0.3063 - acc: 0.9036 - val_loss: 0.4322 - val_acc: 0.8767\n",
      "Epoch 40/50\n",
      "18300/18300 [==============================] - 1s - loss: 0.3106 - acc: 0.9080 - val_loss: 0.4425 - val_acc: 0.8731\n",
      "Epoch 41/50\n",
      "18300/18300 [==============================] - 1s - loss: 0.3080 - acc: 0.9058 - val_loss: 0.3931 - val_acc: 0.8823\n",
      "Epoch 42/50\n",
      "18300/18300 [==============================] - 1s - loss: 0.2952 - acc: 0.9099 - val_loss: 0.4147 - val_acc: 0.8833\n",
      "Epoch 43/50\n",
      "18300/18300 [==============================] - 1s - loss: 0.2911 - acc: 0.9113 - val_loss: 0.4242 - val_acc: 0.8854\n",
      "Epoch 44/50\n",
      "18300/18300 [==============================] - 1s - loss: 0.2878 - acc: 0.9146 - val_loss: 0.4201 - val_acc: 0.8816\n",
      "Epoch 45/50\n",
      "18300/18300 [==============================] - 1s - loss: 0.2805 - acc: 0.9128 - val_loss: 0.4247 - val_acc: 0.8848\n",
      "Epoch 46/50\n",
      "18300/18300 [==============================] - 1s - loss: 0.2766 - acc: 0.9136 - val_loss: 0.4249 - val_acc: 0.8833\n",
      "Epoch 47/50\n",
      "18300/18300 [==============================] - 1s - loss: 0.2720 - acc: 0.9156 - val_loss: 0.4090 - val_acc: 0.8830\n",
      "Epoch 48/50\n",
      "18300/18300 [==============================] - 1s - loss: 0.2753 - acc: 0.9157 - val_loss: 0.4218 - val_acc: 0.8797\n",
      "Epoch 49/50\n",
      "18300/18300 [==============================] - 1s - loss: 0.2813 - acc: 0.9142 - val_loss: 0.4220 - val_acc: 0.8810\n",
      "Epoch 50/50\n",
      "18300/18300 [==============================] - 1s - loss: 0.2631 - acc: 0.9197 - val_loss: 0.3887 - val_acc: 0.8890\n"
     ]
    }
   ],
   "source": [
    "history = model.fit(train_features,\n",
    "                    train_labels_ohe,\n",
    "                    epochs=50,\n",
    "                    batch_size=128,\n",
    "                    validation_data=(validation_features, validation_labels_ohe), \n",
    "                    shuffle=True,\n",
    "                    verbose=1)"
   ]
  },
  {
   "cell_type": "code",
   "execution_count": 10,
   "metadata": {},
   "outputs": [
    {
     "name": "stdout",
     "output_type": "stream",
     "text": [
      "5824/6100 [===========================>..] - ETA: 0s"
     ]
    }
   ],
   "source": [
    "predictions = model.predict_classes(test_features)"
   ]
  },
  {
   "cell_type": "code",
   "execution_count": 12,
   "metadata": {},
   "outputs": [
    {
     "data": {
      "image/png": "[encoded data removed]",
      "text/plain": [
       "<matplotlib.figure.Figure at 0x7fdd0f8fdcc0>"
      ]
     },
     "metadata": {},
     "output_type": "display_data"
    }
   ],
   "source": [
    "f, (ax1, ax2) = plt.subplots(1, 2, figsize=(12, 4))\n",
    "t = f.suptitle('Deep Neural Net Performance', fontsize=12)\n",
    "f.subplots_adjust(top=0.85, wspace=0.2)\n",
    "\n",
    "epochs = list(range(1,51))\n",
    "ax1.plot(epochs, history.history['acc'], label='Train Accuracy')\n",
    "ax1.plot(epochs, history.history['val_acc'], label='Validation Accuracy')\n",
    "ax1.set_ylabel('Accuracy Value')\n",
    "ax1.set_xlabel('Epoch')\n",
    "ax1.set_title('Accuracy')\n",
    "l1 = ax1.legend(loc=\"best\")\n",
    "\n",
    "ax2.plot(epochs, history.history['loss'], label='Train Loss')\n",
    "ax2.plot(epochs, history.history['val_loss'], label='Validation Loss')\n",
    "ax2.set_ylabel('Loss Value')\n",
    "ax2.set_xlabel('Epoch')\n",
    "ax2.set_title('Loss')\n",
    "l2 = ax2.legend(loc=\"best\")"
   ]
  },
  {
   "cell_type": "code",
   "execution_count": 13,
   "metadata": {},
   "outputs": [],
   "source": [
    "class_map = {'0' : 'air_conditioner', '1' : 'car_horn', '2' : 'children_playing', '3' : 'dog_bark', '4' : 'drilling', \n",
    "             '5' : 'engine_idling', '6' : 'gun_shot', '7' : 'jackhammer', '8' : 'siren', '9' : 'street_music'}\n",
    "\n",
    "test_labels_categories = [class_map[str(label)] for label in test_labels]\n",
    "prediction_labels_categories = [class_map[str(label)] for label in predictions]\n",
    "category_names = list(class_map.values())"
   ]
  },
  {
   "cell_type": "code",
   "execution_count": 14,
   "metadata": {},
   "outputs": [
    {
     "name": "stdout",
     "output_type": "stream",
     "text": [
      "Accuracy: 0.8869\n",
      "Precision: 0.8864\n",
      "Recall: 0.8869\n",
      "F1 Score: 0.8861\n"
     ]
    }
   ],
   "source": [
    "meu.get_metrics(true_labels=test_labels_categories, \n",
    "                predicted_labels=prediction_labels_categories)"
   ]
  },
  {
   "cell_type": "code",
   "execution_count": 15,
   "metadata": {},
   "outputs": [
    {
     "name": "stdout",
     "output_type": "stream",
     "text": [
      "                  precision    recall  f1-score   support\n",
      "\n",
      "        car_horn       0.87      0.73      0.79       188\n",
      "           siren       0.95      0.94      0.94       750\n",
      "        drilling       0.88      0.93      0.90       697\n",
      "        gun_shot       0.94      0.94      0.94        71\n",
      "children_playing       0.83      0.79      0.81       750\n",
      " air_conditioner       0.89      0.94      0.92       813\n",
      "      jackhammer       0.92      0.93      0.92       735\n",
      "   engine_idling       0.94      0.95      0.95       745\n",
      "        dog_bark       0.87      0.83      0.85       543\n",
      "    street_music       0.81      0.81      0.81       808\n",
      "\n",
      "     avg / total       0.89      0.89      0.89      6100\n",
      "\n"
     ]
    }
   ],
   "source": [
    "meu.display_classification_report(true_labels=test_labels_categories, \n",
    "                                  predicted_labels=prediction_labels_categories, \n",
    "                                  classes=category_names)"
   ]
  },
  {
   "cell_type": "code",
   "execution_count": 16,
   "metadata": {},
   "outputs": [
    {
     "data": {
      "text/html": [
       "<div>\n",
       "<style>\n",
       "    .dataframe thead tr:only-child th {\n",
       "        text-align: right;\n",
       "    }\n",
       "\n",
       "    .dataframe thead th {\n",
       "        text-align: left;\n",
       "    }\n",
       "\n",
       "    .dataframe tbody tr th {\n",
       "        vertical-align: top;\n",
       "    }\n",
       "</style>\n",
       "<table border=\"1\" class=\"dataframe\">\n",
       "  <thead>\n",
       "    <tr>\n",
       "      <th></th>\n",
       "      <th></th>\n",
       "      <th colspan=\"10\" halign=\"left\">Predicted:</th>\n",
       "    </tr>\n",
       "    <tr>\n",
       "      <th></th>\n",
       "      <th></th>\n",
       "      <th>car_horn</th>\n",
       "      <th>siren</th>\n",
       "      <th>drilling</th>\n",
       "      <th>gun_shot</th>\n",
       "      <th>children_playing</th>\n",
       "      <th>air_conditioner</th>\n",
       "      <th>jackhammer</th>\n",
       "      <th>engine_idling</th>\n",
       "      <th>dog_bark</th>\n",
       "      <th>street_music</th>\n",
       "    </tr>\n",
       "  </thead>\n",
       "  <tbody>\n",
       "    <tr>\n",
       "      <th rowspan=\"10\" valign=\"top\">Actual:</th>\n",
       "      <th>car_horn</th>\n",
       "      <td>137</td>\n",
       "      <td>4</td>\n",
       "      <td>15</td>\n",
       "      <td>0</td>\n",
       "      <td>3</td>\n",
       "      <td>3</td>\n",
       "      <td>4</td>\n",
       "      <td>1</td>\n",
       "      <td>2</td>\n",
       "      <td>19</td>\n",
       "    </tr>\n",
       "    <tr>\n",
       "      <th>siren</th>\n",
       "      <td>1</td>\n",
       "      <td>705</td>\n",
       "      <td>5</td>\n",
       "      <td>0</td>\n",
       "      <td>7</td>\n",
       "      <td>18</td>\n",
       "      <td>1</td>\n",
       "      <td>2</td>\n",
       "      <td>6</td>\n",
       "      <td>5</td>\n",
       "    </tr>\n",
       "    <tr>\n",
       "      <th>drilling</th>\n",
       "      <td>1</td>\n",
       "      <td>2</td>\n",
       "      <td>650</td>\n",
       "      <td>0</td>\n",
       "      <td>1</td>\n",
       "      <td>4</td>\n",
       "      <td>29</td>\n",
       "      <td>2</td>\n",
       "      <td>4</td>\n",
       "      <td>4</td>\n",
       "    </tr>\n",
       "    <tr>\n",
       "      <th>gun_shot</th>\n",
       "      <td>0</td>\n",
       "      <td>0</td>\n",
       "      <td>1</td>\n",
       "      <td>67</td>\n",
       "      <td>0</td>\n",
       "      <td>0</td>\n",
       "      <td>0</td>\n",
       "      <td>1</td>\n",
       "      <td>2</td>\n",
       "      <td>0</td>\n",
       "    </tr>\n",
       "    <tr>\n",
       "      <th>children_playing</th>\n",
       "      <td>2</td>\n",
       "      <td>11</td>\n",
       "      <td>13</td>\n",
       "      <td>1</td>\n",
       "      <td>592</td>\n",
       "      <td>14</td>\n",
       "      <td>2</td>\n",
       "      <td>7</td>\n",
       "      <td>31</td>\n",
       "      <td>77</td>\n",
       "    </tr>\n",
       "    <tr>\n",
       "      <th>air_conditioner</th>\n",
       "      <td>2</td>\n",
       "      <td>0</td>\n",
       "      <td>6</td>\n",
       "      <td>1</td>\n",
       "      <td>8</td>\n",
       "      <td>768</td>\n",
       "      <td>7</td>\n",
       "      <td>10</td>\n",
       "      <td>2</td>\n",
       "      <td>9</td>\n",
       "    </tr>\n",
       "    <tr>\n",
       "      <th>jackhammer</th>\n",
       "      <td>0</td>\n",
       "      <td>0</td>\n",
       "      <td>28</td>\n",
       "      <td>0</td>\n",
       "      <td>0</td>\n",
       "      <td>14</td>\n",
       "      <td>680</td>\n",
       "      <td>11</td>\n",
       "      <td>0</td>\n",
       "      <td>2</td>\n",
       "    </tr>\n",
       "    <tr>\n",
       "      <th>engine_idling</th>\n",
       "      <td>1</td>\n",
       "      <td>0</td>\n",
       "      <td>3</td>\n",
       "      <td>0</td>\n",
       "      <td>4</td>\n",
       "      <td>10</td>\n",
       "      <td>4</td>\n",
       "      <td>707</td>\n",
       "      <td>8</td>\n",
       "      <td>8</td>\n",
       "    </tr>\n",
       "    <tr>\n",
       "      <th>dog_bark</th>\n",
       "      <td>1</td>\n",
       "      <td>9</td>\n",
       "      <td>8</td>\n",
       "      <td>2</td>\n",
       "      <td>37</td>\n",
       "      <td>10</td>\n",
       "      <td>0</td>\n",
       "      <td>1</td>\n",
       "      <td>448</td>\n",
       "      <td>27</td>\n",
       "    </tr>\n",
       "    <tr>\n",
       "      <th>street_music</th>\n",
       "      <td>12</td>\n",
       "      <td>15</td>\n",
       "      <td>12</td>\n",
       "      <td>0</td>\n",
       "      <td>64</td>\n",
       "      <td>18</td>\n",
       "      <td>10</td>\n",
       "      <td>7</td>\n",
       "      <td>14</td>\n",
       "      <td>656</td>\n",
       "    </tr>\n",
       "  </tbody>\n",
       "</table>\n",
       "</div>"
      ],
      "text/plain": [
       "                         Predicted:                                           \\\n",
       "                           car_horn siren drilling gun_shot children_playing   \n",
       "Actual: car_horn                137     4       15        0                3   \n",
       "        siren                     1   705        5        0                7   \n",
       "        drilling                  1     2      650        0                1   \n",
       "        gun_shot                  0     0        1       67                0   \n",
       "        children_playing          2    11       13        1              592   \n",
       "        air_conditioner           2     0        6        1                8   \n",
       "        jackhammer                0     0       28        0                0   \n",
       "        engine_idling             1     0        3        0                4   \n",
       "        dog_bark                  1     9        8        2               37   \n",
       "        street_music             12    15       12        0               64   \n",
       "\n",
       "                                                                            \\\n",
       "                         air_conditioner jackhammer engine_idling dog_bark   \n",
       "Actual: car_horn                       3          4             1        2   \n",
       "        siren                         18          1             2        6   \n",
       "        drilling                       4         29             2        4   \n",
       "        gun_shot                       0          0             1        2   \n",
       "        children_playing              14          2             7       31   \n",
       "        air_conditioner              768          7            10        2   \n",
       "        jackhammer                    14        680            11        0   \n",
       "        engine_idling                 10          4           707        8   \n",
       "        dog_bark                      10          0             1      448   \n",
       "        street_music                  18         10             7       14   \n",
       "\n",
       "                                       \n",
       "                         street_music  \n",
       "Actual: car_horn                   19  \n",
       "        siren                       5  \n",
       "        drilling                    4  \n",
       "        gun_shot                    0  \n",
       "        children_playing           77  \n",
       "        air_conditioner             9  \n",
       "        jackhammer                  2  \n",
       "        engine_idling               8  \n",
       "        dog_bark                   27  \n",
       "        street_music              656  "
      ]
     },
     "execution_count": 16,
     "metadata": {},
     "output_type": "execute_result"
    }
   ],
   "source": [
    "meu.display_confusion_matrix_pretty(true_labels=test_labels_categories, \n",
    "                                    predicted_labels=prediction_labels_categories, \n",
    "                                    classes=category_names)"
   ]
  },
  {
   "cell_type": "code",
   "execution_count": 17,
   "metadata": {
    "collapsed": true
   },
   "outputs": [],
   "source": [
    "model.save('sound_classification_model.h5') "
   ]
  }
 ],
 "metadata": {
  "anaconda-cloud": {},
  "kernelspec": {
   "display_name": "Python [default]",
   "language": "python",
   "name": "python3"
  },
  "language_info": {
   "codemirror_mode": {
    "name": "ipython",
    "version": 3
   },
   "file_extension": ".py",
   "mimetype": "text/x-python",
   "name": "python",
   "nbconvert_exporter": "python",
   "pygments_lexer": "ipython3",
   "version": "3.5.2"
  }
 },
 "nbformat": 4,
 "nbformat_minor": 2
}
