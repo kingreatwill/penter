{
 "cells": [
  {
   "cell_type": "markdown",
   "metadata": {
    "collapsed": true,
    "pycharm": {
     "name": "#%% md\n"
    }
   },
   "source": [
    "# 置信区间\n",
    "\n",
    "整体通过检验Pass the inspection wholely.\n",
    "置信度Degree of confidence\n",
    "置信区间 Range of confidence\n",
    "\n",
    "预测区间，预测区间是观测值的置信区间，包括误差估计。([预测区间比置信区间宽](https://www.zhihu.com/question/263893098/answer/676012258))\n",
    "\n",
    "预测区间估计(prediction interval estimate)：利用估计的回归方程，对于自变量 x 的一个给定值 x0 ，求出因变量 y 的一个个别值的估计区间。变量的估计叫预测区间，预测区间反映了单个数值的不确定性；\n",
    "\n",
    "置信区间估计(confidence interval estimate)：利用估计的回归方程，对于自变量 x 的一个给定值 x0 ，求出因变量 y 的平均值的估计区间。参数的估计叫置信区间，置信区间反映了预测均值的不确定性。\n",
    "\n",
    "![](https://github.com/openjw/open/blob/master/MachineLearning/img/Range_of_confidence.png?raw=true)\n",
    "## 贝叶斯线性回归\n",
    "predict(X[, return_std]) 可以返回方差（有了均值和方差就可以计算预测区间了）\n",
    "\n",
    "\n",
    "\n",
    "## 其它\n",
    "[回归预测值预测区间_第四十讲 R-线性回归：预测模型及可信区间](https://blog.csdn.net/weixin_30011833/article/details/112624965)\n",
    "[回归预测值预测区间_【Origin】通过线性拟合添加置信区间](https://blog.csdn.net/weixin_39894778/article/details/112624975)\n",
    "[confidence interval](https://github.com/coolcalbeans/PEPredictor)\n",
    "\n",
    "[使用分位数回归预测目标的取值范围](https://www.jianshu.com/p/073bc0b0bbfa)\n",
    "\n",
    "[如何近似计算回归方程的预测区间](https://blog.csdn.net/dylanren/article/details/105841919)\n",
    "\n",
    "[如何理解 95% 置信区间？](https://www.zhihu.com/question/26419030/answer/70589735)\n",
    "## MAPIE\n",
    "https://github.com/simai-ml/MAPIE\n",
    "\n",
    "https://mapie.readthedocs.io/en/latest/tutorial.html\n",
    "\n",
    "## statsmodels伪代码\n",
    "> [statsmodels模块提供置信区间](https://github.com/statsmodels/statsmodels)\n",
    "\n",
    "1. 方法一？\n",
    "\n",
    "```\n",
    "\n",
    "import numpy as np\n",
    "import statsmodels.api as sm\n",
    "from statsmodels.sandbox.regression.predstd import wls_prediction_std\n",
    "\n",
    "n = 100\n",
    "\n",
    "x = np.linspace(0, 10, n)\n",
    "e = np.random.normal(size=n)\n",
    "y = 1 + 0.5*x + 2*e\n",
    "X = sm.add_constant(x)\n",
    "\n",
    "re = sm.OLS(y, X).fit()\n",
    "print(re.summary())\n",
    "\n",
    "prstd, iv_l, iv_u = wls_prediction_std(re)\n",
    "# iv_l和iv_u是上下置信区间\n",
    "```\n",
    "\n",
    "2. 方法二？\n",
    "\n",
    "```\n",
    "from statsmodels.stats.outliers_influence import summary_table\n",
    "\n",
    "st, data, ss2 = summary_table(re, alpha=0.05)\n",
    "\n",
    "fittedvalues = data[:, 2]\n",
    "predict_mean_se  = data[:, 3]\n",
    "predict_mean_ci_low, predict_mean_ci_upp = data[:, 4:6].T # 上下区间\n",
    "predict_ci_low, predict_ci_upp = data[:, 6:8].T # 上下区间\n",
    "\n",
    "# Check we got the right things\n",
    "print np.max(np.abs(re.fittedvalues - fittedvalues))\n",
    "print np.max(np.abs(iv_l - predict_ci_low))\n",
    "print np.max(np.abs(iv_u - predict_ci_upp))\n",
    "\n",
    "plt.plot(x, y, 'o')\n",
    "plt.plot(x, fittedvalues, '-', lw=2)\n",
    "plt.plot(x, predict_ci_low, 'r--', lw=2)\n",
    "plt.plot(x, predict_ci_upp, 'r--', lw=2)\n",
    "plt.plot(x, predict_mean_ci_low, 'r--', lw=2)\n",
    "plt.plot(x, predict_mean_ci_upp, 'r--', lw=2)\n",
    "plt.show()\n",
    "```\n",
    "\n",
    "3. 方法三？\n",
    "\n",
    "```\n",
    "predictions = re.get_prediction(out_of_sample_df)\n",
    "predictions.summary_frame(alpha=0.05) # 通过修改“alpha”参数，可以更改置信区间和预测区间的显著性级别。\n",
    "\n",
    "# 下面是一个函数，使用此方法获取模型、新数据和任意分位数：\n",
    "\n",
    "def ols_quantile(m, X, q):\n",
    "  # m: OLS model.\n",
    "  # X: X matrix.\n",
    "  # q: Quantile.\n",
    "  #\n",
    "  # Set alpha based on q.\n",
    "  a = q * 2\n",
    "  if q > 0.5:\n",
    "    a = 2 * (1 - q)\n",
    "  predictions = m.get_prediction(X)\n",
    "  frame = predictions.summary_frame(alpha=a)\n",
    "  if q > 0.5:\n",
    "    return frame.obs_ci_upper\n",
    "  return frame.obs_ci_lower\n",
    "```"
   ]
  },
  {
   "cell_type": "code",
   "execution_count": 1,
   "outputs": [],
   "source": [
    "import pandas as pd\n",
    "import numpy as np\n",
    "from sklearn import datasets, linear_model"
   ],
   "metadata": {
    "collapsed": false,
    "pycharm": {
     "name": "#%%\n"
    }
   }
  },
  {
   "cell_type": "code",
   "execution_count": 2,
   "outputs": [],
   "source": [
    "class LRPI:\n",
    "    def __init__(self, normalize=False, n_jobs=1, t_value = 2.13144955):\n",
    "        self.normalize = normalize\n",
    "        self.n_jobs = n_jobs\n",
    "        self.LR = linear_model.LinearRegression(normalize=self.normalize, n_jobs= self.n_jobs)\n",
    "        self.t_value = t_value\n",
    "\n",
    "    def fit(self, X_train, y_train):\n",
    "        self.X_train = pd.DataFrame(X_train.values)\n",
    "        self.y_train = pd.DataFrame(y_train.values)\n",
    "\n",
    "        self.LR.fit(self.X_train, self.y_train)\n",
    "        X_train_fit = self.LR.predict(self.X_train)\n",
    "        self.MSE = np.power(self.y_train.subtract(X_train_fit), 2).sum(axis=0) / (self.X_train.shape[0] - self.X_train.shape[1] - 1)\n",
    "        self.X_train.loc[:, 'const_one'] = 1\n",
    "        self.XTX_inv = np.linalg.inv(np.dot(np.transpose(self.X_train.values) , self.X_train.values))\n",
    "\n",
    "    def predict(self, X_test):\n",
    "        self.X_test = pd.DataFrame(X_test.values)\n",
    "        self.pred = self.LR.predict(self.X_test)\n",
    "        self.X_test.loc[: , 'const_one'] =1\n",
    "        SE = [np.dot(np.transpose(self.X_test.values[i]) , np.dot(self.XTX_inv, self.X_test.values[i]) ) for i in range(len(self.X_test)) ]\n",
    "        results = pd.DataFrame(self.pred , columns=['Pred'])\n",
    "        # 预测区间\n",
    "        results.loc[:,\"lower\"] = results['Pred'].subtract((self.t_value)* (np.sqrt(self.MSE.values + np.multiply(SE,self.MSE.values) )),  axis=0)\n",
    "        results.loc[:,\"upper\"] = results['Pred'].add((self.t_value)* (np.sqrt(self.MSE.values + np.multiply(SE,self.MSE.values) )),  axis=0)\n",
    "\n",
    "        return results"
   ],
   "metadata": {
    "collapsed": false,
    "pycharm": {
     "name": "#%%\n"
    }
   }
  },
  {
   "cell_type": "code",
   "execution_count": 3,
   "outputs": [],
   "source": [
    "data = pd.DataFrame(datasets.load_diabetes().data)\n",
    "target = pd.DataFrame(datasets.load_diabetes().target)"
   ],
   "metadata": {
    "collapsed": false,
    "pycharm": {
     "name": "#%%\n"
    }
   }
  },
  {
   "cell_type": "code",
   "execution_count": 4,
   "outputs": [],
   "source": [
    "X_train = data.iloc[:-30 ]\n",
    "y_train = target.iloc[: -30 ]\n",
    "\n",
    "X_test = data.iloc[-30: ]\n",
    "y_test = target.iloc[-30: ]\n",
    "\n"
   ],
   "metadata": {
    "collapsed": false,
    "pycharm": {
     "name": "#%%\n"
    }
   }
  },
  {
   "cell_type": "code",
   "execution_count": 5,
   "outputs": [],
   "source": [
    "model = LRPI()\n",
    "model.fit(X_train, y_train)\n",
    "\n"
   ],
   "metadata": {
    "collapsed": false,
    "pycharm": {
     "name": "#%%\n"
    }
   }
  },
  {
   "cell_type": "code",
   "execution_count": 6,
   "outputs": [
    {
     "data": {
      "text/plain": "         Pred       lower       upper\n0  234.040695  115.313069  352.768320\n1  122.922466    4.996653  240.848279\n2  166.354331   47.642949  285.065713\n3  174.392229   56.049506  292.734952\n4  226.948514  107.843118  346.053910\n5  151.821902   33.002894  270.640910\n6  100.943585  -17.585884  219.473054\n7   83.089561  -35.107119  201.286241\n8  143.129867   24.313062  261.946671\n9  192.678237   74.918278  310.438195",
      "text/html": "<div>\n<style scoped>\n    .dataframe tbody tr th:only-of-type {\n        vertical-align: middle;\n    }\n\n    .dataframe tbody tr th {\n        vertical-align: top;\n    }\n\n    .dataframe thead th {\n        text-align: right;\n    }\n</style>\n<table border=\"1\" class=\"dataframe\">\n  <thead>\n    <tr style=\"text-align: right;\">\n      <th></th>\n      <th>Pred</th>\n      <th>lower</th>\n      <th>upper</th>\n    </tr>\n  </thead>\n  <tbody>\n    <tr>\n      <th>0</th>\n      <td>234.040695</td>\n      <td>115.313069</td>\n      <td>352.768320</td>\n    </tr>\n    <tr>\n      <th>1</th>\n      <td>122.922466</td>\n      <td>4.996653</td>\n      <td>240.848279</td>\n    </tr>\n    <tr>\n      <th>2</th>\n      <td>166.354331</td>\n      <td>47.642949</td>\n      <td>285.065713</td>\n    </tr>\n    <tr>\n      <th>3</th>\n      <td>174.392229</td>\n      <td>56.049506</td>\n      <td>292.734952</td>\n    </tr>\n    <tr>\n      <th>4</th>\n      <td>226.948514</td>\n      <td>107.843118</td>\n      <td>346.053910</td>\n    </tr>\n    <tr>\n      <th>5</th>\n      <td>151.821902</td>\n      <td>33.002894</td>\n      <td>270.640910</td>\n    </tr>\n    <tr>\n      <th>6</th>\n      <td>100.943585</td>\n      <td>-17.585884</td>\n      <td>219.473054</td>\n    </tr>\n    <tr>\n      <th>7</th>\n      <td>83.089561</td>\n      <td>-35.107119</td>\n      <td>201.286241</td>\n    </tr>\n    <tr>\n      <th>8</th>\n      <td>143.129867</td>\n      <td>24.313062</td>\n      <td>261.946671</td>\n    </tr>\n    <tr>\n      <th>9</th>\n      <td>192.678237</td>\n      <td>74.918278</td>\n      <td>310.438195</td>\n    </tr>\n  </tbody>\n</table>\n</div>"
     },
     "execution_count": 6,
     "metadata": {},
     "output_type": "execute_result"
    }
   ],
   "source": [
    "results = model.predict(X_test)\n",
    "results.head(10)\n"
   ],
   "metadata": {
    "collapsed": false,
    "pycharm": {
     "name": "#%%\n"
    }
   }
  }
 ],
 "metadata": {
  "kernelspec": {
   "display_name": "Python 3",
   "language": "python",
   "name": "python3"
  },
  "language_info": {
   "codemirror_mode": {
    "name": "ipython",
    "version": 2
   },
   "file_extension": ".py",
   "mimetype": "text/x-python",
   "name": "python",
   "nbconvert_exporter": "python",
   "pygments_lexer": "ipython2",
   "version": "2.7.6"
  }
 },
 "nbformat": 4,
 "nbformat_minor": 0
}