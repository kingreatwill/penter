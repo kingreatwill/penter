{
 "cells": [
  {
   "cell_type": "code",
   "execution_count": 6,
   "metadata": {
    "collapsed": true
   },
   "outputs": [],
   "source": [
    "import numpy as np\n",
    "from sklearn.decomposition import TruncatedSVD\n",
    "\n",
    "# 统计学习方法330页"
   ]
  },
  {
   "cell_type": "code",
   "execution_count": 7,
   "outputs": [
    {
     "data": {
      "text/plain": "array([[ 0.59749809, -0.69411549, -0.08886521],\n       [ 0.92834476,  0.98693264,  0.1716451 ],\n       [ 0.50926185, -0.45472806, -0.13780971],\n       [ 0.72091357,  0.50603416, -0.88996548],\n       [ 0.84491593,  0.22770428,  0.91877847],\n       [ 2.89334677, -0.5509077 , -0.42083781],\n       [ 0.69148162, -0.77728679,  0.56550717],\n       [ 0.72091357,  0.50603416, -0.88996548],\n       [ 1.41942562,  1.53557413,  0.68131402],\n       [ 0.97811137, -1.0842902 ,  0.56780343],\n       [ 0.48060887, -0.37356849, -0.46823871]])"
     },
     "execution_count": 7,
     "metadata": {},
     "output_type": "execute_result"
    }
   ],
   "source": [
    "X = np.array([[0,0,1,1,0,0,0,0,0],\n",
    "               [0,0,0,0,0,1,0,0,1],\n",
    "               [0,1,0,0,0,0,0,1,0],\n",
    "               [0,0,0,0,0,0,1,0,1],\n",
    "               [1,0,0,0,0,1,0,0,0],\n",
    "               [1,1,1,1,1,1,1,1,1],\n",
    "               [1,0,1,0,0,0,0,0,0],\n",
    "               [0,0,0,0,0,0,1,0,1],\n",
    "               [0,0,0,0,0,2,0,0,1],\n",
    "               [1,0,1,0,0,0,0,1,0],\n",
    "               [0,0,0,1,1,0,0,0,0]],dtype=np.float)\n",
    "\n",
    "svd = TruncatedSVD(n_components=3)\n",
    "\n",
    "svd.fit_transform(X)"
   ],
   "metadata": {
    "collapsed": false,
    "pycharm": {
     "name": "#%%\n"
    }
   }
  },
  {
   "cell_type": "code",
   "execution_count": 8,
   "outputs": [
    {
     "data": {
      "text/plain": "array([3.90941804, 2.60911881, 1.99682784])"
     },
     "execution_count": 8,
     "metadata": {},
     "output_type": "execute_result"
    }
   ],
   "source": [
    "svd.singular_values_\n"
   ],
   "metadata": {
    "collapsed": false,
    "pycharm": {
     "name": "#%%\n"
    }
   }
  },
  {
   "cell_type": "code",
   "execution_count": 9,
   "outputs": [
    {
     "data": {
      "text/plain": "array([[ 0.35383506,  0.22263209,  0.33764656,  0.25985153,  0.22075733,\n         0.49108087,  0.28364968,  0.28662975,  0.43726389],\n       [-0.32093722, -0.14772466, -0.45634958, -0.23776591, -0.13580258,\n         0.54864149,  0.06774301, -0.3070034 ,  0.43829115],\n       [ 0.40910955, -0.14010597,  0.15639762, -0.24526283, -0.22297589,\n         0.50966892, -0.55194165,  0.00229626, -0.33802383]])"
     },
     "execution_count": 9,
     "metadata": {},
     "output_type": "execute_result"
    }
   ],
   "source": [
    "svd.components_\n",
    "\n"
   ],
   "metadata": {
    "collapsed": false,
    "pycharm": {
     "name": "#%%\n"
    }
   }
  }
 ],
 "metadata": {
  "kernelspec": {
   "display_name": "Python 3",
   "language": "python",
   "name": "python3"
  },
  "language_info": {
   "codemirror_mode": {
    "name": "ipython",
    "version": 2
   },
   "file_extension": ".py",
   "mimetype": "text/x-python",
   "name": "python",
   "nbconvert_exporter": "python",
   "pygments_lexer": "ipython2",
   "version": "2.7.6"
  }
 },
 "nbformat": 4,
 "nbformat_minor": 0
}