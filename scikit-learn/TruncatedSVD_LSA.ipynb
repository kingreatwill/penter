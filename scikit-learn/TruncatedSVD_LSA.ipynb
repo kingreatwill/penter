{
 "cells": [
  {
   "cell_type": "code",
   "execution_count": 1,
   "metadata": {
    "collapsed": true
   },
   "outputs": [],
   "source": [
    "import numpy as np\n",
    "from sklearn.decomposition import TruncatedSVD\n",
    "\n",
    "# 统计学习方法330页"
   ]
  },
  {
   "cell_type": "code",
   "execution_count": 2,
   "outputs": [
    {
     "data": {
      "text/plain": "array([[ 1.38328918, -0.83736333, -0.81692134],\n       [ 0.87036192, -0.38543119,  0.27976749],\n       [ 1.32000154, -1.19067026, -0.31229912],\n       [ 1.01586826, -0.62035952,  0.48974764],\n       [ 0.86303271, -0.35432506,  0.44524445],\n       [ 1.9198404 ,  1.43147084, -1.0177211 ],\n       [ 1.10890518,  0.17674957,  1.10213245],\n       [ 1.12055552, -0.80100835, -0.00458523],\n       [ 1.70944734,  1.14355367,  0.67497538]])"
     },
     "execution_count": 2,
     "metadata": {},
     "output_type": "execute_result"
    }
   ],
   "source": [
    "X = np.array([[0,0,1,1,0,0,0,0,0],\n",
    "               [0,0,0,0,0,1,0,0,1],\n",
    "               [0,1,0,0,0,0,0,1,0],\n",
    "               [0,0,0,0,0,0,1,0,1],\n",
    "               [1,0,0,0,0,1,0,0,0],\n",
    "               [1,1,1,1,1,1,1,1,1],\n",
    "               [1,0,1,0,0,0,0,0,0],\n",
    "               [0,0,0,0,0,0,1,0,1],\n",
    "               [0,0,0,0,0,2,0,0,1],\n",
    "               [1,0,1,0,0,0,0,1,0],\n",
    "               [0,0,0,1,1,0,0,0,0]],dtype=np.float)\n",
    "\n",
    "svd = TruncatedSVD(n_components=3)\n",
    "\n",
    "svd.fit_transform(X)"
   ],
   "metadata": {
    "collapsed": false,
    "pycharm": {
     "name": "#%%\n"
    }
   }
  },
  {
   "cell_type": "code",
   "execution_count": 3,
   "outputs": [
    {
     "data": {
      "text/plain": "array([3.90941804, 2.60911881, 1.99682784])"
     },
     "execution_count": 3,
     "metadata": {},
     "output_type": "execute_result"
    }
   ],
   "source": [
    "svd.singular_values_\n"
   ],
   "metadata": {
    "collapsed": false,
    "pycharm": {
     "name": "#%%\n"
    }
   }
  },
  {
   "cell_type": "code",
   "execution_count": 4,
   "outputs": [
    {
     "data": {
      "text/plain": "array([[ 0.15283556,  0.23746367,  0.13026538,  0.18440432,  0.2161232 ,\n         0.74009654,  0.17687585,  0.18440432,  0.3630785 ,  0.2501936 ,\n         0.12293617],\n       [-0.26603445,  0.37826282, -0.17428415,  0.1939483 ,  0.08727248,\n        -0.21114703, -0.29791161,  0.1939483 ,  0.58854128, -0.41557716,\n        -0.14317803],\n       [ 0.04450319, -0.08595889,  0.06901432,  0.44568964, -0.46011902,\n         0.21075317, -0.28320277,  0.44568964, -0.34119818, -0.28435272,\n         0.23449128]])"
     },
     "execution_count": 4,
     "metadata": {},
     "output_type": "execute_result"
    }
   ],
   "source": [
    "svd.components_\n",
    "\n"
   ],
   "metadata": {
    "collapsed": false,
    "pycharm": {
     "name": "#%%\n"
    }
   }
  }
 ],
 "metadata": {
  "kernelspec": {
   "display_name": "Python 3",
   "language": "python",
   "name": "python3"
  },
  "language_info": {
   "codemirror_mode": {
    "name": "ipython",
    "version": 2
   },
   "file_extension": ".py",
   "mimetype": "text/x-python",
   "name": "python",
   "nbconvert_exporter": "python",
   "pygments_lexer": "ipython2",
   "version": "2.7.6"
  }
 },
 "nbformat": 4,
 "nbformat_minor": 0
}