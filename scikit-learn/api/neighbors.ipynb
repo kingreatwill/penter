{
 "cells": [
  {
   "cell_type": "markdown",
   "metadata": {
    "collapsed": true,
    "pycharm": {
     "name": "#%% md\n"
    }
   },
   "source": [
    "## Kernel Density Estimation.\n",
    "neighbors.KernelDensity\n",
    "\n",
    "[机器学习——概率密度估计随笔](https://blog.csdn.net/qq_35692819/article/details/105982057)\n",
    "\n",
    "[非参数估计：核密度估计KDE](https://blog.csdn.net/pipisorry/article/details/53635895)\n"
   ]
  }
 ],
 "metadata": {
  "kernelspec": {
   "display_name": "Python 3",
   "language": "python",
   "name": "python3"
  },
  "language_info": {
   "codemirror_mode": {
    "name": "ipython",
    "version": 2
   },
   "file_extension": ".py",
   "mimetype": "text/x-python",
   "name": "python",
   "nbconvert_exporter": "python",
   "pygments_lexer": "ipython2",
   "version": "2.7.6"
  }
 },
 "nbformat": 4,
 "nbformat_minor": 0
}