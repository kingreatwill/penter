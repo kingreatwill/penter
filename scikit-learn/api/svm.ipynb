{
 "cells": [
  {
   "cell_type": "markdown",
   "metadata": {
    "collapsed": true,
    "pycharm": {
     "name": "#%% md\n"
    }
   },
   "source": [
    "# 支持向量机 sklearn.svm: Support Vector Machines\n",
    "SVM在解决分类问题具有良好的效果，出名的软件包有libsvm(支持多种核函数),liblinear\n",
    "sklearn.svm.SVC和sklearn.svm.LinearSVC 分别由libsvm和liblinear发展而来。\n",
    "\n",
    "svm在月亮形和环形数据表现都不错\n",
    "\n",
    "## svm.SVC 、svm.LinearSVC 、svm.NuSVC 分类问题\n",
    "## svm.SVR 、svm.LinearSVR 、svm.NuSVR 回归问题\n",
    "## svm.OneClassSVM 无监督异常值检测。\n",
    "异常值检测：https://scikit-learn.org/stable/auto_examples/applications/plot_outlier_detection_wine.html\n",
    "\n",
    "predict(X)：返回预测值，+1就是正常样本，-1就是异常样本。\n",
    "\n",
    "\n",
    "比方说，我们要判断一张照片里的人脸，是男性还是女性，这是个二分类问题。\n",
    "对于一张未知性别的人脸，经过svm分类器分类（经典的二分类svm），我们会给出他\\她是男性or不是男性的结果（不是男性就是女性啦，暂时不考虑第三性别，O(∩_∩)O~；\n",
    "为什么这么表达，是因为为了与下面的一类svm概念做区别）。那么经典svm训练的方式呢，就是将一堆已标注了男女性别的人脸照片（假设男性是正样本，女性是负样本），提取出有区分性别的特征（假设这种能区分男女性别的特征已构建好）后，通过svm中的支持向量，找到这男女两类性别特征点的最大间隔。\n",
    "进而在输入一张未知性别的照片后，经过特征提取步骤，就可以通过这个训练好的svm很快得出照片内人物的性别，此时我们得出的结论，我们知道要么是男性，不是男性的话，那一定是女性。\n",
    "以上情况是假设，我们用于训练的样本，包括了男女两类的图片，并且两类图片的数目较为均衡。\n",
    "现实生活中的我们也是这样，我们只有在接触了足够多的男生女生，知道了男生女生的性别特征差异后（比方说女性一般有长头发，男性一般有胡子等等），才能准确判断出这个人到底是男是女。\n",
    "\n",
    "但如果有一个特殊的场景，比方说，有一个小和尚，他从小在寺庙长大，从来都只见过男生，没见过女生，那么对于一个男性，他能很快地基于这个男性与他之前接触的男性有类似的特征，给出这个人是男性的答案。\n",
    "但如果是一个女性，他会发现，这个女性与他之前所认知的男性的特征差异很大，进而会得出她不是男性的判断。\n",
    "注意咯，这里所说的 “她不是男性” 的判断，与我们使用二分类svm中所说的 “不是男性” 的判断，虽然结论相同，但却不是同一个概念。\n",
    "我们在使用经典二分类svm去分类人脸性别时，当我们判定未知样本不是男性时，我们会同时得到她是个女性的结论（因为我们是知道另一类，也即女性类别的），但对于以上介绍的特殊场景，我们只能根据它与小和尚认知的男性特征不一致，得出它不是男性的判断，至于它是女性呢，还是第三性别，甚至是外星人，对不起，并不知道，我们只能将其排除出男性的范围，并不能给它做出属于哪类的决策。\n",
    "以上场景就是一类svm的典型应用场景，当出现一个分类问题中，只有一种类型的样本，或有两种类型样本，但其中一类型样本数目远少于另一类型样本数目（如果此时采用二分类器，training set中正负样本不均衡，可能造成分类器过于偏向数目多的样本类别，使train出来的model有bias）时，就可以考虑使用一类svm进行分类。\n",
    "\n",
    "\n",
    "比方说，在银行存取款大厅，正常情况大家都是在坐席耐心叫号等待，抑或取号，在柜台接受服务等。这些行为虽然各有不同，但却都会有比较相类似的特征，例如都会有比较一致性的运动方向（比如说，正常走动，取号，排队等），不是很大的运动幅度等，但对于一些异常行为，比如说银行大厅内的打斗、斗殴，抢劫等，你不能要求这些行为也按套路出牌，\n",
    "如武侠片里先摆pos、再出脚，最后再手上各种招式，正是因为这些异常行为无法有效度量。我们就可以将一类svm应用于其中，比方说，我们提取出人类在银行的正常行为操作的特征，并使用一类svm将之正确表达，那么对于一个异常行为，我们可以很快得出，这货提取的特征和我这个分类器包含的特征不一致，那么它肯定就不是正常的行为特征，那么就可以发出报警了。\n",
    "\n",
    "## svm.l1_min_c\n",
    "返回参数C的最低边界，使得对于C in (l1_min_C, infinity),模型保证不为空\n",
    "也就是C可以取的最小值\n",
    "\n",
    "C参数的解释：正则化参数。正则化的强度是与C成反比。必须严格为正。惩罚是l2惩罚的平方。 svm.SVC(C=0.1)"
   ]
  },
  {
   "cell_type": "code",
   "execution_count": null,
   "outputs": [],
   "source": [
    "from sklearn import svm\n",
    "\n",
    "\n"
   ],
   "metadata": {
    "collapsed": false,
    "pycharm": {
     "name": "#%%\n"
    }
   }
  },
  {
   "cell_type": "code",
   "execution_count": null,
   "outputs": [],
   "source": [
    "X = [[0], [0.44], [0.45], [0.46], [1]]\n",
    "clf = svm.OneClassSVM(gamma='auto').fit(X)\n",
    "clf.predict(X)\n",
    "#clf.support_vectors_ # 支持向量如果大于30% 基本上这个模型不好"
   ],
   "metadata": {
    "collapsed": false,
    "pycharm": {
     "name": "#%%\n"
    }
   }
  }
 ],
 "metadata": {
  "kernelspec": {
   "display_name": "Python 3",
   "language": "python",
   "name": "python3"
  },
  "language_info": {
   "codemirror_mode": {
    "name": "ipython",
    "version": 2
   },
   "file_extension": ".py",
   "mimetype": "text/x-python",
   "name": "python",
   "nbconvert_exporter": "python",
   "pygments_lexer": "ipython2",
   "version": "2.7.6"
  }
 },
 "nbformat": 4,
 "nbformat_minor": 0
}