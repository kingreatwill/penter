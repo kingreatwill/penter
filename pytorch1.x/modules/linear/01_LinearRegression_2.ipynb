{
 "cells": [
  {
   "cell_type": "code",
   "execution_count": 25,
   "metadata": {
    "collapsed": true
   },
   "outputs": [],
   "source": [
    "import numpy as np\n",
    "import torch # 基础库\n",
    "# import torch.utils.data as Data # Data.TensorDataset ,Data.DataLoader\n",
    "from torch.utils.data import TensorDataset,DataLoader # 数据加载\n",
    "from torch import nn # 网络模型\n",
    "from torch.nn import init # 参数初始化\n",
    "import torch.optim as optim # 优化算法\n",
    "\n",
    "from collections import OrderedDict"
   ]
  },
  {
   "cell_type": "code",
   "execution_count": 26,
   "outputs": [
    {
     "name": "stderr",
     "output_type": "stream",
     "text": [
      "<ipython-input-26-dff5c347cbbb>:5: UserWarning: To copy construct from a tensor, it is recommended to use sourceTensor.clone().detach() or sourceTensor.clone().detach().requires_grad_(True), rather than torch.tensor(sourceTensor).\n",
      "  features = torch.tensor(torch.normal(0, 1, (num_examples, num_inputs)), dtype=torch.float)\n",
      "<ipython-input-26-dff5c347cbbb>:7: UserWarning: To copy construct from a tensor, it is recommended to use sourceTensor.clone().detach() or sourceTensor.clone().detach().requires_grad_(True), rather than torch.tensor(sourceTensor).\n",
      "  labels += torch.tensor(torch.normal(0, 0.01, size=labels.size()), dtype=torch.float)\n"
     ]
    }
   ],
   "source": [
    "num_inputs = 2\n",
    "num_examples = 1000\n",
    "true_w = [2, -3.4]\n",
    "true_b = 4.2\n",
    "features = torch.tensor(torch.normal(0, 1, (num_examples, num_inputs)), dtype=torch.float)\n",
    "labels = true_w[0] * features[:, 0] + true_w[1] * features[:, 1] + true_b\n",
    "labels += torch.tensor(torch.normal(0, 0.01, size=labels.size()), dtype=torch.float)"
   ],
   "metadata": {
    "collapsed": false,
    "pycharm": {
     "name": "#%%\n"
    }
   }
  },
  {
   "cell_type": "code",
   "execution_count": 27,
   "outputs": [],
   "source": [
    "# 定义模型\n",
    "class LinearNet(nn.Module):\n",
    "    def __init__(self, n_feature):\n",
    "        super(LinearNet, self).__init__()\n",
    "        self.linear = nn.Linear(n_feature, 1)\n",
    "        # 可以用nn.Sequential来更加方便地搭建网络，Sequential是一个有序的容器，网络层将按照在传入Sequential的顺序依次被添加到计算图中。\n",
    "        self.linear_seq_1 = nn.Sequential(\n",
    "            nn.Linear(num_inputs, 1)\n",
    "            # 此处还可以传入其他层\n",
    "        )\n",
    "        self.linear_seq_2 = nn.Sequential()\n",
    "        self.linear_seq_2.add_module('linear', nn.Linear(num_inputs, 1))\n",
    "        # self.linear_seq_2.add_module ......\n",
    "\n",
    "        self.linear_seq_3 = nn.Sequential(OrderedDict([\n",
    "          ('linear', nn.Linear(num_inputs, 1))\n",
    "          # ......\n",
    "        ]))\n",
    "\n",
    "    # forward 定义前向传播\n",
    "    def forward(self, x):\n",
    "        y = self.linear(x) # init里面定义的网络层，或者叫hide层\n",
    "        return y"
   ],
   "metadata": {
    "collapsed": false,
    "pycharm": {
     "name": "#%%\n"
    }
   }
  },
  {
   "cell_type": "code",
   "execution_count": 28,
   "outputs": [],
   "source": [
    "# 加载数据\n",
    "batch_size = 10\n",
    "# 将训练数据的特征和标签组合\n",
    "dataset = TensorDataset(features, labels)\n",
    "# 随机读取小批量\n",
    "data_iter = DataLoader(dataset, batch_size, shuffle=True)\n",
    "# 这里可以分别加载训练集和测试集\n",
    "# train_dataloader = DataLoader(training_data, batch_size=batch_size)\n",
    "# test_dataloader = DataLoader(test_data, batch_size=batch_size)\n"
   ],
   "metadata": {
    "collapsed": false,
    "pycharm": {
     "name": "#%%\n"
    }
   }
  },
  {
   "cell_type": "code",
   "execution_count": 29,
   "outputs": [
    {
     "name": "stdout",
     "output_type": "stream",
     "text": [
      "LinearNet(\n",
      "  (linear): Linear(in_features=2, out_features=1, bias=True)\n",
      "  (linear_seq_1): Sequential(\n",
      "    (0): Linear(in_features=2, out_features=1, bias=True)\n",
      "  )\n",
      "  (linear_seq_2): Sequential(\n",
      "    (linear): Linear(in_features=2, out_features=1, bias=True)\n",
      "  )\n",
      "  (linear_seq_3): Sequential(\n",
      "    (linear): Linear(in_features=2, out_features=1, bias=True)\n",
      "  )\n",
      ")\n",
      "Parameter containing:\n",
      "tensor([[0.0794, 0.6773]], requires_grad=True)\n",
      "Parameter containing:\n",
      "tensor([0.4389], requires_grad=True)\n",
      "Parameter containing:\n",
      "tensor([[-0.1447,  0.0336]], requires_grad=True)\n",
      "Parameter containing:\n",
      "tensor([-0.4959], requires_grad=True)\n",
      "Parameter containing:\n",
      "tensor([[-0.1717, -0.6898]], requires_grad=True)\n",
      "Parameter containing:\n",
      "tensor([-0.5886], requires_grad=True)\n",
      "Parameter containing:\n",
      "tensor([[0.6263, 0.4640]], requires_grad=True)\n",
      "Parameter containing:\n",
      "tensor([-0.1312], requires_grad=True)\n"
     ]
    }
   ],
   "source": [
    "net = LinearNet(num_inputs)\n",
    "print(net) # 使用print可以打印出网络的结构\n",
    "\n",
    "# 查看模型所有的可学习参数\n",
    "# 这里的model中每个参数的名字都是系统自动命名的，只要是权值都是带有weight，偏置都带有bias，\n",
    "for param in net.parameters():\n",
    "    print(param)\n"
   ],
   "metadata": {
    "collapsed": false,
    "pycharm": {
     "name": "#%%\n"
    }
   }
  },
  {
   "cell_type": "code",
   "execution_count": 30,
   "outputs": [],
   "source": [
    "# 初始化模型参数(这个也可以不需要)\n",
    "init.normal_(net.linear.weight, mean=0, std=0.01)\n",
    "init.constant_(net.linear.bias, val=0)  # 也可以直接修改bias的data: net[0].bias.data.fill_(0)\n",
    "\n",
    "# 定义损失函数\n",
    "loss = nn.MSELoss()\n",
    "# nn.L1Loss()\n",
    "\n",
    "# 在pytorch中没有明确的添加L1和L2正则化的方法，但是可以直接的采用优化器自带的weight_decay选项来制订权重衰减，相当于L2正则化中的λ\n",
    "\n",
    "# 定义优化算法\n",
    "optimizer = optim.SGD(net.parameters(), lr=0.03, weight_decay=1e-5)\n",
    "\n",
    "# 可以为不同子网络设置不同的学习率\n",
    "# optimizer =optim.SGD([\n",
    "#                 # 如果对某个参数不指定学习率，就使用最外层的默认学习率\n",
    "#                 {'params': net.linear_seq_1.parameters()}, # lr=0.03\n",
    "#                 {'params': net.linear_seq_2.parameters(), 'lr': 0.01}\n",
    "#             ], lr=0.03)\n",
    "\n",
    "# 调整学习率\n",
    "# for param_group in optimizer.param_groups:\n",
    "#     param_group['lr'] *= 0.1 # 学习率为之前的0.1倍"
   ],
   "metadata": {
    "collapsed": false,
    "pycharm": {
     "name": "#%%\n"
    }
   }
  },
  {
   "cell_type": "code",
   "execution_count": 31,
   "outputs": [
    {
     "name": "stdout",
     "output_type": "stream",
     "text": [
      "epoch 1, loss: 0.000207\n",
      "epoch 2, loss: 0.000029\n",
      "epoch 3, loss: 0.000107\n"
     ]
    }
   ],
   "source": [
    "# 训练模型\n",
    "\n",
    "num_epochs = 3\n",
    "for epoch in range(1, num_epochs + 1):\n",
    "    for X, y in data_iter:\n",
    "        # 计算预测误差\n",
    "        output = net(X)\n",
    "        l = loss(output, y.view(-1, 1))\n",
    "\n",
    "        # 反向传播\n",
    "        optimizer.zero_grad() # 梯度清零，等价于net.zero_grad()\n",
    "        l.backward() # retain_graph=True\n",
    "        optimizer.step()\n",
    "    print('epoch %d, loss: %f' % (epoch, l.item()))"
   ],
   "metadata": {
    "collapsed": false,
    "pycharm": {
     "name": "#%%\n"
    }
   }
  },
  {
   "cell_type": "code",
   "execution_count": 32,
   "outputs": [
    {
     "name": "stdout",
     "output_type": "stream",
     "text": [
      "Parameter containing:\n",
      "tensor([[ 2.0003, -3.3996]], requires_grad=True)\n",
      "Parameter containing:\n",
      "tensor([4.2001], requires_grad=True)\n",
      "Parameter containing:\n",
      "tensor([[-0.1447,  0.0336]], requires_grad=True)\n",
      "Parameter containing:\n",
      "tensor([-0.4959], requires_grad=True)\n",
      "Parameter containing:\n",
      "tensor([[-0.1717, -0.6898]], requires_grad=True)\n",
      "Parameter containing:\n",
      "tensor([-0.5886], requires_grad=True)\n",
      "Parameter containing:\n",
      "tensor([[0.6263, 0.4640]], requires_grad=True)\n",
      "Parameter containing:\n",
      "tensor([-0.1312], requires_grad=True)\n"
     ]
    }
   ],
   "source": [
    "for param in net.parameters():\n",
    "    print(param)"
   ],
   "metadata": {
    "collapsed": false,
    "pycharm": {
     "name": "#%%\n"
    }
   }
  },
  {
   "cell_type": "code",
   "execution_count": 33,
   "outputs": [
    {
     "name": "stdout",
     "output_type": "stream",
     "text": [
      "[2, -3.4] Parameter containing:\n",
      "tensor([[ 2.0003, -3.3996]], requires_grad=True)\n",
      "4.2 Parameter containing:\n",
      "tensor([4.2001], requires_grad=True)\n"
     ]
    }
   ],
   "source": [
    "print(true_w, net.linear.weight)\n",
    "print(true_b, net.linear.bias)"
   ],
   "metadata": {
    "collapsed": false,
    "pycharm": {
     "name": "#%%\n"
    }
   }
  },
  {
   "cell_type": "markdown",
   "source": [
    "pip install torchinfo\n",
    "```\n",
    "from torchinfo import summary\n",
    "\n",
    "model = ConvNet()\n",
    "batch_size = 16\n",
    "summary(model, input_size=(batch_size, 1, 28, 28))\n",
    "```\n",
    "```\n",
    "================================================================================================================\n",
    "Layer (type:depth-idx)          Input Shape          Output Shape         Param #            Mult-Adds\n",
    "================================================================================================================\n",
    "SingleInputNet                  --                   --                   --                  --\n",
    "├─Conv2d: 1-1                   [7, 1, 28, 28]       [7, 10, 24, 24]      260                1,048,320\n",
    "├─Conv2d: 1-2                   [7, 10, 12, 12]      [7, 20, 8, 8]        5,020              2,248,960\n",
    "├─Dropout2d: 1-3                [7, 20, 8, 8]        [7, 20, 8, 8]        --                 --\n",
    "├─Linear: 1-4                   [7, 320]             [7, 50]              16,050             112,350\n",
    "├─Linear: 1-5                   [7, 50]              [7, 10]              510                3,570\n",
    "================================================================================================================\n",
    "Total params: 21,840\n",
    "Trainable params: 21,840\n",
    "Non-trainable params: 0\n",
    "Total mult-adds (M): 3.41\n",
    "================================================================================================================\n",
    "Input size (MB): 0.02\n",
    "Forward/backward pass size (MB): 0.40\n",
    "Params size (MB): 0.09\n",
    "Estimated Total Size (MB): 0.51\n",
    "================================================================================================================\n",
    "```"
   ],
   "metadata": {
    "collapsed": false,
    "pycharm": {
     "name": "#%% md\n"
    }
   }
  },
  {
   "cell_type": "markdown",
   "source": [
    "## 一般测试不需要梯度更新\n",
    "\n",
    "```\n",
    "def test(dataloader, model):\n",
    "    size = len(dataloader.dataset)\n",
    "\n",
    "\n",
    "    model.eval() # 不启用 BatchNormalization 和 Dropout\n",
    "    # 在 model(test) 之前，需要加上model.eval()，否则只要有输入数据，即使不训练，model 也会改变权值。\n",
    "    #这是model中含有的 batch normalization 层所带来的的性质。\n",
    "\n",
    "\n",
    "    test_loss, correct = 0, 0\n",
    "    with torch.no_grad():\n",
    "        for X, y in dataloader:\n",
    "            X, y = X.to(device), y.to(device)\n",
    "            pred = model(X)\n",
    "            test_loss += loss_fn(pred, y).item()\n",
    "            correct += (pred.argmax(1) == y).type(torch.float).sum().item()\n",
    "    test_loss /= size\n",
    "    correct /= size\n",
    "    print(f\"Test Error: \\n Accuracy: {(100*correct):>0.1f}%, Avg loss: {test_loss:>8f} \\n\")\n",
    "```\n",
    "\n",
    "## model.train 和model.eval\n",
    "### model.train()\n",
    "启用 BatchNormalization 和 Dropout\n",
    "\n",
    "如果模型中有BN层(Batch Normalization）和Dropout，需要在训练时添加model.train()。\n",
    "model.train()是保证BN层能够用到每一批数据的均值和方差。对于Dropout，model.train()是随机取一部分网络连接来训练更新参数。\n",
    "\n",
    "```\n",
    "# 实例化这个网络\n",
    "Model = Net()\n",
    "# 训练模式使用.train()\n",
    "Model.train(mode=True)\n",
    "```\n",
    "\n",
    "## 保存模型或网络\n",
    "- 仅保存和加载模型参数\n",
    "torch.save(model.state_dict(), \"model.pth\")\n",
    "\n",
    "- 保存和加载整个模型\n",
    "torch.save(model, PATH)\n",
    "## 加载模型\n",
    "- 仅保存和加载模型参数\n",
    "model = NeuralNetwork()\n",
    "model.load_state_dict(torch.load(\"model.pth\"))\n",
    "\n",
    "- 保存和加载整个模型\n",
    "model = torch.load(PATH)"
   ],
   "metadata": {
    "collapsed": false
   }
  }
 ],
 "metadata": {
  "kernelspec": {
   "display_name": "Python 3",
   "language": "python",
   "name": "python3"
  },
  "language_info": {
   "codemirror_mode": {
    "name": "ipython",
    "version": 2
   },
   "file_extension": ".py",
   "mimetype": "text/x-python",
   "name": "python",
   "nbconvert_exporter": "python",
   "pygments_lexer": "ipython2",
   "version": "2.7.6"
  }
 },
 "nbformat": 4,
 "nbformat_minor": 0
}