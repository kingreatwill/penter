{
 "cells": [
  {
   "cell_type": "markdown",
   "metadata": {
    "collapsed": true,
    "pycharm": {
     "name": "#%% md\n"
    }
   },
   "source": [
    "# 多层感知机：Multi-Layer Perceptron\n",
    "\n"
   ]
  },
  {
   "cell_type": "code",
   "execution_count": 1,
   "outputs": [],
   "source": [
    "import torch\n",
    "from torch import nn\n",
    "from torch.nn import init\n",
    "import numpy as np\n",
    "import torchvision\n",
    "import torchvision.transforms as transforms\n",
    "import matplotlib.pyplot as plt\n",
    "import os\n",
    "from torch.utils.data import DataLoader\n",
    "os.environ['KMP_DUPLICATE_LIB_OK'] = 'TRUE' # plt绘图报错（不显示图的问题）\n",
    "plt.rcParams['font.sans-serif']=['SimHei'] #用来正常显示中文标签\n",
    "plt.rcParams['axes.unicode_minus']=False #用来正常显示负号"
   ],
   "metadata": {
    "collapsed": false,
    "pycharm": {
     "name": "#%%\n"
    }
   }
  },
  {
   "cell_type": "code",
   "execution_count": 2,
   "outputs": [],
   "source": [
    "mnist_train = torchvision.datasets.FashionMNIST(root='F:/bigdata/ai/Pytorch_Datasets', train=True, download=False, transform=transforms.ToTensor())\n",
    "mnist_test = torchvision.datasets.FashionMNIST(root='F:/bigdata/ai/Pytorch_Datasets', train=False, download=False, transform=transforms.ToTensor())\n",
    "\n",
    "batch_size = 256\n",
    "\n",
    "train_dataloader = DataLoader(mnist_train, batch_size=batch_size)\n",
    "test_dataloader = DataLoader(mnist_test, batch_size=batch_size)"
   ],
   "metadata": {
    "collapsed": false,
    "pycharm": {
     "name": "#%%\n"
    }
   }
  },
  {
   "cell_type": "code",
   "execution_count": 3,
   "outputs": [],
   "source": [
    "# 计算准确率\n",
    "def evaluate_accuracy(test_data_iter, model):\n",
    "    acc_sum, n = 0.0, 0\n",
    "    for X, y in test_data_iter:\n",
    "        acc_sum += (model(X).argmax(dim=1) == y).float().sum().item()\n",
    "        n += y.shape[0]\n",
    "    return acc_sum / n"
   ],
   "metadata": {
    "collapsed": false,
    "pycharm": {
     "name": "#%%\n"
    }
   }
  },
  {
   "cell_type": "code",
   "execution_count": 4,
   "outputs": [],
   "source": [
    "num_inputs, num_outputs, num_hiddens = 784, 10, 256\n",
    "\n",
    "class MultiLayerPerceptron(nn.Module):\n",
    "    def __init__(self, num_inputs, num_outputs):\n",
    "        super(MultiLayerPerceptron, self).__init__()\n",
    "        self.linear = nn.Sequential(\n",
    "            nn.Flatten(),\n",
    "            nn.Linear(num_inputs, num_hiddens),\n",
    "            nn.ReLU(),\n",
    "            nn.Linear(num_hiddens, num_outputs),\n",
    "        )\n",
    "    def forward(self, x): # x shape: (batch, 1, 28, 28)\n",
    "        # y = self.linear(x.view(x.shape[0], -1))\n",
    "        y = self.linear(x)\n",
    "        # y = torch.softmax(y,dim=1) #不需要，加了效果反而不好\n",
    "        return y\n",
    "\n",
    "model = MultiLayerPerceptron(num_inputs, num_outputs)\n",
    "\n",
    "# for params in model.parameters():\n",
    "#     init.normal_(params, mean=0, std=0.01)\n",
    "\n",
    "# nn.CrossEntropyLoss()中的label不需要是one_hot。要求是一维的label。\n",
    "# 在使用该函数前 input不需要经过softmax计算， target不是one_hot编码格式\n",
    "loss = nn.CrossEntropyLoss()\n",
    "\n",
    "optimizer = torch.optim.SGD(model.parameters(), lr=0.01)"
   ],
   "metadata": {
    "collapsed": false,
    "pycharm": {
     "name": "#%%\n"
    }
   }
  },
  {
   "cell_type": "code",
   "execution_count": 5,
   "outputs": [
    {
     "name": "stdout",
     "output_type": "stream",
     "text": [
      "epoch 1, loss: 1.260179, acc: 0.645000\n",
      "epoch 2, loss: 0.900895, acc: 0.679800\n",
      "epoch 3, loss: 0.762826, acc: 0.714800\n",
      "epoch 4, loss: 0.684754, acc: 0.739200\n",
      "epoch 5, loss: 0.631079, acc: 0.755300\n",
      "epoch 6, loss: 0.591212, acc: 0.770300\n",
      "epoch 7, loss: 0.560809, acc: 0.782400\n",
      "epoch 8, loss: 0.537280, acc: 0.789000\n",
      "epoch 9, loss: 0.518899, acc: 0.793900\n",
      "epoch 10, loss: 0.504275, acc: 0.798000\n"
     ]
    }
   ],
   "source": [
    "num_epochs = 10\n",
    "for epoch in range(1, num_epochs + 1):\n",
    "    model.train()\n",
    "    for X, y in train_dataloader:\n",
    "        # 计算预测误差\n",
    "        output = model(X)\n",
    "        # y = torch.nn.functional.one_hot(y,10) # 不需要\n",
    "        l = loss(output, y)\n",
    "\n",
    "        # 反向传播\n",
    "        optimizer.zero_grad() # 梯度清零，等价于net.zero_grad()\n",
    "        l.backward()\n",
    "        optimizer.step()\n",
    "    model.eval()\n",
    "    print('epoch %d, loss: %f, acc: %f' % (epoch, l.item() , evaluate_accuracy(test_dataloader,model)))"
   ],
   "metadata": {
    "collapsed": false,
    "pycharm": {
     "name": "#%%\n"
    }
   }
  },
  {
   "cell_type": "code",
   "execution_count": 6,
   "outputs": [
    {
     "name": "stdout",
     "output_type": "stream",
     "text": [
      "tensor([9]) ---实际： 9\n",
      "tensor([2]) ---实际： 2\n",
      "tensor([1]) ---实际： 1\n",
      "tensor([1]) ---实际： 1\n",
      "tensor([6]) ---实际： 6\n",
      "tensor([1]) ---实际： 1\n",
      "tensor([4]) ---实际： 4\n",
      "tensor([6]) ---实际： 6\n",
      "tensor([5]) ---实际： 5\n",
      "tensor([7]) ---实际： 7\n",
      "tensor([4]) ---实际： 4\n",
      "tensor([5]) ---实际： 5\n",
      "tensor([5]) ---实际： 7\n",
      "tensor([3]) ---实际： 3\n",
      "tensor([4]) ---实际： 4\n",
      "tensor([1]) ---实际： 1\n",
      "tensor([2]) ---实际： 2\n",
      "tensor([6]) ---实际： 4\n",
      "tensor([8]) ---实际： 8\n",
      "tensor([0]) ---实际： 0\n"
     ]
    }
   ],
   "source": [
    "for i in range(20):\n",
    "    #print(np.argmax(model(mnist_test[i][0]).detach().numpy()) ,\"---实际：\", mnist_test[i][1] )\n",
    "    print(model(mnist_test[i][0]).argmax(dim=1) ,\"---实际：\", mnist_test[i][1] )"
   ],
   "metadata": {
    "collapsed": false,
    "pycharm": {
     "name": "#%%\n"
    }
   }
  }
 ],
 "metadata": {
  "kernelspec": {
   "display_name": "Python 3",
   "language": "python",
   "name": "python3"
  },
  "language_info": {
   "codemirror_mode": {
    "name": "ipython",
    "version": 2
   },
   "file_extension": ".py",
   "mimetype": "text/x-python",
   "name": "python",
   "nbconvert_exporter": "python",
   "pygments_lexer": "ipython2",
   "version": "2.7.6"
  }
 },
 "nbformat": 4,
 "nbformat_minor": 0
}