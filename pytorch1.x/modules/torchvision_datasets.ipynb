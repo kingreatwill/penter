{
 "cells": [
  {
   "cell_type": "markdown",
   "metadata": {
    "collapsed": true,
    "pycharm": {
     "name": "#%% md\n"
    }
   },
   "source": [
    "https://pytorch.org/vision/stable/datasets.html\n",
    "\n",
    "https://pytorch.org/tutorials/beginner/basics/data_tutorial.html\n",
    "\n",
    "torchvision.datasets: 一些加载数据的函数及常用的数据集接口；\n",
    "torchvision.models: 包含常用的模型结构（含预训练模型），例如AlexNet、VGG、ResNet等；\n",
    "torchvision.transforms: 常用的图片变换，例如裁剪、旋转等；\n",
    "torchvision.utils: 其他的一些有用的方法。\n",
    "\n",
    "第一次调用时会自动从网上获取数据。\n",
    "我们通过参数train来指定获取训练数据集或测试数据集（testing data set）。\n",
    "测试数据集也叫测试集（testing set），只用来评价模型的表现，并不用来训练模型。\n",
    "\n",
    "另外我们还指定了参数transform = transforms.ToTensor()使所有数据转换为Tensor\n",
    "如果不进行转换则返回的是PIL图片（或者其它数据格式）。transforms.ToTensor()将尺寸为 (H x W x C) 且数据位于[0, 255]的PIL图片或者数据类型为np.uint8的NumPy数组转换为尺寸为(C x H x W)且数据类型为torch.float32且位于[0.0, 1.0]的Tensor。\n",
    "\n",
    "mnist_train = torchvision.datasets.FashionMNIST(root='~/Datasets/FashionMNIST', train=True, download=True, transform=transforms.ToTensor())\n",
    "mnist_test = torchvision.datasets.FashionMNIST(root='~/Datasets/FashionMNIST', train=False, download=True, transform=transforms.ToTensor())\n",
    "\n",
    "\n",
    "上面的mnist_train和mnist_test都是torch.utils.data.Dataset的子类\n",
    "包括之前用到的TensorDataset也是torch.utils.data.Dataset的子类\n",
    "\n"
   ]
  },
  {
   "cell_type": "code",
   "execution_count": null,
   "outputs": [],
   "source": [
    "import torchvision\n",
    "import torchvision.transforms as transforms\n",
    "mnist_train = torchvision.datasets.FashionMNIST(root='~/Datasets/FashionMNIST', train=True, download=True, transform=transforms.ToTensor())"
   ],
   "metadata": {
    "collapsed": false,
    "pycharm": {
     "name": "#%%\n"
    }
   }
  }
 ],
 "metadata": {
  "kernelspec": {
   "display_name": "Python 3",
   "language": "python",
   "name": "python3"
  },
  "language_info": {
   "codemirror_mode": {
    "name": "ipython",
    "version": 2
   },
   "file_extension": ".py",
   "mimetype": "text/x-python",
   "name": "python",
   "nbconvert_exporter": "python",
   "pygments_lexer": "ipython2",
   "version": "2.7.6"
  }
 },
 "nbformat": 4,
 "nbformat_minor": 0
}