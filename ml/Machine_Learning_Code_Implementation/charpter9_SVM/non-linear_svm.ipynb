{
 "cells": [
  {
   "cell_type": "code",
   "execution_count": 1,
   "metadata": {},
   "outputs": [],
   "source": [
    "import numpy as np\n",
    "import pandas as pd\n",
    "import matplotlib.pyplot as plt"
   ]
  },
  {
   "cell_type": "code",
   "execution_count": 3,
   "metadata": {},
   "outputs": [
    {
     "name": "stdout",
     "output_type": "stream",
     "text": [
      "(160, 2) (160,) (40, 2) (40,)\n"
     ]
    }
   ],
   "source": [
    "mean1, mean2 = np.array([-1, 2]), np.array([1, -1])\n",
    "mean3, mean4 = np.array([4, -4]), np.array([-4, 4])\n",
    "covar = np.array([[1.0, 0.8], [0.8, 1.0]])\n",
    "X1 = np.random.multivariate_normal(mean1, covar, 50)\n",
    "X1 = np.vstack((X1, np.random.multivariate_normal(mean3, covar, 50)))\n",
    "y1 = np.ones(X1.shape[0])\n",
    "X2 = np.random.multivariate_normal(mean2, covar, 50)\n",
    "X2 = np.vstack((X2, np.random.multivariate_normal(mean4, covar, 50)))\n",
    "y2 = -1 * np.ones(X2.shape[0])\n",
    "X_train = np.vstack((X1[:80], X2[:80]))\n",
    "y_train = np.hstack((y1[:80], y2[:80]))\n",
    "X_test = np.vstack((X1[80:], X2[80:]))\n",
    "y_test = np.hstack((y1[80:], y2[80:]))\n",
    "print(X_train.shape, y_train.shape, X_test.shape, y_test.shape)"
   ]
  },
  {
   "cell_type": "code",
   "execution_count": 4,
   "metadata": {},
   "outputs": [
    {
     "data": {
      "image/png": "[encoded data removed]",
      "text/plain": [
       "<Figure size 432x288 with 1 Axes>"
      ]
     },
     "metadata": {
      "needs_background": "light"
     },
     "output_type": "display_data"
    }
   ],
   "source": [
    "# 设置颜色参数\n",
    "colors = {1:'r', -1:'g'}\n",
    "# 绘制二分类数据集的散点图\n",
    "plt.scatter(X_train[:,0], X_train[:,1], marker='o', c=pd.Series(y_train).map(colors))\n",
    "plt.show();"
   ]
  },
  {
   "cell_type": "code",
   "execution_count": 9,
   "metadata": {},
   "outputs": [],
   "source": [
    "### 定义高斯核函数\n",
    "def gaussian_kernel(x1, x2, sigma=5.0):\n",
    "    '''\n",
    "    输入:\n",
    "    x1: 向量1\n",
    "    x2: 向量2\n",
    "    输出:\n",
    "    两个向量的高斯核\n",
    "    '''\n",
    "    return np.exp(-1 * np.linalg.norm(x1-x2)**2 / (2 * (sigma ** 2)))"
   ]
  },
  {
   "cell_type": "code",
   "execution_count": 10,
   "metadata": {},
   "outputs": [],
   "source": [
    "from cvxopt import matrix, solvers\n",
    "\n",
    "### 定义线性不可分支持向量机\n",
    "### 借助于高斯核函数转化为线性可分的情形\n",
    "class Non_Linear_SVM:\n",
    "    ### 定义基本参数\n",
    "    def __init__(self, kernel=gaussian_kernel):\n",
    "        # 非线性可分svm核函数，默认为高斯核函数\n",
    "        self.kernel = kernel\n",
    "    \n",
    "    ### 定义非线性可分支持向量机拟合方法\n",
    "    def fit(self, X, y):\n",
    "        # 训练样本数和特征数\n",
    "        m, n = X.shape\n",
    "        \n",
    "        # 基于线性核计算Gram矩阵\n",
    "        K = self._gram_matrix(X)\n",
    "                \n",
    "        # 初始化二次规划相关变量：P/q/A/b/G/h\n",
    "        P = matrix(np.outer(y,y) * K)\n",
    "        q = matrix(np.ones(m) * -1)\n",
    "        A = matrix(y, (1, m))\n",
    "        b = matrix(0.0)\n",
    "        G = matrix(np.diag(np.ones(m) * -1))\n",
    "        h = matrix(np.zeros(m))\n",
    "\n",
    "        # 构建二次规划求解\n",
    "        sol = solvers.qp(P, q, G, h, A, b)\n",
    "        # 拉格朗日乘子\n",
    "        a = np.ravel(sol['x'])\n",
    "\n",
    "        # 寻找支持向量\n",
    "        spv = a > 1e-5\n",
    "        ix = np.arange(len(a))[spv]\n",
    "        self.a = a[spv]\n",
    "        self.spv = X[spv]\n",
    "        self.spv_y = y[spv]\n",
    "        print('{0} support vectors out of {1} points'.format(len(self.a), m))\n",
    "\n",
    "        # 截距向量\n",
    "        self.b = 0\n",
    "        for i in range(len(self.a)):\n",
    "            self.b += self.spv_y[i]\n",
    "            self.b -= np.sum(self.a * self.spv_y * K[ix[i], spv])\n",
    "        self.b /= len(self.a)\n",
    "\n",
    "        # 权重向量\n",
    "        self.w = None\n",
    "\n",
    "    ### 定义Gram矩阵计算函数\n",
    "    def _gram_matrix(self, X):\n",
    "        m, n = X.shape\n",
    "        K = np.zeros((m, m))\n",
    "        # 遍历计算Gram矩阵\n",
    "        for i in range(m):\n",
    "            for j in range(m):\n",
    "                K[i,j] = self.kernel(X[i], X[j])\n",
    "        return K\n",
    "    \n",
    "    ### 定义映射函数\n",
    "    def project(self, X):\n",
    "        y_pred = np.zeros(len(X))\n",
    "        for i in range(X.shape[0]):\n",
    "            s = 0\n",
    "            for a, spv_y, spv in zip(self.a, self.spv_y, self.spv):\n",
    "                s += a * spv_y * self.kernel(X[i], spv)\n",
    "            y_pred[i] = s\n",
    "        return y_pred + self.b\n",
    "    \n",
    "    ### 定义模型预测函数\n",
    "    def predict(self, X):\n",
    "        return np.sign(self.project(X))"
   ]
  },
  {
   "cell_type": "code",
   "execution_count": 11,
   "metadata": {},
   "outputs": [
    {
     "name": "stdout",
     "output_type": "stream",
     "text": [
      "     pcost       dcost       gap    pres   dres\n",
      " 0: -5.3110e+01 -1.6223e+02  4e+02  2e+01  2e+00\n",
      " 1: -8.0716e+01 -1.8786e+02  2e+02  5e+00  7e-01\n",
      " 2: -1.0556e+02 -1.9757e+02  1e+02  3e+00  4e-01\n",
      " 3: -1.7380e+02 -2.7165e+02  1e+02  3e+00  4e-01\n",
      " 4: -2.4244e+02 -2.8787e+02  6e+01  9e-01  1e-01\n",
      " 5: -2.5720e+02 -2.6511e+02  9e+00  1e-01  1e-02\n",
      " 6: -2.6014e+02 -2.6216e+02  2e+00  1e-02  2e-03\n",
      " 7: -2.6162e+02 -2.6165e+02  3e-02  2e-04  2e-05\n",
      " 8: -2.6164e+02 -2.6164e+02  3e-04  2e-06  2e-07\n",
      " 9: -2.6164e+02 -2.6164e+02  3e-06  2e-08  2e-09\n",
      "Optimal solution found.\n",
      "9 support vectors out of 160 points\n",
      "Accuracy of soft margin svm based on cvxopt:  1.0\n"
     ]
    }
   ],
   "source": [
    "# 导入sklearn准确率评估函数\n",
    "from sklearn.metrics import accuracy_score\n",
    "# 创建非线性可分支持向量机模型实例\n",
    "non_linear_svm = Non_Linear_SVM()\n",
    "# 模型拟合\n",
    "non_linear_svm.fit(X_train, y_train)\n",
    "# 模型预测\n",
    "y_pred = non_linear_svm.predict(X_test)\n",
    "# 计算测试集准确率\n",
    "print('Accuracy of soft margin svm based on cvxopt: ', \n",
    "      accuracy_score(y_test, y_pred))"
   ]
  },
  {
   "cell_type": "code",
   "execution_count": 12,
   "metadata": {},
   "outputs": [
    {
     "data": {
      "image/png": "[encoded data removed]",
      "text/plain": [
       "<Figure size 432x288 with 1 Axes>"
      ]
     },
     "metadata": {
      "needs_background": "light"
     },
     "output_type": "display_data"
    }
   ],
   "source": [
    "### 绘制非线性可分支持向量机\n",
    "def plot_classifier(X1_train, X2_train, clf):\n",
    "    plt.plot(X1_train[:,0], X1_train[:,1], \"ro\")\n",
    "    plt.plot(X2_train[:,0], X2_train[:,1], \"go\")\n",
    "    plt.scatter(non_linear_svm.spv[:,0], non_linear_svm.spv[:,1], \n",
    "                s=100, c=\"\", edgecolors=\"b\", label=\"support vector\")\n",
    "\n",
    "    X1, X2 = np.meshgrid(np.linspace(-4,4,50), np.linspace(-4,4,50))\n",
    "    X = np.array([[x1, x2] for x1, x2 in zip(np.ravel(X1), np.ravel(X2))])\n",
    "    Z = non_linear_svm.project(X).reshape(X1.shape)\n",
    "    plt.contour(X1, X2, Z, [0.0], colors='k', linewidths=1, origin='lower')\n",
    "    plt.contour(X1, X2, Z + 1, [0.0], colors='grey', linewidths=1, origin='lower')\n",
    "    plt.contour(X1, X2, Z - 1, [0.0], colors='grey', linewidths=1, origin='lower')\n",
    "    plt.legend()\n",
    "    plt.show()\n",
    "    \n",
    "plot_classifier(X_train[y_train==1], X_train[y_train==-1], non_linear_svm)"
   ]
  },
  {
   "cell_type": "code",
   "execution_count": 14,
   "metadata": {},
   "outputs": [
    {
     "name": "stdout",
     "output_type": "stream",
     "text": [
      "Accuracy of soft margin svm based on sklearn:  1.0\n"
     ]
    },
    {
     "name": "stderr",
     "output_type": "stream",
     "text": [
      "D:\\Installation\\anaconda\\install\\lib\\site-packages\\sklearn\\svm\\base.py:196: FutureWarning: The default value of gamma will change from 'auto' to 'scale' in version 0.22 to account better for unscaled features. Set gamma explicitly to 'auto' or 'scale' to avoid this warning.\n",
      "  \"avoid this warning.\", FutureWarning)\n"
     ]
    }
   ],
   "source": [
    "from sklearn import svm\n",
    "# 创建svm模型实例\n",
    "clf = svm.SVC(kernel='rbf')\n",
    "# 模型拟合\n",
    "clf.fit(X_train, y_train)\n",
    "# 模型预测\n",
    "y_pred = clf.predict(X_test)\n",
    "# 计算测试集准确率\n",
    "print('Accuracy of soft margin svm based on sklearn: ', \n",
    "      accuracy_score(y_test, y_pred))"
   ]
  },
  {
   "cell_type": "code",
   "execution_count": null,
   "metadata": {},
   "outputs": [],
   "source": []
  }
 ],
 "metadata": {
  "kernelspec": {
   "display_name": "Python 3",
   "language": "python",
   "name": "python3"
  },
  "language_info": {
   "codemirror_mode": {
    "name": "ipython",
    "version": 3
   },
   "file_extension": ".py",
   "mimetype": "text/x-python",
   "name": "python",
   "nbconvert_exporter": "python",
   "pygments_lexer": "ipython3",
   "version": "3.7.3"
  },
  "toc": {
   "base_numbering": 1,
   "nav_menu": {},
   "number_sections": true,
   "sideBar": true,
   "skip_h1_title": false,
   "title_cell": "Table of Contents",
   "title_sidebar": "Contents",
   "toc_cell": false,
   "toc_position": {},
   "toc_section_display": true,
   "toc_window_display": false
  }
 },
 "nbformat": 4,
 "nbformat_minor": 2
}
