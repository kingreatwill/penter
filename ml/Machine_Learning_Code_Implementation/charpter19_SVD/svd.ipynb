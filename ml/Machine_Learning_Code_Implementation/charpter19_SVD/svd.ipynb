{
 "cells": [
  {
   "cell_type": "markdown",
   "metadata": {},
   "source": [
    "#### SVD"
   ]
  },
  {
   "cell_type": "code",
   "execution_count": 1,
   "metadata": {},
   "outputs": [],
   "source": [
    "import numpy as np"
   ]
  },
  {
   "cell_type": "code",
   "execution_count": 2,
   "metadata": {},
   "outputs": [
    {
     "data": {
      "text/plain": [
       "array([[0, 1],\n",
       "       [1, 1],\n",
       "       [1, 0]])"
      ]
     },
     "execution_count": 2,
     "metadata": {},
     "output_type": "execute_result"
    }
   ],
   "source": [
    "A = np.array([[0,1],[1,1],[1,0]])\n",
    "A"
   ]
  },
  {
   "cell_type": "code",
   "execution_count": 3,
   "metadata": {},
   "outputs": [
    {
     "name": "stdout",
     "output_type": "stream",
     "text": [
      "(3, 3) (2,) (2, 2)\n"
     ]
    }
   ],
   "source": [
    "u, s, vt = np.linalg.svd(A, full_matrices=True)\n",
    "print(u.shape, s.shape, vt.shape)"
   ]
  },
  {
   "cell_type": "code",
   "execution_count": 4,
   "metadata": {},
   "outputs": [
    {
     "data": {
      "text/plain": [
       "array([[-4.08248290e-01,  7.07106781e-01,  5.77350269e-01],\n",
       "       [-8.16496581e-01,  5.55111512e-17, -5.77350269e-01],\n",
       "       [-4.08248290e-01, -7.07106781e-01,  5.77350269e-01]])"
      ]
     },
     "execution_count": 4,
     "metadata": {},
     "output_type": "execute_result"
    }
   ],
   "source": [
    "u"
   ]
  },
  {
   "cell_type": "code",
   "execution_count": 5,
   "metadata": {},
   "outputs": [
    {
     "data": {
      "text/plain": [
       "array([1.73205081, 1.        ])"
      ]
     },
     "execution_count": 5,
     "metadata": {},
     "output_type": "execute_result"
    }
   ],
   "source": [
    "s"
   ]
  },
  {
   "cell_type": "code",
   "execution_count": 6,
   "metadata": {},
   "outputs": [
    {
     "data": {
      "text/plain": [
       "array([[-0.70710678, -0.70710678],\n",
       "       [-0.70710678,  0.70710678]])"
      ]
     },
     "execution_count": 6,
     "metadata": {},
     "output_type": "execute_result"
    }
   ],
   "source": [
    "vt.T"
   ]
  },
  {
   "cell_type": "code",
   "execution_count": 8,
   "metadata": {},
   "outputs": [
    {
     "data": {
      "text/plain": [
       "True"
      ]
     },
     "execution_count": 8,
     "metadata": {},
     "output_type": "execute_result"
    }
   ],
   "source": [
    "np.allclose(A, np.dot(u[:,:2]*s, vt))"
   ]
  },
  {
   "cell_type": "code",
   "execution_count": 10,
   "metadata": {},
   "outputs": [
    {
     "data": {
      "text/plain": [
       "array([[ 1.11022302e-16,  1.00000000e+00],\n",
       "       [ 1.00000000e+00,  1.00000000e+00],\n",
       "       [ 1.00000000e+00, -3.33066907e-16]])"
      ]
     },
     "execution_count": 10,
     "metadata": {},
     "output_type": "execute_result"
    }
   ],
   "source": [
    "np.dot(u[:,:2]*s, vt)"
   ]
  },
  {
   "cell_type": "code",
   "execution_count": 17,
   "metadata": {},
   "outputs": [
    {
     "data": {
      "text/plain": [
       "array([[1.73205081, 0.        ],\n",
       "       [0.        , 1.        ],\n",
       "       [0.        , 0.        ]])"
      ]
     },
     "execution_count": 17,
     "metadata": {},
     "output_type": "execute_result"
    }
   ],
   "source": [
    "s_ = np.zeros((3,2))\n",
    "for i in range(2):\n",
    "    s_[i][i] = s[i]\n",
    "\n",
    "s_"
   ]
  },
  {
   "cell_type": "code",
   "execution_count": 22,
   "metadata": {},
   "outputs": [
    {
     "data": {
      "text/plain": [
       "array([[ 1.11022302e-16,  1.00000000e+00],\n",
       "       [ 1.00000000e+00,  1.00000000e+00],\n",
       "       [ 1.00000000e+00, -3.33066907e-16]])"
      ]
     },
     "execution_count": 22,
     "metadata": {},
     "output_type": "execute_result"
    }
   ],
   "source": [
    "np.dot(np.dot(u, s_), vt)"
   ]
  },
  {
   "cell_type": "code",
   "execution_count": 7,
   "metadata": {},
   "outputs": [
    {
     "name": "stderr",
     "output_type": "stream",
     "text": [
      "100%|██████████████████████████████████████████████████████████████████████████████████| 50/50 [02:11<00:00,  2.63s/it]\n"
     ]
    }
   ],
   "source": [
    "import numpy as np\n",
    "import os\n",
    "from PIL import Image\n",
    "from tqdm import tqdm\n",
    "\n",
    "# 定义恢复函数，由分解后的矩阵恢复到原矩阵\n",
    "def restore(u, s, v, K): \n",
    "    '''\n",
    "    u:左奇异矩阵\n",
    "    v:右奇异矩阵\n",
    "    s:奇异值矩阵\n",
    "    K:奇异值个数\n",
    "    '''\n",
    "    m, n = len(u), len(v[0])\n",
    "    a = np.zeros((m, n))\n",
    "    for k in range(K):\n",
    "        uk = u[:, k].reshape(m, 1)\n",
    "        vk = v[k].reshape(1, n)\n",
    "        # 前k个奇异值的加总\n",
    "        a += s[k] * np.dot(uk, vk)   \n",
    "    a = a.clip(0, 255)\n",
    "    return np.rint(a).astype('uint8')\n",
    "\n",
    "A = np.array(Image.open(\"./louwill.jpg\", 'r'))\n",
    "# 对RGB图像进行奇异值分解\n",
    "u_r, s_r, v_r = np.linalg.svd(A[:, :, 0])    \n",
    "u_g, s_g, v_g = np.linalg.svd(A[:, :, 1])\n",
    "u_b, s_b, v_b = np.linalg.svd(A[:, :, 2])\n",
    "\n",
    "# 使用前50个奇异值\n",
    "K = 50 \n",
    "output_path = r'./svd_pic'\n",
    "# \n",
    "for k in tqdm(range(1, K+1)):\n",
    "    R = restore(u_r, s_r, v_r, k)\n",
    "    G = restore(u_g, s_g, v_g, k)\n",
    "    B = restore(u_b, s_b, v_b, k)\n",
    "    I = np.stack((R, G, B), axis=2)   \n",
    "    Image.fromarray(I).save('%s\\\\svd_%d.jpg' % (output_path, k))"
   ]
  },
  {
   "cell_type": "code",
   "execution_count": 4,
   "metadata": {},
   "outputs": [
    {
     "data": {
      "text/plain": [
       "(959, 959, 3)"
      ]
     },
     "execution_count": 4,
     "metadata": {},
     "output_type": "execute_result"
    }
   ],
   "source": [
    "A.shape"
   ]
  },
  {
   "cell_type": "code",
   "execution_count": null,
   "metadata": {},
   "outputs": [],
   "source": []
  }
 ],
 "metadata": {
  "kernelspec": {
   "display_name": "Python 3",
   "language": "python",
   "name": "python3"
  },
  "language_info": {
   "codemirror_mode": {
    "name": "ipython",
    "version": 3
   },
   "file_extension": ".py",
   "mimetype": "text/x-python",
   "name": "python",
   "nbconvert_exporter": "python",
   "pygments_lexer": "ipython3",
   "version": "3.7.3"
  },
  "toc": {
   "base_numbering": 1,
   "nav_menu": {},
   "number_sections": true,
   "sideBar": true,
   "skip_h1_title": false,
   "title_cell": "Table of Contents",
   "title_sidebar": "Contents",
   "toc_cell": false,
   "toc_position": {},
   "toc_section_display": true,
   "toc_window_display": false
  }
 },
 "nbformat": 4,
 "nbformat_minor": 2
}
