{
 "cells": [
  {
   "cell_type": "markdown",
   "metadata": {},
   "source": [
    "### XGBoost"
   ]
  },
  {
   "cell_type": "code",
   "execution_count": 1,
   "metadata": {},
   "outputs": [],
   "source": [
    "import numpy as np\n",
    "from cart import TreeNode, BinaryDecisionTree\n",
    "from sklearn.model_selection import train_test_split\n",
    "from sklearn.metrics import accuracy_score\n",
    "from utils import cat_label_convert"
   ]
  },
  {
   "cell_type": "code",
   "execution_count": 8,
   "metadata": {},
   "outputs": [],
   "source": [
    "### XGBoost单棵树类\n",
    "class XGBoost_Single_Tree(BinaryDecisionTree):\n",
    "    # 结点分裂方法\n",
    "    def node_split(self, y):\n",
    "        # 中间特征所在列\n",
    "        feature = int(np.shape(y)[1]/2)\n",
    "        # 左子树为真实值，右子树为预测值\n",
    "        y_true, y_pred = y[:, :feature], y[:, feature:]\n",
    "        return y_true, y_pred\n",
    "\n",
    "    # 信息增益计算方法\n",
    "    def gain(self, y, y_pred):\n",
    "        # 梯度计算\n",
    "        Gradient = np.power((y * self.loss.gradient(y, y_pred)).sum(), 2)\n",
    "        # Hessian矩阵计算\n",
    "        Hessian = self.loss.hess(y, y_pred).sum()\n",
    "        return 0.5 * (Gradient / Hessian)\n",
    "\n",
    "    # 树分裂增益计算\n",
    "    # 式(12.28)\n",
    "    def gain_xgb(self, y, y1, y2):\n",
    "        # 结点分裂\n",
    "        y_true, y_pred = self.node_split(y)\n",
    "        y1, y1_pred = self.node_split(y1)\n",
    "        y2, y2_pred = self.node_split(y2)\n",
    "        true_gain = self.gain(y1, y1_pred)\n",
    "        false_gain = self.gain(y2, y2_pred)\n",
    "        gain = self.gain(y_true, y_pred)\n",
    "        return true_gain + false_gain - gain\n",
    "\n",
    "    # 计算叶子结点最优权重\n",
    "    def leaf_weight(self, y):\n",
    "        y_true, y_pred = self.node_split(y)\n",
    "        # 梯度计算\n",
    "        gradient = np.sum(y_true * self.loss.gradient(y_true, y_pred), axis=0)\n",
    "        # hessian矩阵计算\n",
    "        hessian = np.sum(self.loss.hess(y_true, y_pred), axis=0)\n",
    "        # 叶子结点得分\n",
    "        leaf_weight =  gradient / hessian\n",
    "        return leaf_weight\n",
    "\n",
    "    # 树拟合方法\n",
    "    def fit(self, X, y):\n",
    "        self.impurity_calculation = self.gain_xgb\n",
    "        self._leaf_value_calculation = self.leaf_weight\n",
    "        super(XGBoost_Single_Tree, self).fit(X, y)"
   ]
  },
  {
   "cell_type": "code",
   "execution_count": 9,
   "metadata": {},
   "outputs": [],
   "source": [
    "### 分类损失函数定义\n",
    "# 定义Sigmoid类\n",
    "class Sigmoid:\n",
    "    def __call__(self, x):\n",
    "        return 1 / (1 + np.exp(-x))\n",
    "\n",
    "    def gradient(self, x):\n",
    "        return self.__call__(x) * (1 - self.__call__(x))\n",
    "\n",
    "# 定义Logit损失\n",
    "class LogisticLoss:\n",
    "    def __init__(self):\n",
    "        sigmoid = Sigmoid()\n",
    "        self._func = sigmoid\n",
    "        self._grad = sigmoid.gradient\n",
    "    \n",
    "    # 定义损失函数形式\n",
    "    def loss(self, y, y_pred):\n",
    "        y_pred = np.clip(y_pred, 1e-15, 1 - 1e-15)\n",
    "        p = self._func(y_pred)\n",
    "        return y * np.log(p) + (1 - y) * np.log(1 - p)\n",
    "\n",
    "    # 定义一阶梯度\n",
    "    def gradient(self, y, y_pred):\n",
    "        p = self._func(y_pred)\n",
    "        return -(y - p)\n",
    "\n",
    "    # 定义二阶梯度\n",
    "    def hess(self, y, y_pred):\n",
    "        p = self._func(y_pred)\n",
    "        return p * (1 - p)"
   ]
  },
  {
   "cell_type": "code",
   "execution_count": 10,
   "metadata": {},
   "outputs": [],
   "source": [
    "### XGBoost定义\n",
    "class XGBoost:\n",
    "    def __init__(self, n_estimators=300, learning_rate=0.001, \n",
    "                 min_samples_split=2,\n",
    "                 min_gini_impurity=999, \n",
    "                 max_depth=2):\n",
    "        # 树的棵树\n",
    "        self.n_estimators = n_estimators\n",
    "        # 学习率\n",
    "        self.learning_rate = learning_rate \n",
    "        # 结点分裂最小样本数\n",
    "        self.min_samples_split = min_samples_split \n",
    "        # 结点最小基尼不纯度\n",
    "        self.min_gini_impurity = min_gini_impurity  \n",
    "        # 树最大深度\n",
    "        self.max_depth = max_depth                  \n",
    "        # 用于分类的对数损失\n",
    "        # 回归任务可定义平方损失 \n",
    "        # self.loss = SquaresLoss()\n",
    "        self.loss = LogisticLoss()\n",
    "        # 初始化分类树列表\n",
    "        self.trees = []\n",
    "        # 遍历构造每一棵决策树\n",
    "        for _ in range(n_estimators):\n",
    "            tree = XGBoost_Single_Tree(\n",
    "                    min_samples_split=self.min_samples_split,\n",
    "                    min_gini_impurity=self.min_gini_impurity,\n",
    "                    max_depth=self.max_depth,\n",
    "                    loss=self.loss)\n",
    "            self.trees.append(tree)\n",
    "    \n",
    "    # xgboost拟合方法\n",
    "    def fit(self, X, y):\n",
    "        y = cat_label_convert(y)\n",
    "        y_pred = np.zeros(np.shape(y))\n",
    "        # 拟合每一棵树后进行结果累加\n",
    "        for i in range(self.n_estimators):\n",
    "            tree = self.trees[i]\n",
    "            y_true_pred = np.concatenate((y, y_pred), axis=1)\n",
    "            tree.fit(X, y_true_pred)\n",
    "            iter_pred = tree.predict(X)\n",
    "            y_pred -= np.multiply(self.learning_rate, iter_pred)\n",
    "\n",
    "    # xgboost预测方法\n",
    "    def predict(self, X):\n",
    "        y_pred = None\n",
    "        # 遍历预测\n",
    "        for tree in self.trees:\n",
    "            iter_pred = tree.predict(X)\n",
    "            if y_pred is None:\n",
    "                y_pred = np.zeros_like(iter_pred)\n",
    "            y_pred -= np.multiply(self.learning_rate, iter_pred)\n",
    "        y_pred = np.exp(y_pred) / np.sum(np.exp(y_pred), axis=1, keepdims=True)\n",
    "        # 将概率预测转换为标签\n",
    "        y_pred = np.argmax(y_pred, axis=1)\n",
    "        return y_pred"
   ]
  },
  {
   "cell_type": "code",
   "execution_count": 11,
   "metadata": {},
   "outputs": [
    {
     "name": "stdout",
     "output_type": "stream",
     "text": [
      "Accuracy:  0.9333333333333333\n"
     ]
    }
   ],
   "source": [
    "from sklearn import datasets\n",
    "# 导入鸢尾花数据集\n",
    "data = datasets.load_iris()\n",
    "# 获取输入输出\n",
    "X, y = data.data, data.target\n",
    "# 数据集划分\n",
    "X_train, X_test, y_train, y_test = train_test_split(X, y, test_size=0.2, random_state=43)  \n",
    "# 创建xgboost分类器\n",
    "clf = XGBoost()\n",
    "# 模型拟合\n",
    "clf.fit(X_train, y_train)\n",
    "# 模型预测\n",
    "y_pred = clf.predict(X_test)\n",
    "# 准确率评估\n",
    "accuracy = accuracy_score(y_test, y_pred)\n",
    "print (\"Accuracy: \", accuracy)"
   ]
  },
  {
   "cell_type": "code",
   "execution_count": 13,
   "metadata": {},
   "outputs": [
    {
     "name": "stdout",
     "output_type": "stream",
     "text": [
      "[14:56:53] WARNING: C:/Users/Administrator/workspace/xgboost-win64_release_1.3.0/src/learner.cc:1061: Starting in XGBoost 1.3.0, the default evaluation metric used with the objective 'multi:softmax' was changed from 'merror' to 'mlogloss'. Explicitly set eval_metric if you'd like to restore the old behavior.\n",
      "Accuracy: 0.9666666666666667\n"
     ]
    },
    {
     "data": {
      "image/png": "[encoded data removed]",
      "text/plain": [
       "<Figure size 432x288 with 1 Axes>"
      ]
     },
     "metadata": {
      "needs_background": "light"
     },
     "output_type": "display_data"
    }
   ],
   "source": [
    "import xgboost as xgb\n",
    "from xgboost import plot_importance\n",
    "from matplotlib import pyplot as plt\n",
    "\n",
    "# 设置模型参数\n",
    "params = {\n",
    "    'booster': 'gbtree',\n",
    "    'objective': 'multi:softmax',   \n",
    "    'num_class': 3,     \n",
    "    'gamma': 0.1,\n",
    "    'max_depth': 2,\n",
    "    'lambda': 2,\n",
    "    'subsample': 0.7,\n",
    "    'colsample_bytree': 0.7,\n",
    "    'min_child_weight': 3,\n",
    "    'eta': 0.001,\n",
    "    'seed': 1000,\n",
    "    'nthread': 4,\n",
    "}\n",
    "\n",
    "\n",
    "dtrain = xgb.DMatrix(X_train, y_train)\n",
    "num_rounds = 200\n",
    "model = xgb.train(params, dtrain, num_rounds)\n",
    "# 对测试集进行预测\n",
    "dtest = xgb.DMatrix(X_test)\n",
    "y_pred = model.predict(dtest)\n",
    "\n",
    "# 计算准确率\n",
    "accuracy = accuracy_score(y_test, y_pred)\n",
    "print (\"Accuracy:\", accuracy)\n",
    "# 绘制特征重要性\n",
    "plot_importance(model)\n",
    "plt.show();"
   ]
  },
  {
   "cell_type": "code",
   "execution_count": null,
   "metadata": {},
   "outputs": [],
   "source": [
    "\n"
   ]
  }
 ],
 "metadata": {
  "kernelspec": {
   "display_name": "Python 3",
   "language": "python",
   "name": "python3"
  },
  "language_info": {
   "codemirror_mode": {
    "name": "ipython",
    "version": 3
   },
   "file_extension": ".py",
   "mimetype": "text/x-python",
   "name": "python",
   "nbconvert_exporter": "python",
   "pygments_lexer": "ipython3",
   "version": "3.7.3"
  },
  "toc": {
   "base_numbering": 1,
   "nav_menu": {},
   "number_sections": true,
   "sideBar": true,
   "skip_h1_title": false,
   "title_cell": "Table of Contents",
   "title_sidebar": "Contents",
   "toc_cell": false,
   "toc_position": {},
   "toc_section_display": true,
   "toc_window_display": false
  }
 },
 "nbformat": 4,
 "nbformat_minor": 2
}
