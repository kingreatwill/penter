{
 "cells": [
  {
   "cell_type": "code",
   "execution_count": 3,
   "metadata": {},
   "outputs": [],
   "source": [
    "import numpy as np\n",
    "import pandas as pd"
   ]
  },
  {
   "cell_type": "code",
   "execution_count": 58,
   "metadata": {},
   "outputs": [
    {
     "data": {
      "text/plain": [
       "(101, 101)"
      ]
     },
     "execution_count": 58,
     "metadata": {},
     "output_type": "execute_result"
    }
   ],
   "source": [
    "data = np.genfromtxt('example.dat', delimiter = ',')\n",
    "data.shape"
   ]
  },
  {
   "cell_type": "code",
   "execution_count": 61,
   "metadata": {},
   "outputs": [
    {
     "data": {
      "text/plain": [
       "array([-1.146, -1.292,  0.849,  0.36 ,  0.261,  2.512,  2.319,  0.608,\n",
       "        0.343, -0.289,  0.704,  1.185, -1.443, -0.73 , -0.06 , -0.504,\n",
       "       -0.315,  0.946, -0.325, -0.092,  0.844,  0.326,  0.577, -0.125,\n",
       "       -0.553, -1.371, -0.857,  0.058,  0.275, -0.093,  0.287, -1.299,\n",
       "        0.669,  0.022,  0.286, -0.287,  0.543,  0.673, -0.673,  1.199,\n",
       "        1.356,  1.534, -0.612,  1.917,  1.896,  1.28 ,  0.601, -0.378,\n",
       "        0.349,  2.17 , -1.52 , -0.751, -0.546, -0.463,  0.284,  0.025,\n",
       "       -2.311, -0.432,  0.876, -0.076,  0.667,  1.655, -0.719,  1.394,\n",
       "        0.54 ,  0.553,  1.003, -0.763, -0.262, -1.323, -0.153, -0.308,\n",
       "        0.377,  0.021,  1.059, -0.304,  1.762, -1.381,  0.966, -0.347,\n",
       "        0.927, -1.054, -0.502,  0.12 ,  0.97 ,  2.02 ,  0.01 ,  0.657,\n",
       "       -1.012,  0.933, -1.921,  0.162, -0.606,  1.57 , -1.402, -0.653,\n",
       "       -0.084,  0.781,  1.553, -1.421,  1.192])"
      ]
     },
     "execution_count": 61,
     "metadata": {},
     "output_type": "execute_result"
    }
   ],
   "source": [
    "data[0]"
   ]
  },
  {
   "cell_type": "code",
   "execution_count": 74,
   "metadata": {},
   "outputs": [
    {
     "name": "stdout",
     "output_type": "stream",
     "text": [
      "(70, 101) (70, 1) (31, 101) (31, 1)\n"
     ]
    }
   ],
   "source": [
    "# 选择特征与标签\n",
    "x = data[:,0:100] \n",
    "y = data[:,100].reshape(-1,1)\n",
    "# 加一列\n",
    "X = np.column_stack((np.ones((x.shape[0],1)),x))\n",
    "\n",
    "# 划分训练集与测试集\n",
    "X_train, y_train = X[:70], y[:70]\n",
    "X_test, y_test = X[70:], y[70:]\n",
    "print(X_train.shape, y_train.shape, X_test.shape, y_test.shape)"
   ]
  },
  {
   "cell_type": "code",
   "execution_count": 13,
   "metadata": {},
   "outputs": [],
   "source": [
    "# 定义参数初始化函数\n",
    "def initialize(dims):\n",
    "    w = np.zeros((dims, 1))\n",
    "    b = 0\n",
    "    return w, b"
   ]
  },
  {
   "cell_type": "code",
   "execution_count": 1,
   "metadata": {},
   "outputs": [],
   "source": [
    "# 定义符号函数\n",
    "def sign(x):\n",
    "    if x > 0:\n",
    "        return 1\n",
    "    elif x < 0:\n",
    "        return -1\n",
    "    else:\n",
    "        return 0"
   ]
  },
  {
   "cell_type": "code",
   "execution_count": 20,
   "metadata": {},
   "outputs": [
    {
     "data": {
      "text/plain": [
       "array([[0],\n",
       "       [0],\n",
       "       [0]])"
      ]
     },
     "execution_count": 20,
     "metadata": {},
     "output_type": "execute_result"
    }
   ],
   "source": [
    "# 利用numpy对符号函数进行向量化\n",
    "vec_sign = np.vectorize(sign)\n",
    "vec_sign(np.zeros((3,1)))"
   ]
  },
  {
   "cell_type": "code",
   "execution_count": 7,
   "metadata": {},
   "outputs": [],
   "source": [
    "# 定义lasso损失函数\n",
    "def l1_loss(X, y, w, b, alpha):\n",
    "    num_train = X.shape[0]\n",
    "    num_feature = X.shape[1]\n",
    "    y_hat = np.dot(X, w) + b\n",
    "    loss = np.sum((y_hat-y)**2)/num_train + np.sum(alpha*abs(w))\n",
    "    dw = np.dot(X.T, (y_hat-y)) /num_train + alpha * vec_sign(w)\n",
    "    db = np.sum((y_hat-y)) /num_train\n",
    "    return y_hat, loss, dw, db"
   ]
  },
  {
   "cell_type": "code",
   "execution_count": 98,
   "metadata": {},
   "outputs": [],
   "source": [
    "# 定义训练过程\n",
    "def lasso_train(X, y, learning_rate=0.01, epochs=300):\n",
    "    loss_list = []\n",
    "    w, b = initialize(X.shape[1])\n",
    "    for i in range(1, epochs):\n",
    "        y_hat, loss, dw, db = l1_loss(X, y, w, b, 0.1)\n",
    "        w += -learning_rate * dw\n",
    "        b += -learning_rate * db\n",
    "        loss_list.append(loss)\n",
    "        \n",
    "        if i % 300 == 0:\n",
    "            print('epoch %d loss %f' % (i, loss))\n",
    "        params = {\n",
    "            'w': w,\n",
    "            'b': b\n",
    "        }\n",
    "        grads = {\n",
    "            'dw': dw,\n",
    "            'db': db\n",
    "        }\n",
    "    return loss, loss_list, params, grads"
   ]
  },
  {
   "cell_type": "code",
   "execution_count": 99,
   "metadata": {},
   "outputs": [
    {
     "name": "stdout",
     "output_type": "stream",
     "text": [
      "epoch 300 loss 1.673867\n",
      "epoch 600 loss 1.555281\n",
      "epoch 900 loss 1.524316\n",
      "epoch 1200 loss 1.511976\n",
      "epoch 1500 loss 1.509368\n",
      "epoch 1800 loss 1.508463\n",
      "epoch 2100 loss 1.508338\n",
      "epoch 2400 loss 1.508864\n",
      "epoch 2700 loss 1.509530\n"
     ]
    }
   ],
   "source": [
    "# 执行训练示例\n",
    "loss, loss_list, params, grads = lasso_train(X_train, y_train, 0.01, 3000)"
   ]
  },
  {
   "cell_type": "code",
   "execution_count": 100,
   "metadata": {},
   "outputs": [
    {
     "data": {
      "text/plain": [
       "{'b': -0.24041528707142965, 'w': array([[-0.   ],\n",
       "        [-0.   ],\n",
       "        [ 0.594],\n",
       "        [ 0.634],\n",
       "        [ 0.001],\n",
       "        [ 0.999],\n",
       "        [-0.   ],\n",
       "        [ 0.821],\n",
       "        [-0.238],\n",
       "        [ 0.001],\n",
       "        [ 0.   ],\n",
       "        [ 0.792],\n",
       "        [ 0.   ],\n",
       "        [ 0.738],\n",
       "        [-0.   ],\n",
       "        [-0.129],\n",
       "        [ 0.   ],\n",
       "        [ 0.784],\n",
       "        [-0.001],\n",
       "        [ 0.82 ],\n",
       "        [ 0.001],\n",
       "        [ 0.001],\n",
       "        [ 0.   ],\n",
       "        [ 0.561],\n",
       "        [ 0.   ],\n",
       "        [-0.001],\n",
       "        [-0.   ],\n",
       "        [-0.001],\n",
       "        [ 0.   ],\n",
       "        [ 0.488],\n",
       "        [-0.   ],\n",
       "        [-0.   ],\n",
       "        [-0.   ],\n",
       "        [ 0.001],\n",
       "        [-0.001],\n",
       "        [-0.001],\n",
       "        [ 0.   ],\n",
       "        [-0.   ],\n",
       "        [ 0.001],\n",
       "        [-0.001],\n",
       "        [-0.001],\n",
       "        [-0.   ],\n",
       "        [ 0.001],\n",
       "        [-0.001],\n",
       "        [-0.006],\n",
       "        [ 0.002],\n",
       "        [ 0.001],\n",
       "        [-0.001],\n",
       "        [-0.   ],\n",
       "        [ 0.028],\n",
       "        [-0.001],\n",
       "        [ 0.   ],\n",
       "        [ 0.001],\n",
       "        [-0.   ],\n",
       "        [ 0.001],\n",
       "        [-0.065],\n",
       "        [ 0.251],\n",
       "        [-0.   ],\n",
       "        [-0.044],\n",
       "        [-0.   ],\n",
       "        [ 0.106],\n",
       "        [ 0.03 ],\n",
       "        [ 0.001],\n",
       "        [ 0.   ],\n",
       "        [-0.   ],\n",
       "        [-0.001],\n",
       "        [ 0.   ],\n",
       "        [ 0.   ],\n",
       "        [-0.001],\n",
       "        [ 0.132],\n",
       "        [ 0.239],\n",
       "        [-0.001],\n",
       "        [ 0.   ],\n",
       "        [ 0.169],\n",
       "        [ 0.001],\n",
       "        [ 0.013],\n",
       "        [ 0.001],\n",
       "        [-0.   ],\n",
       "        [ 0.002],\n",
       "        [ 0.001],\n",
       "        [-0.   ],\n",
       "        [ 0.202],\n",
       "        [-0.001],\n",
       "        [ 0.   ],\n",
       "        [-0.001],\n",
       "        [-0.042],\n",
       "        [-0.106],\n",
       "        [-0.   ],\n",
       "        [ 0.025],\n",
       "        [-0.111],\n",
       "        [ 0.   ],\n",
       "        [-0.001],\n",
       "        [ 0.134],\n",
       "        [ 0.001],\n",
       "        [ 0.   ],\n",
       "        [-0.055],\n",
       "        [-0.   ],\n",
       "        [ 0.095],\n",
       "        [ 0.   ],\n",
       "        [-0.178],\n",
       "        [ 0.067]])}"
      ]
     },
     "execution_count": 100,
     "metadata": {},
     "output_type": "execute_result"
    }
   ],
   "source": [
    "# 获取训练参数\n",
    "params"
   ]
  },
  {
   "cell_type": "code",
   "execution_count": 101,
   "metadata": {},
   "outputs": [
    {
     "data": {
      "text/plain": [
       "array([[-0.469],\n",
       "       [-2.869],\n",
       "       [ 0.446],\n",
       "       [-0.552],\n",
       "       [-3.158]])"
      ]
     },
     "execution_count": 101,
     "metadata": {},
     "output_type": "execute_result"
    }
   ],
   "source": [
    "# 定义预测函数\n",
    "def predict(X, params):\n",
    "    w = params['w']\n",
    "    b = params['b']\n",
    "    \n",
    "    y_pred = np.dot(X, w) + b\n",
    "    return y_pred\n",
    "\n",
    "y_pred = predict(X_test, params)\n",
    "y_pred[:5]"
   ]
  },
  {
   "cell_type": "code",
   "execution_count": 95,
   "metadata": {},
   "outputs": [
    {
     "data": {
      "text/plain": [
       "array([[ 0.247],\n",
       "       [-4.257],\n",
       "       [ 2.386],\n",
       "       [-1.878],\n",
       "       [-3.414]])"
      ]
     },
     "execution_count": 95,
     "metadata": {},
     "output_type": "execute_result"
    }
   ],
   "source": [
    "y_test[:5]"
   ]
  },
  {
   "cell_type": "code",
   "execution_count": 102,
   "metadata": {},
   "outputs": [
    {
     "data": {
      "text/plain": [
       "0.5704547131357188"
      ]
     },
     "execution_count": 102,
     "metadata": {},
     "output_type": "execute_result"
    }
   ],
   "source": [
    "from sklearn.metrics import r2_score\n",
    "r2_score(y_pred, y_test)"
   ]
  },
  {
   "cell_type": "code",
   "execution_count": 78,
   "metadata": {},
   "outputs": [
    {
     "data": {
      "image/png": "[encoded data removed]",
      "text/plain": [
       "<Figure size 432x288 with 1 Axes>"
      ]
     },
     "metadata": {},
     "output_type": "display_data"
    }
   ],
   "source": [
    "# 简单绘图\n",
    "import matplotlib.pyplot as plt\n",
    "f = X_test.dot(params['w']) + params['b']\n",
    "\n",
    "plt.scatter(range(X_test.shape[0]), y_test)\n",
    "plt.plot(f, color = 'darkorange')\n",
    "plt.xlabel('X')\n",
    "plt.ylabel('y')\n",
    "plt.show();"
   ]
  },
  {
   "cell_type": "code",
   "execution_count": 79,
   "metadata": {},
   "outputs": [
    {
     "data": {
      "image/png": "[encoded data removed]",
      "text/plain": [
       "<Figure size 432x288 with 1 Axes>"
      ]
     },
     "metadata": {},
     "output_type": "display_data"
    }
   ],
   "source": [
    "# 训练过程中的损失下降\n",
    "plt.plot(loss_list, color = 'blue')\n",
    "plt.xlabel('epochs')\n",
    "plt.ylabel('loss')\n",
    "plt.show()"
   ]
  },
  {
   "cell_type": "code",
   "execution_count": 83,
   "metadata": {},
   "outputs": [
    {
     "name": "stdout",
     "output_type": "stream",
     "text": [
      "sklearn Lasso intercept : [-0.238]\n",
      "\n",
      "sklearn Lasso coefficients :\n",
      " [ 0.    -0.     0.598  0.642  0.     1.007 -0.     0.818 -0.228  0.\n",
      "  0.     0.794  0.     0.741 -0.    -0.125 -0.     0.794  0.     0.819\n",
      "  0.     0.    -0.     0.567 -0.    -0.    -0.    -0.    -0.     0.495\n",
      "  0.     0.     0.     0.    -0.    -0.    -0.    -0.    -0.    -0.\n",
      "  0.    -0.     0.    -0.    -0.008  0.     0.    -0.    -0.     0.02\n",
      "  0.    -0.     0.    -0.     0.    -0.068  0.246  0.    -0.042 -0.\n",
      "  0.105  0.032  0.     0.     0.    -0.    -0.     0.    -0.     0.125\n",
      "  0.234 -0.     0.     0.169  0.     0.016  0.    -0.     0.     0.\n",
      " -0.     0.201 -0.    -0.     0.    -0.041 -0.107 -0.     0.024 -0.108\n",
      " -0.    -0.     0.123  0.     0.    -0.059 -0.     0.094 -0.    -0.178\n",
      "  0.066]\n",
      "\n",
      "sklearn Lasso number of iterations : 24\n"
     ]
    }
   ],
   "source": [
    "# 导入线性模型模块\n",
    "from sklearn import linear_model\n",
    "# 创建lasso模型实例\n",
    "sk_lasso = linear_model.Lasso(alpha=0.1)\n",
    "# 对训练集进行拟合\n",
    "sk_lasso.fit(X_train, y_train)\n",
    "# 打印模型相关系数\n",
    "print(\"sklearn Lasso intercept :\", sk_lasso.intercept_)\n",
    "print(\"\\nsklearn Lasso coefficients :\\n\", sk_lasso.coef_)\n",
    "print(\"\\nsklearn Lasso number of iterations :\", sk_lasso.n_iter_)"
   ]
  },
  {
   "cell_type": "code",
   "execution_count": null,
   "metadata": {},
   "outputs": [],
   "source": []
  }
 ],
 "metadata": {
  "kernelspec": {
   "display_name": "Python 3",
   "language": "python",
   "name": "python3"
  },
  "language_info": {
   "codemirror_mode": {
    "name": "ipython",
    "version": 3
   },
   "file_extension": ".py",
   "mimetype": "text/x-python",
   "name": "python",
   "nbconvert_exporter": "python",
   "pygments_lexer": "ipython3",
   "version": "3.6.4"
  },
  "toc": {
   "base_numbering": 1,
   "nav_menu": {},
   "number_sections": true,
   "sideBar": true,
   "skip_h1_title": false,
   "title_cell": "Table of Contents",
   "title_sidebar": "Contents",
   "toc_cell": false,
   "toc_position": {},
   "toc_section_display": true,
   "toc_window_display": false
  }
 },
 "nbformat": 4,
 "nbformat_minor": 2
}
