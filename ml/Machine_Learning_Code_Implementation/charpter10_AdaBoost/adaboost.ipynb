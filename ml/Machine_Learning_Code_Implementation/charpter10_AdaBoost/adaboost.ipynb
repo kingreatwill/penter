{
 "cells": [
  {
   "cell_type": "code",
   "execution_count": 1,
   "metadata": {},
   "outputs": [],
   "source": [
    "import numpy as np\n",
    "import pandas as pd\n",
    "import matplotlib.pyplot as plt"
   ]
  },
  {
   "cell_type": "code",
   "execution_count": 2,
   "metadata": {},
   "outputs": [
    {
     "data": {
      "image/png": "[encoded data removed]",
      "text/plain": [
       "<Figure size 432x288 with 1 Axes>"
      ]
     },
     "metadata": {
      "needs_background": "light"
     },
     "output_type": "display_data"
    }
   ],
   "source": [
    "from sklearn.model_selection import train_test_split\n",
    "# 导入sklearn模拟二分类数据生成模块\n",
    "from sklearn.datasets.samples_generator import make_blobs\n",
    "# 生成模拟二分类数据集\n",
    "X, y =  make_blobs(n_samples=150, n_features=2, centers=2,\n",
    "  cluster_std=1.2, random_state=40)\n",
    "# 将标签转换为1/-1\n",
    "y_ = y.copy()\n",
    "y_[y_==0] = -1\n",
    "y_ = y_.astype(float)\n",
    "# 训练/测试数据集划分\n",
    "X_train, X_test, y_train, y_test = train_test_split(X, y_,\n",
    " test_size=0.3, random_state=43)\n",
    "# 设置颜色参数\n",
    "colors = {0:'r', 1:'g'}\n",
    "# 绘制二分类数据集的散点图\n",
    "plt.scatter(X[:,0], X[:,1], marker='o', c=pd.Series(y).map(colors))\n",
    "plt.show();"
   ]
  },
  {
   "cell_type": "code",
   "execution_count": 3,
   "metadata": {},
   "outputs": [],
   "source": [
    "### 定义决策树桩类\n",
    "### 作为Adaboost弱分类器\n",
    "class DecisionStump():\n",
    "    def __init__(self):\n",
    "        # 基于划分阈值决定样本分类为1还是-1\n",
    "        self.label = 1\n",
    "        # 特征索引\n",
    "        self.feature_index = None\n",
    "        # 特征划分阈值\n",
    "        self.threshold = None\n",
    "        # 指示分类准确率的值\n",
    "        self.alpha = None"
   ]
  },
  {
   "cell_type": "code",
   "execution_count": 4,
   "metadata": {},
   "outputs": [],
   "source": [
    "### 定义AdaBoost算法类\n",
    "class Adaboost:\n",
    "    # 弱分类器个数\n",
    "    def __init__(self, n_estimators=5):\n",
    "        self.n_estimators = n_estimators\n",
    "        \n",
    "    # Adaboost拟合算法\n",
    "    def fit(self, X, y):\n",
    "        m, n = X.shape\n",
    "        # (1) 初始化权重分布为均匀分布 1/N\n",
    "        w = np.full(m, (1/m))\n",
    "        # 处初始化基分类器列表\n",
    "        self.estimators = []\n",
    "        # (2) for m in (1,2,...,M)\n",
    "        for _ in range(self.n_estimators):\n",
    "            # (2.a) 训练一个弱分类器：决策树桩\n",
    "            estimator = DecisionStump()\n",
    "            # 设定一个最小化误差\n",
    "            min_error = float('inf')\n",
    "            # 遍历数据集特征，根据最小分类误差率选择最优划分特征\n",
    "            for i in range(n):\n",
    "                # 获取特征值\n",
    "                values = np.expand_dims(X[:, i], axis=1)\n",
    "                # 特征取值去重\n",
    "                unique_values = np.unique(values)\n",
    "                # 尝试将每一个特征值作为分类阈值\n",
    "                for threshold in unique_values:\n",
    "                    p = 1\n",
    "                    # 初始化所有预测值为1\n",
    "                    pred = np.ones(np.shape(y))\n",
    "                    # 小于分类阈值的预测值为-1\n",
    "                    pred[X[:, i] < threshold] = -1\n",
    "                    # 2.b 计算误差率\n",
    "                    error = sum(w[y != pred])\n",
    "                    \n",
    "                    # 如果分类误差大于0.5，则进行正负预测翻转\n",
    "                    # 例如 error = 0.6 => (1 - error) = 0.4\n",
    "                    if error > 0.5:\n",
    "                        error = 1 - error\n",
    "                        p = -1\n",
    "\n",
    "                    # 一旦获得最小误差则保存相关参数配置\n",
    "                    if error < min_error:\n",
    "                        estimator.label = p\n",
    "                        estimator.threshold = threshold\n",
    "                        estimator.feature_index = i\n",
    "                        min_error = error\n",
    "                        \n",
    "            # 2.c 计算基分类器的权重\n",
    "            estimator.alpha = 0.5 * np.log((1.0 - min_error) / (min_error + 1e-9))\n",
    "            # 初始化所有预测值为1\n",
    "            preds = np.ones(np.shape(y))\n",
    "            # 获取所有小于阈值的负类索引\n",
    "            negative_idx = (estimator.label * X[:, estimator.feature_index] < estimator.label * estimator.threshold)\n",
    "            # 将负类设为 '-1'\n",
    "            preds[negative_idx] = -1\n",
    "            # 2.d 更新样本权重\n",
    "            w *= np.exp(-estimator.alpha * y * preds)\n",
    "            w /= np.sum(w)\n",
    "\n",
    "            # 保存该弱分类器\n",
    "            self.estimators.append(estimator)\n",
    "    \n",
    "    # 定义预测函数\n",
    "    def predict(self, X):\n",
    "        m = len(X)\n",
    "        y_pred = np.zeros((m, 1))\n",
    "        # 计算每个弱分类器的预测值\n",
    "        for estimator in self.estimators:\n",
    "            # 初始化所有预测值为1\n",
    "            predictions = np.ones(np.shape(y_pred))\n",
    "            # 获取所有小于阈值的负类索引\n",
    "            negative_idx = (estimator.label * X[:, estimator.feature_index] < estimator.label * estimator.threshold)\n",
    "            # 将负类设为 '-1'\n",
    "            predictions[negative_idx] = -1\n",
    "            # 2.e 对每个弱分类器的预测结果进行加权\n",
    "            y_pred += estimator.alpha * predictions\n",
    "\n",
    "        # 返回最终预测结果\n",
    "        y_pred = np.sign(y_pred).flatten()\n",
    "        return y_pred"
   ]
  },
  {
   "cell_type": "code",
   "execution_count": 5,
   "metadata": {},
   "outputs": [
    {
     "name": "stdout",
     "output_type": "stream",
     "text": [
      "Accuracy of AdaBoost by numpy: 0.9777777777777777\n"
     ]
    }
   ],
   "source": [
    "# 导入sklearn准确率计算函数\n",
    "from sklearn.metrics import accuracy_score\n",
    "# 创建Adaboost模型实例\n",
    "clf = Adaboost(n_estimators=5)\n",
    "# 模型拟合\n",
    "clf.fit(X_train, y_train)\n",
    "# 模型预测\n",
    "y_pred = clf.predict(X_test)\n",
    "# 计算模型预测准确率\n",
    "accuracy = accuracy_score(y_test, y_pred)\n",
    "print(\"Accuracy of AdaBoost by numpy:\", accuracy)"
   ]
  },
  {
   "cell_type": "code",
   "execution_count": 8,
   "metadata": {},
   "outputs": [
    {
     "name": "stdout",
     "output_type": "stream",
     "text": [
      "Accuracy of AdaBoost by sklearn: 0.9777777777777777\n"
     ]
    }
   ],
   "source": [
    "# 导入sklearn adaboost分类器\n",
    "from sklearn.ensemble import AdaBoostClassifier\n",
    "# 创建Adaboost模型实例\n",
    "clf_ = AdaBoostClassifier(n_estimators=5, random_state=0)\n",
    "# 模型拟合\n",
    "clf_.fit(X_train, y_train)\n",
    "# 模型预测\n",
    "y_pred_ = clf_.predict(X_test)\n",
    "# 计算模型预测准确率\n",
    "accuracy = accuracy_score(y_test, y_pred_)\n",
    "print(\"Accuracy of AdaBoost by sklearn:\", accuracy)"
   ]
  },
  {
   "cell_type": "code",
   "execution_count": null,
   "metadata": {},
   "outputs": [],
   "source": []
  }
 ],
 "metadata": {
  "kernelspec": {
   "display_name": "Python 3",
   "language": "python",
   "name": "python3"
  },
  "language_info": {
   "codemirror_mode": {
    "name": "ipython",
    "version": 3
   },
   "file_extension": ".py",
   "mimetype": "text/x-python",
   "name": "python",
   "nbconvert_exporter": "python",
   "pygments_lexer": "ipython3",
   "version": "3.7.3"
  },
  "toc": {
   "base_numbering": 1,
   "nav_menu": {},
   "number_sections": true,
   "sideBar": true,
   "skip_h1_title": false,
   "title_cell": "Table of Contents",
   "title_sidebar": "Contents",
   "toc_cell": false,
   "toc_position": {},
   "toc_section_display": true,
   "toc_window_display": false
  }
 },
 "nbformat": 4,
 "nbformat_minor": 2
}
